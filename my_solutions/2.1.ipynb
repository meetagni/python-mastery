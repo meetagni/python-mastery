{
 "cells": [
  {
   "cell_type": "code",
   "execution_count": 1,
   "metadata": {},
   "outputs": [
    {
     "data": {
      "text/plain": [
       "'route,date,daytype,rides\\n'"
      ]
     },
     "execution_count": 1,
     "metadata": {},
     "output_type": "execute_result"
    }
   ],
   "source": [
    "f= open('Data/ctabus.csv')\n",
    "next(f)"
   ]
  },
  {
   "cell_type": "code",
   "execution_count": 2,
   "metadata": {},
   "outputs": [
    {
     "data": {
      "text/plain": [
       "'3,01/01/2001,U,7354\\n'"
      ]
     },
     "execution_count": 2,
     "metadata": {},
     "output_type": "execute_result"
    }
   ],
   "source": [
    "next(f)"
   ]
  },
  {
   "cell_type": "code",
   "execution_count": 3,
   "metadata": {},
   "outputs": [
    {
     "data": {
      "text/plain": [
       "'4,01/01/2001,U,9288\\n'"
      ]
     },
     "execution_count": 3,
     "metadata": {},
     "output_type": "execute_result"
    }
   ],
   "source": [
    "next(f)"
   ]
  },
  {
   "cell_type": "code",
   "execution_count": 4,
   "metadata": {},
   "outputs": [
    {
     "data": {
      "text/plain": [
       "12361039"
      ]
     },
     "execution_count": 4,
     "metadata": {},
     "output_type": "execute_result"
    }
   ],
   "source": [
    "# --- RESTART\n",
    "import tracemalloc\n",
    "f= open('Data/ctabus.csv')\n",
    "tracemalloc.start()\n",
    "data= f.read()\n",
    "len(data)"
   ]
  },
  {
   "cell_type": "code",
   "execution_count": 5,
   "metadata": {},
   "outputs": [
    {
     "data": {
      "text/plain": [
       "12387131"
      ]
     },
     "execution_count": 5,
     "metadata": {},
     "output_type": "execute_result"
    }
   ],
   "source": [
    "current, peak= tracemalloc.get_traced_memory()\n",
    "current"
   ]
  },
  {
   "cell_type": "code",
   "execution_count": 6,
   "metadata": {},
   "outputs": [
    {
     "data": {
      "text/plain": [
       "24723580"
      ]
     },
     "execution_count": 6,
     "metadata": {},
     "output_type": "execute_result"
    }
   ],
   "source": [
    "peak"
   ]
  },
  {
   "cell_type": "code",
   "execution_count": 1,
   "metadata": {},
   "outputs": [
    {
     "data": {
      "text/plain": [
       "577564"
      ]
     },
     "execution_count": 1,
     "metadata": {},
     "output_type": "execute_result"
    }
   ],
   "source": [
    "# --- RESTART\n",
    "import tracemalloc\n",
    "f= open('Data/ctabus.csv')\n",
    "tracemalloc.start()\n",
    "lines= f.readlines()\n",
    "len(lines)"
   ]
  },
  {
   "cell_type": "code",
   "execution_count": 2,
   "metadata": {},
   "outputs": [
    {
     "data": {
      "text/plain": [
       "45401678"
      ]
     },
     "execution_count": 2,
     "metadata": {},
     "output_type": "execute_result"
    }
   ],
   "source": [
    "current, peak= tracemalloc.get_traced_memory()\n",
    "current"
   ]
  },
  {
   "cell_type": "code",
   "execution_count": 3,
   "metadata": {},
   "outputs": [
    {
     "data": {
      "text/plain": [
       "45412399"
      ]
     },
     "execution_count": 3,
     "metadata": {},
     "output_type": "execute_result"
    }
   ],
   "source": [
    "peak"
   ]
  },
  {
   "cell_type": "markdown",
   "metadata": {},
   "source": [
    "### The list of strings is 45MB. All data in one string is 12-24MB."
   ]
  },
  {
   "cell_type": "markdown",
   "metadata": {},
   "source": [
    "#### List of tuples"
   ]
  },
  {
   "cell_type": "code",
   "execution_count": 1,
   "metadata": {},
   "outputs": [
    {
     "name": "stdout",
     "output_type": "stream",
     "text": [
      "[('3', '01/01/2001', 'U', 7354), ('4', '01/01/2001', 'U', 9288)]\n",
      "Current: 123691957  Peak: 123721878\n"
     ]
    }
   ],
   "source": [
    "# --- RESTART\n",
    "import tracemalloc\n",
    "import readrides\n",
    "tracemalloc.start()\n",
    "rows= readrides.read_rides_as_tuples('Data/ctabus.csv')\n",
    "current, peak= tracemalloc.get_traced_memory()\n",
    "print(rows[:2])\n",
    "print(\"Current:\", current,\" Peak:\", peak)"
   ]
  },
  {
   "cell_type": "markdown",
   "metadata": {},
   "source": [
    "#### As list of dictionaries"
   ]
  },
  {
   "cell_type": "code",
   "execution_count": 1,
   "metadata": {},
   "outputs": [
    {
     "name": "stdout",
     "output_type": "stream",
     "text": [
      "{'route': ['3', '4'], 'date': ['01/01/2001', '01/01/2001'], 'daytype': ['U', 'U'], 'rides': [7354, 9288]}\n",
      "Current: 96170970  Peak: 96201523\n"
     ]
    }
   ],
   "source": [
    "# --- RESTART\n",
    "import tracemalloc\n",
    "import readrides\n",
    "tracemalloc.start()\n",
    "rows= readrides.read_rides_as_dictionary('../Data/ctabus.csv')\n",
    "current, peak= tracemalloc.get_traced_memory()\n",
    "print(rows[:2])\n",
    "print(\"Current:\", current,\" Peak:\", peak)"
   ]
  },
  {
   "cell_type": "markdown",
   "metadata": {},
   "source": [
    "188 MB before modifications.\n",
    "96 MB after."
   ]
  },
  {
   "cell_type": "markdown",
   "metadata": {},
   "source": [
    "#### As class objects"
   ]
  },
  {
   "cell_type": "code",
   "execution_count": 1,
   "metadata": {},
   "outputs": [
    {
     "name": "stdout",
     "output_type": "stream",
     "text": [
      "[<readrides.Row object at 0x7ff520299650>, <readrides.Row object at 0x7ff520299510>]\n",
      "Current: 142176918  Peak: 142206511\n"
     ]
    }
   ],
   "source": [
    "# --- RESTART\n",
    "import tracemalloc\n",
    "import readrides\n",
    "tracemalloc.start()\n",
    "rows= readrides.read_rides_as_class('Data/ctabus.csv')\n",
    "current, peak= tracemalloc.get_traced_memory()\n",
    "print(rows[:2])\n",
    "print(\"Current:\", current,\" Peak:\", peak)"
   ]
  },
  {
   "cell_type": "markdown",
   "metadata": {},
   "source": [
    "#### As class with slots"
   ]
  },
  {
   "cell_type": "code",
   "execution_count": 1,
   "metadata": {},
   "outputs": [
    {
     "name": "stdout",
     "output_type": "stream",
     "text": [
      "[<readrides.Row_with_slots object at 0x7f2860cefc40>, <readrides.Row_with_slots object at 0x7f2860ced3c0>]\n",
      "Current: 119070850  Peak: 119100443\n"
     ]
    }
   ],
   "source": [
    "# --- RESTART\n",
    "import tracemalloc\n",
    "import readrides\n",
    "tracemalloc.start()\n",
    "rows= readrides.read_rides_as_class_with_slots('Data/ctabus.csv')\n",
    "current, peak= tracemalloc.get_traced_memory()\n",
    "print(rows[:2])\n",
    "print(\"Current:\", current,\" Peak:\", peak)"
   ]
  },
  {
   "cell_type": "markdown",
   "metadata": {},
   "source": [
    "#### As named tuples"
   ]
  },
  {
   "cell_type": "code",
   "execution_count": 2,
   "metadata": {},
   "outputs": [
    {
     "name": "stdout",
     "output_type": "stream",
     "text": [
      "[Rides_namedtuple(route='3', date='01/01/2001', daytype='U', rides=7354), Rides_namedtuple(route='4', date='01/01/2001', daytype='U', rides=9288)]\n",
      "Current: 128342073  Peak: 247439693\n"
     ]
    }
   ],
   "source": [
    "# --- RESTART\n",
    "import tracemalloc\n",
    "import readrides\n",
    "tracemalloc.start()\n",
    "rows= readrides.read_rides_as_namedtuple('Data/ctabus.csv')\n",
    "current, peak= tracemalloc.get_traced_memory()\n",
    "print(rows[:2])\n",
    "print(\"Current:\", current,\" Peak:\", peak)"
   ]
  },
  {
   "cell_type": "markdown",
   "metadata": {},
   "source": [
    "#### As dataclass"
   ]
  },
  {
   "cell_type": "code",
   "execution_count": 1,
   "metadata": {},
   "outputs": [
    {
     "name": "stdout",
     "output_type": "stream",
     "text": [
      "[Row_dataclass(route='3', date='01/01/2001', daytype='U', rides=7354), Row_dataclass(route='4', date='01/01/2001', daytype='U', rides=9288)]\n",
      "Current: 142176130  Peak: 142205723\n"
     ]
    }
   ],
   "source": [
    "# --- RESTART\n",
    "import tracemalloc\n",
    "import readrides\n",
    "tracemalloc.start()\n",
    "rows= readrides.read_rides_as_dataclass('Data/ctabus.csv')\n",
    "current, peak= tracemalloc.get_traced_memory()\n",
    "print(rows[:2])\n",
    "print(\"Current:\", current,\" Peak:\", peak)"
   ]
  },
  {
   "cell_type": "markdown",
   "metadata": {},
   "source": [
    "### Conclusions"
   ]
  },
  {
   "cell_type": "markdown",
   "metadata": {},
   "source": [
    "##### As one string:            12-24MB\n",
    "##### As list of strings:       45MB\n",
    "##### As list of tuples:        123MB\n",
    "##### As list of dictionaries:  188MB\n",
    "##### As class objects:         142MB\n",
    "##### As class with slots:      119MB\n",
    "##### As named tuples:          128-247MB\n",
    "##### As dataclass:             142MB\n",
    "\n",
    "### one_string > list_of_strings > class_with_slots > list_of_tuples > class_objects = dataclass > list_of_dictionaries > named_tuples"
   ]
  }
 ],
 "metadata": {
  "kernelspec": {
   "display_name": "Python 3",
   "language": "python",
   "name": "python3"
  },
  "language_info": {
   "codemirror_mode": {
    "name": "ipython",
    "version": 3
   },
   "file_extension": ".py",
   "mimetype": "text/x-python",
   "name": "python",
   "nbconvert_exporter": "python",
   "pygments_lexer": "ipython3",
   "version": "3.11.5"
  },
  "orig_nbformat": 4
 },
 "nbformat": 4,
 "nbformat_minor": 2
}
