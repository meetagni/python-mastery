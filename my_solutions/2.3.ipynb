{
 "cells": [
  {
   "cell_type": "code",
   "execution_count": 2,
   "metadata": {},
   "outputs": [
    {
     "data": {
      "text/plain": [
       "['name', 'shares', 'price']"
      ]
     },
     "execution_count": 2,
     "metadata": {},
     "output_type": "execute_result"
    }
   ],
   "source": [
    "import csv\n",
    "f=open('../Data/portfolio.csv')\n",
    "f_csv=csv.reader(f)\n",
    "headers=next(f_csv)\n",
    "headers"
   ]
  },
  {
   "cell_type": "code",
   "execution_count": 3,
   "metadata": {},
   "outputs": [
    {
     "name": "stdout",
     "output_type": "stream",
     "text": [
      "[['AA', '100', '32.20'],\n",
      " ['IBM', '50', '91.10'],\n",
      " ['CAT', '150', '83.44'],\n",
      " ['MSFT', '200', '51.23'],\n",
      " ['GE', '95', '40.37'],\n",
      " ['MSFT', '50', '65.10'],\n",
      " ['IBM', '100', '70.44']]\n"
     ]
    }
   ],
   "source": [
    "rows=list(f_csv)\n",
    "from pprint import pprint\n",
    "pprint(rows)"
   ]
  },
  {
   "cell_type": "code",
   "execution_count": 4,
   "metadata": {},
   "outputs": [
    {
     "name": "stdout",
     "output_type": "stream",
     "text": [
      "['AA', '100', '32.20']\n",
      "['IBM', '50', '91.10']\n",
      "['CAT', '150', '83.44']\n",
      "['MSFT', '200', '51.23']\n",
      "['GE', '95', '40.37']\n",
      "['MSFT', '50', '65.10']\n",
      "['IBM', '100', '70.44']\n"
     ]
    }
   ],
   "source": [
    "for row in rows:\n",
    "    print(row)"
   ]
  },
  {
   "cell_type": "code",
   "execution_count": 5,
   "metadata": {},
   "outputs": [
    {
     "name": "stdout",
     "output_type": "stream",
     "text": [
      "AA 100 32.20\n",
      "IBM 50 91.10\n",
      "CAT 150 83.44\n",
      "MSFT 200 51.23\n",
      "GE 95 40.37\n",
      "MSFT 50 65.10\n",
      "IBM 100 70.44\n"
     ]
    }
   ],
   "source": [
    "for name, shares, price in rows:\n",
    "    print(name, shares, price)"
   ]
  },
  {
   "cell_type": "code",
   "execution_count": 6,
   "metadata": {},
   "outputs": [
    {
     "name": "stdout",
     "output_type": "stream",
     "text": [
      "AA 32.20\n",
      "IBM 91.10\n",
      "CAT 83.44\n",
      "MSFT 51.23\n",
      "GE 40.37\n",
      "MSFT 65.10\n",
      "IBM 70.44\n"
     ]
    }
   ],
   "source": [
    "for name, _, price in rows:\n",
    "    print(name, price)"
   ]
  },
  {
   "cell_type": "code",
   "execution_count": 7,
   "metadata": {},
   "outputs": [
    {
     "data": {
      "text/plain": [
       "[['50', '91.10'], ['100', '70.44']]"
      ]
     },
     "execution_count": 7,
     "metadata": {},
     "output_type": "execute_result"
    }
   ],
   "source": [
    "from collections import defaultdict\n",
    "byname= defaultdict(list)\n",
    "for name, *data in rows:\n",
    "    byname[name].append(data)\n",
    "\n",
    "byname['IBM']"
   ]
  },
  {
   "cell_type": "code",
   "execution_count": 8,
   "metadata": {},
   "outputs": [
    {
     "data": {
      "text/plain": [
       "[['150', '83.44']]"
      ]
     },
     "execution_count": 8,
     "metadata": {},
     "output_type": "execute_result"
    }
   ],
   "source": [
    "byname['CAT']"
   ]
  },
  {
   "cell_type": "code",
   "execution_count": 9,
   "metadata": {},
   "outputs": [
    {
     "name": "stdout",
     "output_type": "stream",
     "text": [
      "50 91.10\n",
      "100 70.44\n"
     ]
    }
   ],
   "source": [
    "for shares, price in byname['IBM']:\n",
    "    print(shares, price)"
   ]
  },
  {
   "cell_type": "code",
   "execution_count": 10,
   "metadata": {},
   "outputs": [
    {
     "name": "stdout",
     "output_type": "stream",
     "text": [
      "0 ['AA', '100', '32.20']\n",
      "1 ['IBM', '50', '91.10']\n",
      "2 ['CAT', '150', '83.44']\n",
      "3 ['MSFT', '200', '51.23']\n",
      "4 ['GE', '95', '40.37']\n",
      "5 ['MSFT', '50', '65.10']\n",
      "6 ['IBM', '100', '70.44']\n"
     ]
    }
   ],
   "source": [
    "for rowno, row in enumerate(rows):\n",
    "    print(rowno, row)"
   ]
  },
  {
   "cell_type": "code",
   "execution_count": 12,
   "metadata": {},
   "outputs": [
    {
     "name": "stdout",
     "output_type": "stream",
     "text": [
      "0 AA 100 32.20\n",
      "1 IBM 50 91.10\n",
      "2 CAT 150 83.44\n",
      "3 MSFT 200 51.23\n",
      "4 GE 95 40.37\n",
      "5 MSFT 50 65.10\n",
      "6 IBM 100 70.44\n"
     ]
    }
   ],
   "source": [
    "for rowno, (name, shares, price) in enumerate(rows):\n",
    "    print(rowno, name, shares, price)"
   ]
  },
  {
   "cell_type": "code",
   "execution_count": 13,
   "metadata": {},
   "outputs": [
    {
     "data": {
      "text/plain": [
       "['AA', '100', '32.20']"
      ]
     },
     "execution_count": 13,
     "metadata": {},
     "output_type": "execute_result"
    }
   ],
   "source": [
    "row=rows[0]\n",
    "row"
   ]
  },
  {
   "cell_type": "code",
   "execution_count": 14,
   "metadata": {},
   "outputs": [
    {
     "name": "stdout",
     "output_type": "stream",
     "text": [
      "name AA\n",
      "shares 100\n",
      "price 32.20\n"
     ]
    }
   ],
   "source": [
    "for col, val in zip(headers, row):\n",
    "    print(col, val)"
   ]
  },
  {
   "cell_type": "code",
   "execution_count": 15,
   "metadata": {},
   "outputs": [
    {
     "data": {
      "text/plain": [
       "{'name': 'AA', 'shares': '100', 'price': '32.20'}"
      ]
     },
     "execution_count": 15,
     "metadata": {},
     "output_type": "execute_result"
    }
   ],
   "source": [
    "dict(zip(headers,row))"
   ]
  },
  {
   "cell_type": "code",
   "execution_count": 17,
   "metadata": {},
   "outputs": [
    {
     "name": "stdout",
     "output_type": "stream",
     "text": [
      "{'name': 'AA', 'shares': '100', 'price': '32.20'}\n",
      "{'name': 'IBM', 'shares': '50', 'price': '91.10'}\n",
      "{'name': 'CAT', 'shares': '150', 'price': '83.44'}\n",
      "{'name': 'MSFT', 'shares': '200', 'price': '51.23'}\n",
      "{'name': 'GE', 'shares': '95', 'price': '40.37'}\n",
      "{'name': 'MSFT', 'shares': '50', 'price': '65.10'}\n",
      "{'name': 'IBM', 'shares': '100', 'price': '70.44'}\n"
     ]
    }
   ],
   "source": [
    "for row in rows:\n",
    "    record=dict(zip(headers, row))\n",
    "    print(record)"
   ]
  },
  {
   "cell_type": "code",
   "execution_count": 18,
   "metadata": {},
   "outputs": [
    {
     "data": {
      "text/plain": [
       "<generator object <genexpr> at 0x000001D5C0FF2260>"
      ]
     },
     "execution_count": 18,
     "metadata": {},
     "output_type": "execute_result"
    }
   ],
   "source": [
    "nums=[1,2,3,4,5]\n",
    "squares=(x*x for x in nums)\n",
    "squares"
   ]
  },
  {
   "cell_type": "code",
   "execution_count": 19,
   "metadata": {},
   "outputs": [
    {
     "name": "stdout",
     "output_type": "stream",
     "text": [
      "1\n",
      "4\n",
      "9\n",
      "16\n",
      "25\n"
     ]
    }
   ],
   "source": [
    "for s in squares:\n",
    "    print(s)"
   ]
  },
  {
   "cell_type": "code",
   "execution_count": 20,
   "metadata": {},
   "outputs": [],
   "source": [
    "for s in squares:\n",
    "    print(s)"
   ]
  },
  {
   "cell_type": "code",
   "execution_count": 21,
   "metadata": {},
   "outputs": [
    {
     "data": {
      "text/plain": [
       "1"
      ]
     },
     "execution_count": 21,
     "metadata": {},
     "output_type": "execute_result"
    }
   ],
   "source": [
    "squares=(x*x for x in nums)\n",
    "next(squares)"
   ]
  },
  {
   "cell_type": "code",
   "execution_count": 22,
   "metadata": {},
   "outputs": [
    {
     "data": {
      "text/plain": [
       "4"
      ]
     },
     "execution_count": 22,
     "metadata": {},
     "output_type": "execute_result"
    }
   ],
   "source": [
    "next(squares)"
   ]
  },
  {
   "cell_type": "code",
   "execution_count": 23,
   "metadata": {},
   "outputs": [
    {
     "data": {
      "text/plain": [
       "9"
      ]
     },
     "execution_count": 23,
     "metadata": {},
     "output_type": "execute_result"
    }
   ],
   "source": [
    "next(squares)"
   ]
  },
  {
   "cell_type": "code",
   "execution_count": 24,
   "metadata": {},
   "outputs": [
    {
     "data": {
      "text/plain": [
       "16"
      ]
     },
     "execution_count": 24,
     "metadata": {},
     "output_type": "execute_result"
    }
   ],
   "source": [
    "next(squares)"
   ]
  },
  {
   "cell_type": "code",
   "execution_count": 25,
   "metadata": {},
   "outputs": [
    {
     "data": {
      "text/plain": [
       "25"
      ]
     },
     "execution_count": 25,
     "metadata": {},
     "output_type": "execute_result"
    }
   ],
   "source": [
    "next(squares)"
   ]
  },
  {
   "cell_type": "code",
   "execution_count": 26,
   "metadata": {},
   "outputs": [
    {
     "ename": "StopIteration",
     "evalue": "",
     "output_type": "error",
     "traceback": [
      "\u001b[1;31m---------------------------------------------------------------------------\u001b[0m",
      "\u001b[1;31mStopIteration\u001b[0m                             Traceback (most recent call last)",
      "Cell \u001b[1;32mIn[26], line 1\u001b[0m\n\u001b[1;32m----> 1\u001b[0m \u001b[39mnext\u001b[39;49m(squares)\n",
      "\u001b[1;31mStopIteration\u001b[0m: "
     ]
    }
   ],
   "source": [
    "next(squares)"
   ]
  },
  {
   "cell_type": "code",
   "execution_count": 27,
   "metadata": {},
   "outputs": [],
   "source": [
    "def squares(nums):\n",
    "    for x in nums:\n",
    "        yield x*x"
   ]
  },
  {
   "cell_type": "code",
   "execution_count": 28,
   "metadata": {},
   "outputs": [
    {
     "name": "stdout",
     "output_type": "stream",
     "text": [
      "1\n",
      "4\n",
      "9\n",
      "16\n",
      "25\n"
     ]
    }
   ],
   "source": [
    "for n in squares(nums):\n",
    "    print(n)"
   ]
  },
  {
   "cell_type": "code",
   "execution_count": 29,
   "metadata": {},
   "outputs": [
    {
     "data": {
      "text/plain": [
       "44671.15"
      ]
     },
     "execution_count": 29,
     "metadata": {},
     "output_type": "execute_result"
    }
   ],
   "source": [
    "from readport import read_portfolio\n",
    "portfolio= read_portfolio('../Data/portfolio.csv')\n",
    "sum(s['shares']*s['price'] for s in portfolio)"
   ]
  },
  {
   "cell_type": "code",
   "execution_count": 30,
   "metadata": {},
   "outputs": [
    {
     "data": {
      "text/plain": [
       "50"
      ]
     },
     "execution_count": 30,
     "metadata": {},
     "output_type": "execute_result"
    }
   ],
   "source": [
    "min(s['shares'] for s in portfolio)"
   ]
  },
  {
   "cell_type": "code",
   "execution_count": 31,
   "metadata": {},
   "outputs": [
    {
     "data": {
      "text/plain": [
       "True"
      ]
     },
     "execution_count": 31,
     "metadata": {},
     "output_type": "execute_result"
    }
   ],
   "source": [
    "any(s['name']=='IBM' for s in portfolio)"
   ]
  },
  {
   "cell_type": "code",
   "execution_count": 32,
   "metadata": {},
   "outputs": [
    {
     "data": {
      "text/plain": [
       "False"
      ]
     },
     "execution_count": 32,
     "metadata": {},
     "output_type": "execute_result"
    }
   ],
   "source": [
    "all(s['name']=='IBM' for s in portfolio)"
   ]
  },
  {
   "cell_type": "code",
   "execution_count": 33,
   "metadata": {},
   "outputs": [
    {
     "data": {
      "text/plain": [
       "150"
      ]
     },
     "execution_count": 33,
     "metadata": {},
     "output_type": "execute_result"
    }
   ],
   "source": [
    "sum(s['shares'] for s in portfolio if s['name']=='IBM')"
   ]
  },
  {
   "cell_type": "code",
   "execution_count": 35,
   "metadata": {},
   "outputs": [
    {
     "ename": "TypeError",
     "evalue": "sequence item 1: expected str instance, int found",
     "output_type": "error",
     "traceback": [
      "\u001b[1;31m---------------------------------------------------------------------------\u001b[0m",
      "\u001b[1;31mTypeError\u001b[0m                                 Traceback (most recent call last)",
      "Cell \u001b[1;32mIn[35], line 2\u001b[0m\n\u001b[0;32m      1\u001b[0m s\u001b[39m=\u001b[39m(\u001b[39m'\u001b[39m\u001b[39mGOOG\u001b[39m\u001b[39m'\u001b[39m,\u001b[39m10\u001b[39m,\u001b[39m490.10\u001b[39m)\n\u001b[1;32m----> 2\u001b[0m \u001b[39m'\u001b[39;49m\u001b[39m,\u001b[39;49m\u001b[39m'\u001b[39;49m\u001b[39m.\u001b[39;49mjoin(s)\n",
      "\u001b[1;31mTypeError\u001b[0m: sequence item 1: expected str instance, int found"
     ]
    }
   ],
   "source": [
    "s=('GOOG',10,490.10)\n",
    "','.join(s)"
   ]
  },
  {
   "cell_type": "code",
   "execution_count": 36,
   "metadata": {},
   "outputs": [
    {
     "data": {
      "text/plain": [
       "'GOOG,10,490.1'"
      ]
     },
     "execution_count": 36,
     "metadata": {},
     "output_type": "execute_result"
    }
   ],
   "source": [
    "','.join(str(x) for x in s)"
   ]
  },
  {
   "cell_type": "code",
   "execution_count": 37,
   "metadata": {},
   "outputs": [
    {
     "data": {
      "text/plain": [
       "{'route': '22', 'date': '06/11/2008', 'daytype': 'W', 'rides': 26896}"
      ]
     },
     "execution_count": 37,
     "metadata": {},
     "output_type": "execute_result"
    }
   ],
   "source": [
    "#Memory saving\n",
    "import tracemalloc\n",
    "tracemalloc.start()\n",
    "import readrides\n",
    "rows=readrides.read_rides_as_dictionary('../Data/ctabus.csv')\n",
    "rt22=[row for row in rows if row['route']=='22']\n",
    "max(rt22, key=lambda row: row['rides'])"
   ]
  },
  {
   "cell_type": "code",
   "execution_count": 38,
   "metadata": {},
   "outputs": [
    {
     "data": {
      "text/plain": [
       "(188452203, 188467724)"
      ]
     },
     "execution_count": 38,
     "metadata": {},
     "output_type": "execute_result"
    }
   ],
   "source": [
    "tracemalloc.get_traced_memory()"
   ]
  },
  {
   "cell_type": "code",
   "execution_count": 2,
   "metadata": {},
   "outputs": [
    {
     "data": {
      "text/plain": [
       "{'route': '22', 'date': '06/11/2008', 'daytype': 'W', 'rides': '26896'}"
      ]
     },
     "execution_count": 2,
     "metadata": {},
     "output_type": "execute_result"
    }
   ],
   "source": [
    "#RESTART\n",
    "import tracemalloc\n",
    "tracemalloc.start()\n",
    "import csv\n",
    "f=open('../Data/ctabus.csv')\n",
    "f_csv=csv.reader(f)\n",
    "headers=next(f_csv)\n",
    "rows=(dict(zip(headers, row)) for row in f_csv)\n",
    "rt22=(row for row in rows if row['route']=='22')\n",
    "max(rt22, key=lambda row: int(row['rides']))"
   ]
  },
  {
   "cell_type": "code",
   "execution_count": 3,
   "metadata": {},
   "outputs": [
    {
     "data": {
      "text/plain": [
       "(6077722, 9181841)"
      ]
     },
     "execution_count": 3,
     "metadata": {},
     "output_type": "execute_result"
    }
   ],
   "source": [
    "tracemalloc.get_traced_memory()"
   ]
  }
 ],
 "metadata": {
  "kernelspec": {
   "display_name": "Python 3",
   "language": "python",
   "name": "python3"
  },
  "language_info": {
   "codemirror_mode": {
    "name": "ipython",
    "version": 3
   },
   "file_extension": ".py",
   "mimetype": "text/x-python",
   "name": "python",
   "nbconvert_exporter": "python",
   "pygments_lexer": "ipython3",
   "version": "3.11.4"
  },
  "orig_nbformat": 4
 },
 "nbformat": 4,
 "nbformat_minor": 2
}
