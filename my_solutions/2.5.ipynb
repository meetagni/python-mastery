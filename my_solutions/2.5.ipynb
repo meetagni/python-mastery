{
 "cells": [
  {
   "cell_type": "code",
   "execution_count": 1,
   "metadata": {},
   "outputs": [
    {
     "data": {
      "text/plain": [
       "184"
      ]
     },
     "execution_count": 1,
     "metadata": {},
     "output_type": "execute_result"
    }
   ],
   "source": [
    "import sys\n",
    "row= { 'route': '22', 'date': '01/01/2001', 'daytype': 'U', 'rides': 7354 }\n",
    "sys.getsizeof(row)"
   ]
  },
  {
   "cell_type": "code",
   "execution_count": 2,
   "metadata": {},
   "outputs": [
    {
     "data": {
      "text/plain": [
       "184"
      ]
     },
     "execution_count": 2,
     "metadata": {},
     "output_type": "execute_result"
    }
   ],
   "source": [
    "row['a']= 1\n",
    "sys.getsizeof(row)"
   ]
  },
  {
   "cell_type": "code",
   "execution_count": 3,
   "metadata": {},
   "outputs": [
    {
     "data": {
      "text/plain": [
       "272"
      ]
     },
     "execution_count": 3,
     "metadata": {},
     "output_type": "execute_result"
    }
   ],
   "source": [
    "row['b']= 2\n",
    "sys.getsizeof(row)"
   ]
  },
  {
   "cell_type": "code",
   "execution_count": 4,
   "metadata": {},
   "outputs": [
    {
     "data": {
      "text/plain": [
       "272"
      ]
     },
     "execution_count": 4,
     "metadata": {},
     "output_type": "execute_result"
    }
   ],
   "source": [
    "del row['b']\n",
    "sys.getsizeof(row)"
   ]
  },
  {
   "cell_type": "code",
   "execution_count": 5,
   "metadata": {},
   "outputs": [
    {
     "data": {
      "text/plain": [
       "{'route': '22', 'date': '01/01/2001', 'daytype': 'U', 'rides': 7354, 'a': 1}"
      ]
     },
     "execution_count": 5,
     "metadata": {},
     "output_type": "execute_result"
    }
   ],
   "source": [
    "row"
   ]
  },
  {
   "cell_type": "code",
   "execution_count": 6,
   "metadata": {},
   "outputs": [
    {
     "data": {
      "text/plain": [
       "272"
      ]
     },
     "execution_count": 6,
     "metadata": {},
     "output_type": "execute_result"
    }
   ],
   "source": [
    "del row['a']\n",
    "sys.getsizeof(row)"
   ]
  },
  {
   "cell_type": "code",
   "execution_count": 7,
   "metadata": {},
   "outputs": [
    {
     "data": {
      "text/plain": [
       "272"
      ]
     },
     "execution_count": 7,
     "metadata": {},
     "output_type": "execute_result"
    }
   ],
   "source": [
    "del row['date']\n",
    "sys.getsizeof(row)"
   ]
  },
  {
   "cell_type": "code",
   "execution_count": 8,
   "metadata": {},
   "outputs": [
    {
     "data": {
      "text/plain": [
       "64"
      ]
     },
     "execution_count": 8,
     "metadata": {},
     "output_type": "execute_result"
    }
   ],
   "source": [
    "row.clear()\n",
    "sys.getsizeof(row)"
   ]
  },
  {
   "cell_type": "markdown",
   "metadata": {},
   "source": [
    "Changing orientation to columns in readrides.py"
   ]
  },
  {
   "cell_type": "code",
   "execution_count": 1,
   "metadata": {},
   "outputs": [
    {
     "name": "stdout",
     "output_type": "stream",
     "text": [
      "current, peak: 96170714 96201009\n"
     ]
    }
   ],
   "source": [
    "from readrides import read_rides_as_columns\n",
    "import tracemalloc\n",
    "tracemalloc.start()\n",
    "columns= read_rides_as_columns('../Data/ctabus.csv')\n",
    "current, peak= tracemalloc.get_traced_memory()\n",
    "print(\"current, peak:\", current, peak)"
   ]
  },
  {
   "cell_type": "code",
   "execution_count": 1,
   "metadata": {},
   "outputs": [
    {
     "data": {
      "text/plain": [
       "<readrides.RideData at 0x7f3d7122d710>"
      ]
     },
     "execution_count": 1,
     "metadata": {},
     "output_type": "execute_result"
    }
   ],
   "source": [
    "from readrides import read_rides_as_dictionary\n",
    "rows= read_rides_as_dictionary('../Data/ctabus.csv')\n",
    "rows"
   ]
  },
  {
   "cell_type": "code",
   "execution_count": 2,
   "metadata": {},
   "outputs": [
    {
     "data": {
      "text/plain": [
       "577563"
      ]
     },
     "execution_count": 2,
     "metadata": {},
     "output_type": "execute_result"
    }
   ],
   "source": [
    "len(rows)"
   ]
  },
  {
   "cell_type": "code",
   "execution_count": 3,
   "metadata": {},
   "outputs": [
    {
     "data": {
      "text/plain": [
       "{'route': '3', 'date': '01/01/2001', 'daytype': 'U', 'rides': 7354}"
      ]
     },
     "execution_count": 3,
     "metadata": {},
     "output_type": "execute_result"
    }
   ],
   "source": [
    "rows[0]"
   ]
  },
  {
   "cell_type": "code",
   "execution_count": 6,
   "metadata": {},
   "outputs": [
    {
     "data": {
      "text/plain": [
       "{'route': ['3', '4', '6', '8', '9', '10', '11', '12', '18', '20'],\n",
       " 'date': ['01/01/2001',\n",
       "  '01/01/2001',\n",
       "  '01/01/2001',\n",
       "  '01/01/2001',\n",
       "  '01/01/2001',\n",
       "  '01/01/2001',\n",
       "  '01/01/2001',\n",
       "  '01/01/2001',\n",
       "  '01/01/2001',\n",
       "  '01/01/2001'],\n",
       " 'daytype': ['U', 'U', 'U', 'U', 'U', 'U', 'U', 'U', 'U', 'U'],\n",
       " 'rides': [7354, 9288, 6048, 6309, 11207, 385, 610, 3678, 375, 7096]}"
      ]
     },
     "execution_count": 6,
     "metadata": {},
     "output_type": "execute_result"
    }
   ],
   "source": [
    "r= rows[0:10]\n",
    "r"
   ]
  },
  {
   "cell_type": "markdown",
   "metadata": {},
   "source": [
    "Adding slice"
   ]
  },
  {
   "cell_type": "code",
   "execution_count": 1,
   "metadata": {},
   "outputs": [
    {
     "data": {
      "text/plain": [
       "<readrides.RideData at 0x7fe7b2a61250>"
      ]
     },
     "execution_count": 1,
     "metadata": {},
     "output_type": "execute_result"
    }
   ],
   "source": [
    "from readrides import read_rides_as_dictionary\n",
    "rows= read_rides_as_dictionary('../Data/ctabus.csv')\n",
    "rows"
   ]
  },
  {
   "cell_type": "code",
   "execution_count": 2,
   "metadata": {},
   "outputs": [
    {
     "data": {
      "text/plain": [
       "[{'routes': '3', 'dates': '01/01/2001', 'daytypes': 'U', 'numrides': 7354},\n",
       " {'routes': '4', 'dates': '01/01/2001', 'daytypes': 'U', 'numrides': 9288},\n",
       " {'routes': '6', 'dates': '01/01/2001', 'daytypes': 'U', 'numrides': 6048},\n",
       " {'routes': '8', 'dates': '01/01/2001', 'daytypes': 'U', 'numrides': 6309},\n",
       " {'routes': '9', 'dates': '01/01/2001', 'daytypes': 'U', 'numrides': 11207},\n",
       " {'routes': '10', 'dates': '01/01/2001', 'daytypes': 'U', 'numrides': 385},\n",
       " {'routes': '11', 'dates': '01/01/2001', 'daytypes': 'U', 'numrides': 610},\n",
       " {'routes': '12', 'dates': '01/01/2001', 'daytypes': 'U', 'numrides': 3678},\n",
       " {'routes': '18', 'dates': '01/01/2001', 'daytypes': 'U', 'numrides': 375},\n",
       " {'routes': '20', 'dates': '01/01/2001', 'daytypes': 'U', 'numrides': 7096}]"
      ]
     },
     "execution_count": 2,
     "metadata": {},
     "output_type": "execute_result"
    }
   ],
   "source": [
    "r= rows[0:10]\n",
    "r"
   ]
  },
  {
   "cell_type": "code",
   "execution_count": 3,
   "metadata": {},
   "outputs": [
    {
     "data": {
      "text/plain": [
       "{'routes': '3', 'dates': '01/01/2001', 'daytypes': 'U', 'numrides': 7354}"
      ]
     },
     "execution_count": 3,
     "metadata": {},
     "output_type": "execute_result"
    }
   ],
   "source": [
    "r[0]"
   ]
  },
  {
   "cell_type": "code",
   "execution_count": 4,
   "metadata": {},
   "outputs": [
    {
     "data": {
      "text/plain": [
       "10"
      ]
     },
     "execution_count": 4,
     "metadata": {},
     "output_type": "execute_result"
    }
   ],
   "source": [
    "len(r)"
   ]
  },
  {
   "cell_type": "code",
   "execution_count": 5,
   "metadata": {},
   "outputs": [
    {
     "data": {
      "text/plain": [
       "{'routes': '4', 'dates': '01/01/2001', 'daytypes': 'U', 'numrides': 9288}"
      ]
     },
     "execution_count": 5,
     "metadata": {},
     "output_type": "execute_result"
    }
   ],
   "source": [
    "r[1]"
   ]
  }
 ],
 "metadata": {
  "kernelspec": {
   "display_name": "base",
   "language": "python",
   "name": "python3"
  },
  "language_info": {
   "codemirror_mode": {
    "name": "ipython",
    "version": 3
   },
   "file_extension": ".py",
   "mimetype": "text/x-python",
   "name": "python",
   "nbconvert_exporter": "python",
   "pygments_lexer": "ipython3",
   "version": "3.11.5"
  }
 },
 "nbformat": 4,
 "nbformat_minor": 2
}
