{
 "cells": [
  {
   "cell_type": "code",
   "execution_count": 1,
   "metadata": {},
   "outputs": [
    {
     "name": "stdout",
     "output_type": "stream",
     "text": [
      "      name     shares      price\n",
      "---------- ---------- ---------- \n",
      "        AA        100       32.2\n",
      "       IBM         50       91.1\n",
      "       CAT        150      83.44\n",
      "      MSFT        200      51.23\n",
      "        GE         95      40.37\n",
      "      MSFT         50       65.1\n",
      "       IBM        100      70.44\n"
     ]
    }
   ],
   "source": [
    "import stock\n",
    "import tableformat\n",
    "portfolio= stock.read_portfolio('../Data/portfolio.csv')\n",
    "tableformat.print_table(portfolio, ['name', 'shares', 'price'])"
   ]
  },
  {
   "cell_type": "code",
   "execution_count": 2,
   "metadata": {},
   "outputs": [
    {
     "data": {
      "text/plain": [
       "<bound method Stock.sell of <stock.Stock object at 0x7f268e3d5e90>>"
      ]
     },
     "execution_count": 2,
     "metadata": {},
     "output_type": "execute_result"
    }
   ],
   "source": [
    "s= stock.Stock('GOOG', 100, 490.53)\n",
    "f= s.sell\n",
    "f"
   ]
  },
  {
   "cell_type": "code",
   "execution_count": 3,
   "metadata": {},
   "outputs": [
    {
     "data": {
      "text/plain": [
       "75"
      ]
     },
     "execution_count": 3,
     "metadata": {},
     "output_type": "execute_result"
    }
   ],
   "source": [
    "f.__func__(f.__self__, 25)\n",
    "s.shares"
   ]
  }
 ],
 "metadata": {
  "kernelspec": {
   "display_name": "base",
   "language": "python",
   "name": "python3"
  },
  "language_info": {
   "codemirror_mode": {
    "name": "ipython",
    "version": 3
   },
   "file_extension": ".py",
   "mimetype": "text/x-python",
   "name": "python",
   "nbconvert_exporter": "python",
   "pygments_lexer": "ipython3",
   "version": "3.11.5"
  }
 },
 "nbformat": 4,
 "nbformat_minor": 2
}
