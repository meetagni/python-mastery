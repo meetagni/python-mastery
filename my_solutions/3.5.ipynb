{
 "cells": [
  {
   "cell_type": "code",
   "execution_count": 1,
   "metadata": {},
   "outputs": [
    {
     "name": "stdout",
     "output_type": "stream",
     "text": [
      "      name     shares      price\n",
      "---------- ---------- ---------- \n",
      "        AA        100       32.2\n",
      "       IBM         50       91.1\n",
      "       CAT        150      83.44\n",
      "      MSFT        200      51.23\n",
      "        GE         95      40.37\n",
      "      MSFT         50       65.1\n",
      "       IBM        100      70.44\n"
     ]
    }
   ],
   "source": [
    "import stock, reader, tableformat\n",
    "portfolio= reader.read_csv_as_instances('../Data/portfolio.csv', stock.Stock)\n",
    "formatter= tableformat.TextTableFormatter()\n",
    "tableformat.print_table(portfolio, ['name','shares','price'], formatter)"
   ]
  },
  {
   "cell_type": "code",
   "execution_count": 2,
   "metadata": {},
   "outputs": [
    {
     "name": "stdout",
     "output_type": "stream",
     "text": [
      "name,shares,price\n",
      "AA,100,32.2\n",
      "IBM,50,91.1\n",
      "CAT,150,83.44\n",
      "MSFT,200,51.23\n",
      "GE,95,40.37\n",
      "MSFT,50,65.1\n",
      "IBM,100,70.44\n"
     ]
    }
   ],
   "source": [
    "portfolio= reader.read_csv_as_instances('../Data/portfolio.csv', stock.Stock)\n",
    "formatter= tableformat.CSVTableFormatter()\n",
    "tableformat.print_table(portfolio, ['name','shares','price'], formatter)"
   ]
  },
  {
   "cell_type": "code",
   "execution_count": 3,
   "metadata": {},
   "outputs": [
    {
     "name": "stdout",
     "output_type": "stream",
     "text": [
      "<tr> <th>name</th> <th>shares</th> <th>price</th> </tr>\n",
      "<tr> <td>AA</td> <td>100</td> <td>32.2</td> </tr>\n",
      "<tr> <td>IBM</td> <td>50</td> <td>91.1</td> </tr>\n",
      "<tr> <td>CAT</td> <td>150</td> <td>83.44</td> </tr>\n",
      "<tr> <td>MSFT</td> <td>200</td> <td>51.23</td> </tr>\n",
      "<tr> <td>GE</td> <td>95</td> <td>40.37</td> </tr>\n",
      "<tr> <td>MSFT</td> <td>50</td> <td>65.1</td> </tr>\n",
      "<tr> <td>IBM</td> <td>100</td> <td>70.44</td> </tr>\n"
     ]
    }
   ],
   "source": [
    "portfolio= reader.read_csv_as_instances('../Data/portfolio.csv', stock.Stock)\n",
    "formatter= tableformat.HTMLTableFormatter()\n",
    "tableformat.print_table(portfolio, ['name','shares','price'], formatter)"
   ]
  },
  {
   "cell_type": "code",
   "execution_count": 5,
   "metadata": {},
   "outputs": [
    {
     "name": "stdout",
     "output_type": "stream",
     "text": [
      "name,shares,price\n",
      "AA,100,32.2\n",
      "IBM,50,91.1\n",
      "CAT,150,83.44\n",
      "MSFT,200,51.23\n",
      "GE,95,40.37\n",
      "MSFT,50,65.1\n",
      "IBM,100,70.44\n"
     ]
    }
   ],
   "source": [
    "from tableformat import create_formatter, print_table\n",
    "import reader, stock\n",
    "formatter= create_formatter('csv')\n",
    "portfolio= reader.read_csv_as_instances('../Data/portfolio.csv', stock.Stock)\n",
    "print_table(portfolio, ['name','shares','price'], formatter)"
   ]
  },
  {
   "cell_type": "code",
   "execution_count": 6,
   "metadata": {},
   "outputs": [
    {
     "name": "stdout",
     "output_type": "stream",
     "text": [
      "      name     shares      price\n",
      "---------- ---------- ---------- \n",
      "        AA        100       32.2\n",
      "       IBM         50       91.1\n",
      "       CAT        150      83.44\n",
      "      MSFT        200      51.23\n",
      "        GE         95      40.37\n",
      "      MSFT         50       65.1\n",
      "       IBM        100      70.44\n"
     ]
    }
   ],
   "source": [
    "from tableformat import create_formatter, print_table\n",
    "import reader, stock\n",
    "formatter= create_formatter('text')\n",
    "portfolio= reader.read_csv_as_instances('../Data/portfolio.csv', stock.Stock)\n",
    "print_table(portfolio, ['name','shares','price'], formatter)"
   ]
  },
  {
   "cell_type": "code",
   "execution_count": 6,
   "metadata": {},
   "outputs": [],
   "source": [
    "from tableformat import create_formatter, redirect_stdout, print_table\n",
    "import reader, stock\n",
    "formatter= create_formatter('text')\n",
    "portfolio= reader.read_csv_as_instances('../Data/portfolio.csv', stock.Stock)\n",
    "with redirect_stdout(open('out.txt', 'w')) as file:\n",
    "    print_table(portfolio, ['name','shares','price'], formatter)\n",
    "    file.close()"
   ]
  },
  {
   "cell_type": "code",
   "execution_count": 7,
   "metadata": {},
   "outputs": [
    {
     "name": "stdout",
     "output_type": "stream",
     "text": [
      "      name     shares      price\n",
      "---------- ---------- ---------- \n",
      "        AA        100       32.2\n",
      "       IBM         50       91.1\n",
      "       CAT        150      83.44\n",
      "      MSFT        200      51.23\n",
      "        GE         95      40.37\n",
      "      MSFT         50       65.1\n",
      "       IBM        100      70.44\n",
      "\n"
     ]
    }
   ],
   "source": [
    "print(open('out.txt').read())"
   ]
  }
 ],
 "metadata": {
  "kernelspec": {
   "display_name": "base",
   "language": "python",
   "name": "python3"
  },
  "language_info": {
   "codemirror_mode": {
    "name": "ipython",
    "version": 3
   },
   "file_extension": ".py",
   "mimetype": "text/x-python",
   "name": "python",
   "nbconvert_exporter": "python",
   "pygments_lexer": "ipython3",
   "version": "3.11.5"
  }
 },
 "nbformat": 4,
 "nbformat_minor": 2
}
