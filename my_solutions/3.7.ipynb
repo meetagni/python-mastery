{
 "cells": [
  {
   "cell_type": "code",
   "execution_count": 2,
   "metadata": {},
   "outputs": [
    {
     "ename": "TypeError",
     "evalue": "Expected a TableFormatter",
     "output_type": "error",
     "traceback": [
      "\u001b[0;31m---------------------------------------------------------------------------\u001b[0m",
      "\u001b[0;31mTypeError\u001b[0m                                 Traceback (most recent call last)",
      "Cell \u001b[0;32mIn[2], line 7\u001b[0m\n\u001b[1;32m      4\u001b[0m     \u001b[38;5;28;01mdef\u001b[39;00m \u001b[38;5;21mheadings\u001b[39m(\u001b[38;5;28mself\u001b[39m,headers): \u001b[38;5;28;01mpass\u001b[39;00m\n\u001b[1;32m      5\u001b[0m     \u001b[38;5;28;01mdef\u001b[39;00m \u001b[38;5;21mrow\u001b[39m(\u001b[38;5;28mself\u001b[39m,rowdata): \u001b[38;5;28;01mpass\u001b[39;00m\n\u001b[0;32m----> 7\u001b[0m tableformat\u001b[38;5;241m.\u001b[39mprint_table(portfolio, [\u001b[38;5;124m'\u001b[39m\u001b[38;5;124mname\u001b[39m\u001b[38;5;124m'\u001b[39m,\u001b[38;5;124m'\u001b[39m\u001b[38;5;124mshares\u001b[39m\u001b[38;5;124m'\u001b[39m,\u001b[38;5;124m'\u001b[39m\u001b[38;5;124mprice\u001b[39m\u001b[38;5;124m'\u001b[39m], MyFormatter())\n",
      "File \u001b[0;32m~/Documents/python-mastery/my_solutions/tableformat.py:7\u001b[0m, in \u001b[0;36mprint_table\u001b[0;34m(records, fields, formatter)\u001b[0m\n\u001b[1;32m      1\u001b[0m \u001b[38;5;28;01mdef\u001b[39;00m \u001b[38;5;21mprint_table\u001b[39m(records, fields, formatter):\n\u001b[1;32m      2\u001b[0m \u001b[38;5;66;03m#     print(' '.join('%10s' % fieldname for fieldname in fields))\u001b[39;00m\n\u001b[1;32m      3\u001b[0m \u001b[38;5;66;03m#     print(('-'*10 + ' ')*len(fields))\u001b[39;00m\n\u001b[1;32m      4\u001b[0m \u001b[38;5;66;03m#     for record in records:\u001b[39;00m\n\u001b[1;32m      5\u001b[0m \u001b[38;5;66;03m#         print(' '.join('%10s' % getattr(record, fieldname) for fieldname in fields))\u001b[39;00m\n\u001b[1;32m      6\u001b[0m     \u001b[38;5;28;01mif\u001b[39;00m \u001b[38;5;129;01mnot\u001b[39;00m \u001b[38;5;28misinstance\u001b[39m(formatter, TableFormatter):\n\u001b[0;32m----> 7\u001b[0m         \u001b[38;5;28;01mraise\u001b[39;00m \u001b[38;5;167;01mTypeError\u001b[39;00m(\u001b[38;5;124m\"\u001b[39m\u001b[38;5;124mExpected a TableFormatter\u001b[39m\u001b[38;5;124m\"\u001b[39m)\n\u001b[1;32m      8\u001b[0m     formatter\u001b[38;5;241m.\u001b[39mheadings(fields)\n\u001b[1;32m      9\u001b[0m     \u001b[38;5;28;01mfor\u001b[39;00m r \u001b[38;5;129;01min\u001b[39;00m records:\n",
      "\u001b[0;31mTypeError\u001b[0m: Expected a TableFormatter"
     ]
    }
   ],
   "source": [
    "import stock, reader, tableformat\n",
    "portfolio = reader.read_csv_as_instances('../Data/portfolio.csv', stock.Stock)\n",
    "class MyFormatter:\n",
    "    def headings(self,headers): pass\n",
    "    def row(self,rowdata): pass\n",
    "\n",
    "tableformat.print_table(portfolio, ['name','shares','price'], MyFormatter())"
   ]
  },
  {
   "cell_type": "code",
   "execution_count": 3,
   "metadata": {},
   "outputs": [],
   "source": [
    "class NewFormatter(tableformat.TableFormatter):\n",
    "    def headers(self, headings):\n",
    "        pass\n",
    "    def row(self, rowdata):\n",
    "        pass"
   ]
  },
  {
   "cell_type": "code",
   "execution_count": 4,
   "metadata": {},
   "outputs": [
    {
     "ename": "TypeError",
     "evalue": "Can't instantiate abstract class NewFormatter with abstract method headings",
     "output_type": "error",
     "traceback": [
      "\u001b[0;31m---------------------------------------------------------------------------\u001b[0m",
      "\u001b[0;31mTypeError\u001b[0m                                 Traceback (most recent call last)",
      "Cell \u001b[0;32mIn[4], line 1\u001b[0m\n\u001b[0;32m----> 1\u001b[0m f\u001b[38;5;241m=\u001b[39m NewFormatter()\n",
      "\u001b[0;31mTypeError\u001b[0m: Can't instantiate abstract class NewFormatter with abstract method headings"
     ]
    }
   ],
   "source": [
    "f= NewFormatter()"
   ]
  },
  {
   "cell_type": "code",
   "execution_count": 1,
   "metadata": {},
   "outputs": [
    {
     "data": {
      "text/plain": [
       "[{'name': 'AA', 'shares': 100, 'price': 32.2},\n",
       " {'name': 'IBM', 'shares': 50, 'price': 91.1},\n",
       " {'name': 'CAT', 'shares': 150, 'price': 83.44},\n",
       " {'name': 'MSFT', 'shares': 200, 'price': 51.23},\n",
       " {'name': 'GE', 'shares': 95, 'price': 40.37},\n",
       " {'name': 'MSFT', 'shares': 50, 'price': 65.1},\n",
       " {'name': 'IBM', 'shares': 100, 'price': 70.44}]"
      ]
     },
     "execution_count": 1,
     "metadata": {},
     "output_type": "execute_result"
    }
   ],
   "source": [
    "from reader import DictCSVParser\n",
    "parser= DictCSVParser([str, int, float])\n",
    "port= parser.parse('../Data/portfolio.csv')\n",
    "port"
   ]
  },
  {
   "cell_type": "code",
   "execution_count": 1,
   "metadata": {},
   "outputs": [
    {
     "data": {
      "text/plain": [
       "[Stock(AA, 100, 32.20),\n",
       " Stock(IBM, 50, 91.10),\n",
       " Stock(CAT, 150, 83.44),\n",
       " Stock(MSFT, 200, 51.23),\n",
       " Stock(GE, 95, 40.37),\n",
       " Stock(MSFT, 50, 65.10),\n",
       " Stock(IBM, 100, 70.44)]"
      ]
     },
     "execution_count": 1,
     "metadata": {},
     "output_type": "execute_result"
    }
   ],
   "source": [
    "import reader\n",
    "import stock\n",
    "port= reader.read_csv_as_instances('../Data/portfolio.csv', stock.Stock)\n",
    "port"
   ]
  }
 ],
 "metadata": {
  "kernelspec": {
   "display_name": "base",
   "language": "python",
   "name": "python3"
  },
  "language_info": {
   "codemirror_mode": {
    "name": "ipython",
    "version": 3
   },
   "file_extension": ".py",
   "mimetype": "text/x-python",
   "name": "python",
   "nbconvert_exporter": "python",
   "pygments_lexer": "ipython3",
   "version": "3.11.5"
  }
 },
 "nbformat": 4,
 "nbformat_minor": 2
}
