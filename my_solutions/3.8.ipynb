{
 "cells": [
  {
   "cell_type": "code",
   "execution_count": 1,
   "metadata": {},
   "outputs": [],
   "source": [
    "from tableformat import TextTableFormatter, print_table\n",
    "class PortFolioFormatter(TextTableFormatter):\n",
    "    def row(self, rowdata):\n",
    "        formats= ['%s', '%d', '%0.2f']\n",
    "        rowdata= [(fmt % d) for fmt, d in zip(formats, rowdata)]\n",
    "        super().row(rowdata)"
   ]
  },
  {
   "cell_type": "code",
   "execution_count": 2,
   "metadata": {},
   "outputs": [
    {
     "name": "stdout",
     "output_type": "stream",
     "text": [
      "      name     shares      price\n",
      "---------- ---------- ---------- \n",
      "        AA        100      32.20\n",
      "       IBM         50      91.10\n",
      "       CAT        150      83.44\n",
      "      MSFT        200      51.23\n",
      "        GE         95      40.37\n",
      "      MSFT         50      65.10\n",
      "       IBM        100      70.44\n"
     ]
    }
   ],
   "source": [
    "formatter= PortFolioFormatter()\n",
    "import reader, stock\n",
    "portfolio = reader.read_csv_as_instances('../Data/portfolio.csv', stock.Stock)\n",
    "print_table(portfolio, ['name', 'shares', 'price'], formatter)"
   ]
  },
  {
   "cell_type": "code",
   "execution_count": 3,
   "metadata": {},
   "outputs": [
    {
     "name": "stdout",
     "output_type": "stream",
     "text": [
      "      name     shares      price\n",
      "---------- ---------- ---------- \n",
      "        AA        100      32.20\n",
      "       IBM         50      91.10\n",
      "       CAT        150      83.44\n",
      "      MSFT        200      51.23\n",
      "        GE         95      40.37\n",
      "      MSFT         50      65.10\n",
      "       IBM        100      70.44\n"
     ]
    }
   ],
   "source": [
    "import stock, reader\n",
    "portfolio= reader.read_csv_as_instances('../Data/portfolio.csv', stock.Stock)\n",
    "from tableformat import TextTableFormatter, ColumnFormatMixin, print_table\n",
    "class PortFolioFormatter(ColumnFormatMixin, TextTableFormatter):\n",
    "    formats= ['%s', '%d', '%0.2f']\n",
    "\n",
    "formatter= PortFolioFormatter()\n",
    "print_table(portfolio, ['name','shares','price'], formatter)"
   ]
  },
  {
   "cell_type": "code",
   "execution_count": 4,
   "metadata": {},
   "outputs": [
    {
     "name": "stdout",
     "output_type": "stream",
     "text": [
      "      NAME     SHARES      PRICE\n",
      "---------- ---------- ---------- \n",
      "        AA        100       32.2\n",
      "       IBM         50       91.1\n",
      "       CAT        150      83.44\n",
      "      MSFT        200      51.23\n",
      "        GE         95      40.37\n",
      "      MSFT         50       65.1\n",
      "       IBM        100      70.44\n"
     ]
    }
   ],
   "source": [
    "from tableformat import TextTableFormatter, UpperHeadersMixin\n",
    "class PortFolioFormatter(UpperHeadersMixin, TextTableFormatter):\n",
    "    pass\n",
    "\n",
    "formatter= PortFolioFormatter()\n",
    "print_table(portfolio, ['name','shares','price'], formatter)"
   ]
  },
  {
   "cell_type": "code",
   "execution_count": 5,
   "metadata": {},
   "outputs": [
    {
     "name": "stdout",
     "output_type": "stream",
     "text": [
      "name,shares,price\n",
      "\"AA\",100,32.20\n",
      "\"IBM\",50,91.10\n",
      "\"CAT\",150,83.44\n",
      "\"MSFT\",200,51.23\n",
      "\"GE\",95,40.37\n",
      "\"MSFT\",50,65.10\n",
      "\"IBM\",100,70.44\n"
     ]
    }
   ],
   "source": [
    "from tableformat import create_formatter\n",
    "formatter= create_formatter('csv', column_formats=['\"%s\"', '%d', '%0.2f'])\n",
    "print_table(portfolio, ['name', 'shares', 'price'], formatter)"
   ]
  },
  {
   "cell_type": "code",
   "execution_count": 6,
   "metadata": {},
   "outputs": [
    {
     "name": "stdout",
     "output_type": "stream",
     "text": [
      "      NAME     SHARES      PRICE\n",
      "---------- ---------- ---------- \n",
      "        AA        100       32.2\n",
      "       IBM         50       91.1\n",
      "       CAT        150      83.44\n",
      "      MSFT        200      51.23\n",
      "        GE         95      40.37\n",
      "      MSFT         50       65.1\n",
      "       IBM        100      70.44\n"
     ]
    }
   ],
   "source": [
    "formatter= create_formatter('text', upper_headers=True)\n",
    "print_table(portfolio, ['name','shares','price'], formatter)"
   ]
  }
 ],
 "metadata": {
  "kernelspec": {
   "display_name": "base",
   "language": "python",
   "name": "python3"
  },
  "language_info": {
   "codemirror_mode": {
    "name": "ipython",
    "version": 3
   },
   "file_extension": ".py",
   "mimetype": "text/x-python",
   "name": "python",
   "nbconvert_exporter": "python",
   "pygments_lexer": "ipython3",
   "version": "3.11.5"
  }
 },
 "nbformat": 4,
 "nbformat_minor": 2
}
