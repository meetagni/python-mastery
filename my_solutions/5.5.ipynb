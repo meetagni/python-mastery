{
 "cells": [
  {
   "cell_type": "code",
   "execution_count": 1,
   "metadata": {},
   "outputs": [
    {
     "name": "stderr",
     "output_type": "stream",
     "text": [
      "WARNING:reader:Row 4: Bad row: ['C', '', '53.08']\n",
      "DEBUG:reader:Row 4: Reason: ['C', '', '53.08']\n",
      "WARNING:reader:Row 7: Bad row: ['DIS', '50', 'N/A']\n",
      "DEBUG:reader:Row 7: Reason: ['DIS', '50', 'N/A']\n",
      "WARNING:reader:Row 8: Bad row: ['GE', '', '37.23']\n",
      "DEBUG:reader:Row 8: Reason: ['GE', '', '37.23']\n",
      "WARNING:reader:Row 13: Bad row: ['INTC', '', '21.84']\n",
      "DEBUG:reader:Row 13: Reason: ['INTC', '', '21.84']\n",
      "WARNING:reader:Row 17: Bad row: ['MCD', '', '51.11']\n",
      "DEBUG:reader:Row 17: Reason: ['MCD', '', '51.11']\n",
      "WARNING:reader:Row 19: Bad row: ['MO', '', '70.09']\n",
      "DEBUG:reader:Row 19: Reason: ['MO', '', '70.09']\n",
      "WARNING:reader:Row 22: Bad row: ['PFE', '', '26.40']\n",
      "DEBUG:reader:Row 22: Reason: ['PFE', '', '26.40']\n",
      "WARNING:reader:Row 26: Bad row: ['VZ', '', '42.92']\n",
      "DEBUG:reader:Row 26: Reason: ['VZ', '', '42.92']\n"
     ]
    }
   ],
   "source": [
    "import reader\n",
    "import logging\n",
    "logging.basicConfig(level=logging.DEBUG)\n",
    "port= reader.read_csv_as_dicts('../Data/missing.csv', types=[str, int, float])"
   ]
  }
 ],
 "metadata": {
  "kernelspec": {
   "display_name": "base",
   "language": "python",
   "name": "python3"
  },
  "language_info": {
   "codemirror_mode": {
    "name": "ipython",
    "version": 3
   },
   "file_extension": ".py",
   "mimetype": "text/x-python",
   "name": "python",
   "nbconvert_exporter": "python",
   "pygments_lexer": "ipython3",
   "version": "3.11.5"
  }
 },
 "nbformat": 4,
 "nbformat_minor": 2
}
