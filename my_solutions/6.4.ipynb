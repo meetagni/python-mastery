{
 "cells": [
  {
   "cell_type": "code",
   "execution_count": 1,
   "metadata": {},
   "outputs": [],
   "source": [
    "code='''\n",
    "for i in range(n):\n",
    "    print(i, end=' ')\n",
    "    '''"
   ]
  },
  {
   "cell_type": "code",
   "execution_count": 2,
   "metadata": {},
   "outputs": [
    {
     "name": "stdout",
     "output_type": "stream",
     "text": [
      "0 1 2 3 4 5 6 7 8 9 "
     ]
    }
   ],
   "source": [
    "n= 10\n",
    "exec(code)"
   ]
  },
  {
   "cell_type": "code",
   "execution_count": 3,
   "metadata": {},
   "outputs": [],
   "source": [
    "class Stock:\n",
    "    _fields=('name','shares','price')\n",
    "argstr= ','.join(Stock._fields)\n",
    "code= f'def __init__(self, {argstr}):\\n'"
   ]
  },
  {
   "cell_type": "code",
   "execution_count": 4,
   "metadata": {},
   "outputs": [],
   "source": [
    "for name in Stock._fields:\n",
    "    code += f'  self.{name}= {name}\\n'"
   ]
  },
  {
   "cell_type": "code",
   "execution_count": 5,
   "metadata": {},
   "outputs": [
    {
     "name": "stdout",
     "output_type": "stream",
     "text": [
      "def __init__(self, name,shares,price):\n",
      "  self.name= name\n",
      "  self.shares= shares\n",
      "  self.price= price\n",
      "\n"
     ]
    }
   ],
   "source": [
    "print(code)"
   ]
  },
  {
   "cell_type": "code",
   "execution_count": 6,
   "metadata": {},
   "outputs": [],
   "source": [
    "locs={}\n",
    "exec(code, locs)"
   ]
  },
  {
   "cell_type": "code",
   "execution_count": 7,
   "metadata": {},
   "outputs": [],
   "source": [
    "Stock.__init__= locs['__init__']"
   ]
  },
  {
   "cell_type": "code",
   "execution_count": 8,
   "metadata": {},
   "outputs": [],
   "source": [
    "s= Stock('GOOG', 100, 490.1)"
   ]
  },
  {
   "cell_type": "code",
   "execution_count": 9,
   "metadata": {},
   "outputs": [
    {
     "data": {
      "text/plain": [
       "'GOOG'"
      ]
     },
     "execution_count": 9,
     "metadata": {},
     "output_type": "execute_result"
    }
   ],
   "source": [
    "s.name"
   ]
  },
  {
   "cell_type": "code",
   "execution_count": 10,
   "metadata": {},
   "outputs": [
    {
     "data": {
      "text/plain": [
       "100"
      ]
     },
     "execution_count": 10,
     "metadata": {},
     "output_type": "execute_result"
    }
   ],
   "source": [
    "s.shares"
   ]
  },
  {
   "cell_type": "code",
   "execution_count": 11,
   "metadata": {},
   "outputs": [
    {
     "data": {
      "text/plain": [
       "490.1"
      ]
     },
     "execution_count": 11,
     "metadata": {},
     "output_type": "execute_result"
    }
   ],
   "source": [
    "s.price"
   ]
  },
  {
   "cell_type": "code",
   "execution_count": 1,
   "metadata": {},
   "outputs": [
    {
     "data": {
      "text/plain": [
       "'GOOG'"
      ]
     },
     "execution_count": 1,
     "metadata": {},
     "output_type": "execute_result"
    }
   ],
   "source": [
    "from collections import namedtuple\n",
    "Stock = namedtuple('Stock', ['name', 'shares', 'price'])\n",
    "s = Stock('GOOG', 100, 490.1)\n",
    "s.name"
   ]
  },
  {
   "cell_type": "code",
   "execution_count": 2,
   "metadata": {},
   "outputs": [
    {
     "data": {
      "text/plain": [
       "100"
      ]
     },
     "execution_count": 2,
     "metadata": {},
     "output_type": "execute_result"
    }
   ],
   "source": [
    "s.shares"
   ]
  },
  {
   "cell_type": "code",
   "execution_count": 3,
   "metadata": {},
   "outputs": [
    {
     "data": {
      "text/plain": [
       "100"
      ]
     },
     "execution_count": 3,
     "metadata": {},
     "output_type": "execute_result"
    }
   ],
   "source": [
    "s[1]"
   ]
  },
  {
   "cell_type": "code",
   "execution_count": 4,
   "metadata": {},
   "outputs": [
    {
     "name": "stdout",
     "output_type": "stream",
     "text": [
      "def namedtuple(typename, field_names, *, rename=False, defaults=None, module=None):\n",
      "    \"\"\"Returns a new subclass of tuple with named fields.\n",
      "\n",
      "    >>> Point = namedtuple('Point', ['x', 'y'])\n",
      "    >>> Point.__doc__                   # docstring for the new class\n",
      "    'Point(x, y)'\n",
      "    >>> p = Point(11, y=22)             # instantiate with positional args or keywords\n",
      "    >>> p[0] + p[1]                     # indexable like a plain tuple\n",
      "    33\n",
      "    >>> x, y = p                        # unpack like a regular tuple\n",
      "    >>> x, y\n",
      "    (11, 22)\n",
      "    >>> p.x + p.y                       # fields also accessible by name\n",
      "    33\n",
      "    >>> d = p._asdict()                 # convert to a dictionary\n",
      "    >>> d['x']\n",
      "    11\n",
      "    >>> Point(**d)                      # convert from a dictionary\n",
      "    Point(x=11, y=22)\n",
      "    >>> p._replace(x=100)               # _replace() is like str.replace() but targets named fields\n",
      "    Point(x=100, y=22)\n",
      "\n",
      "    \"\"\"\n",
      "\n",
      "    # Validate the field names.  At the user's option, either generate an error\n",
      "    # message or automatically replace the field name with a valid name.\n",
      "    if isinstance(field_names, str):\n",
      "        field_names = field_names.replace(',', ' ').split()\n",
      "    field_names = list(map(str, field_names))\n",
      "    typename = _sys.intern(str(typename))\n",
      "\n",
      "    if rename:\n",
      "        seen = set()\n",
      "        for index, name in enumerate(field_names):\n",
      "            if (not name.isidentifier()\n",
      "                or _iskeyword(name)\n",
      "                or name.startswith('_')\n",
      "                or name in seen):\n",
      "                field_names[index] = f'_{index}'\n",
      "            seen.add(name)\n",
      "\n",
      "    for name in [typename] + field_names:\n",
      "        if type(name) is not str:\n",
      "            raise TypeError('Type names and field names must be strings')\n",
      "        if not name.isidentifier():\n",
      "            raise ValueError('Type names and field names must be valid '\n",
      "                             f'identifiers: {name!r}')\n",
      "        if _iskeyword(name):\n",
      "            raise ValueError('Type names and field names cannot be a '\n",
      "                             f'keyword: {name!r}')\n",
      "\n",
      "    seen = set()\n",
      "    for name in field_names:\n",
      "        if name.startswith('_') and not rename:\n",
      "            raise ValueError('Field names cannot start with an underscore: '\n",
      "                             f'{name!r}')\n",
      "        if name in seen:\n",
      "            raise ValueError(f'Encountered duplicate field name: {name!r}')\n",
      "        seen.add(name)\n",
      "\n",
      "    field_defaults = {}\n",
      "    if defaults is not None:\n",
      "        defaults = tuple(defaults)\n",
      "        if len(defaults) > len(field_names):\n",
      "            raise TypeError('Got more default values than field names')\n",
      "        field_defaults = dict(reversed(list(zip(reversed(field_names),\n",
      "                                                reversed(defaults)))))\n",
      "\n",
      "    # Variables used in the methods and docstrings\n",
      "    field_names = tuple(map(_sys.intern, field_names))\n",
      "    num_fields = len(field_names)\n",
      "    arg_list = ', '.join(field_names)\n",
      "    if num_fields == 1:\n",
      "        arg_list += ','\n",
      "    repr_fmt = '(' + ', '.join(f'{name}=%r' for name in field_names) + ')'\n",
      "    tuple_new = tuple.__new__\n",
      "    _dict, _tuple, _len, _map, _zip = dict, tuple, len, map, zip\n",
      "\n",
      "    # Create all the named tuple methods to be added to the class namespace\n",
      "\n",
      "    namespace = {\n",
      "        '_tuple_new': tuple_new,\n",
      "        '__builtins__': {},\n",
      "        '__name__': f'namedtuple_{typename}',\n",
      "    }\n",
      "    code = f'lambda _cls, {arg_list}: _tuple_new(_cls, ({arg_list}))'\n",
      "    __new__ = eval(code, namespace)\n",
      "    __new__.__name__ = '__new__'\n",
      "    __new__.__doc__ = f'Create new instance of {typename}({arg_list})'\n",
      "    if defaults is not None:\n",
      "        __new__.__defaults__ = defaults\n",
      "\n",
      "    @classmethod\n",
      "    def _make(cls, iterable):\n",
      "        result = tuple_new(cls, iterable)\n",
      "        if _len(result) != num_fields:\n",
      "            raise TypeError(f'Expected {num_fields} arguments, got {len(result)}')\n",
      "        return result\n",
      "\n",
      "    _make.__func__.__doc__ = (f'Make a new {typename} object from a sequence '\n",
      "                              'or iterable')\n",
      "\n",
      "    def _replace(self, /, **kwds):\n",
      "        result = self._make(_map(kwds.pop, field_names, self))\n",
      "        if kwds:\n",
      "            raise ValueError(f'Got unexpected field names: {list(kwds)!r}')\n",
      "        return result\n",
      "\n",
      "    _replace.__doc__ = (f'Return a new {typename} object replacing specified '\n",
      "                        'fields with new values')\n",
      "\n",
      "    def __repr__(self):\n",
      "        'Return a nicely formatted representation string'\n",
      "        return self.__class__.__name__ + repr_fmt % self\n",
      "\n",
      "    def _asdict(self):\n",
      "        'Return a new dict which maps field names to their values.'\n",
      "        return _dict(_zip(self._fields, self))\n",
      "\n",
      "    def __getnewargs__(self):\n",
      "        'Return self as a plain tuple.  Used by copy and pickle.'\n",
      "        return _tuple(self)\n",
      "\n",
      "    # Modify function metadata to help with introspection and debugging\n",
      "    for method in (\n",
      "        __new__,\n",
      "        _make.__func__,\n",
      "        _replace,\n",
      "        __repr__,\n",
      "        _asdict,\n",
      "        __getnewargs__,\n",
      "    ):\n",
      "        method.__qualname__ = f'{typename}.{method.__name__}'\n",
      "\n",
      "    # Build-up the class namespace dictionary\n",
      "    # and use type() to build the result class\n",
      "    class_namespace = {\n",
      "        '__doc__': f'{typename}({arg_list})',\n",
      "        '__slots__': (),\n",
      "        '_fields': field_names,\n",
      "        '_field_defaults': field_defaults,\n",
      "        '__new__': __new__,\n",
      "        '_make': _make,\n",
      "        '_replace': _replace,\n",
      "        '__repr__': __repr__,\n",
      "        '_asdict': _asdict,\n",
      "        '__getnewargs__': __getnewargs__,\n",
      "        '__match_args__': field_names,\n",
      "    }\n",
      "    for index, name in enumerate(field_names):\n",
      "        doc = _sys.intern(f'Alias for field number {index}')\n",
      "        class_namespace[name] = _tuplegetter(index, doc)\n",
      "\n",
      "    result = type(typename, (tuple,), class_namespace)\n",
      "\n",
      "    # For pickling to work, the __module__ variable needs to be set to the frame\n",
      "    # where the named tuple is created.  Bypass this step in environments where\n",
      "    # sys._getframe is not defined (Jython for example) or sys._getframe is not\n",
      "    # defined for arguments greater than 0 (IronPython), or where the user has\n",
      "    # specified a particular module.\n",
      "    if module is None:\n",
      "        try:\n",
      "            module = _sys._getframe(1).f_globals.get('__name__', '__main__')\n",
      "        except (AttributeError, ValueError):\n",
      "            pass\n",
      "    if module is not None:\n",
      "        result.__module__ = module\n",
      "\n",
      "    return result\n",
      "\n"
     ]
    }
   ],
   "source": [
    "import inspect\n",
    "print(inspect.getsource(namedtuple))"
   ]
  }
 ],
 "metadata": {
  "kernelspec": {
   "display_name": "base",
   "language": "python",
   "name": "python3"
  },
  "language_info": {
   "codemirror_mode": {
    "name": "ipython",
    "version": 3
   },
   "file_extension": ".py",
   "mimetype": "text/x-python",
   "name": "python",
   "nbconvert_exporter": "python",
   "pygments_lexer": "ipython3",
   "version": "3.11.5"
  }
 },
 "nbformat": 4,
 "nbformat_minor": 2
}
