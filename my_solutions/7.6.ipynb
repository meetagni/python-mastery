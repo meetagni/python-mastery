{
 "cells": [
  {
   "cell_type": "code",
   "execution_count": 1,
   "metadata": {},
   "outputs": [
    {
     "data": {
      "text/plain": [
       "{'Typed': validate.Typed,\n",
       " 'Integer': validate.Integer,\n",
       " 'Float': validate.Float,\n",
       " 'Complex': validate.Complex,\n",
       " 'Decimal': validate.Decimal,\n",
       " 'List': validate.List,\n",
       " 'Bool': validate.Bool,\n",
       " 'String': validate.String,\n",
       " 'Positive': validate.Positive,\n",
       " 'NonEmpty': validate.NonEmpty,\n",
       " 'PositiveInteger': validate.PositiveInteger,\n",
       " 'PositiveFloat': validate.PositiveFloat,\n",
       " 'NonEmptyString': validate.NonEmptyString}"
      ]
     },
     "execution_count": 1,
     "metadata": {},
     "output_type": "execute_result"
    }
   ],
   "source": [
    "from validate import Validator\n",
    "Validator.validators"
   ]
  },
  {
   "cell_type": "code",
   "execution_count": 1,
   "metadata": {},
   "outputs": [],
   "source": [
    "from structure import Structure\n",
    "\n",
    "class Stock(Structure):\n",
    "    name= String()\n",
    "    shares= PositiveInteger()\n",
    "    price= PositiveFloat()\n",
    "    \n",
    "    @property\n",
    "    def cost(self):\n",
    "        return self.price*self.shares\n",
    "    \n",
    "    def sell(self, nshares: PositiveInteger):\n",
    "        self.shares -= nshares"
   ]
  },
  {
   "cell_type": "code",
   "execution_count": 1,
   "metadata": {},
   "outputs": [
    {
     "data": {
      "text/plain": [
       "[Stock('AA', 100, 32.2),\n",
       " Stock('IBM', 50, 91.1),\n",
       " Stock('CAT', 150, 83.44),\n",
       " Stock('MSFT', 200, 51.23),\n",
       " Stock('GE', 95, 40.37),\n",
       " Stock('MSFT', 50, 65.1),\n",
       " Stock('IBM', 100, 70.44)]"
      ]
     },
     "execution_count": 1,
     "metadata": {},
     "output_type": "execute_result"
    }
   ],
   "source": [
    "from stock import Stock\n",
    "from reader import read_csv_as_instances\n",
    "portfolio= read_csv_as_instances('../Data/portfolio.csv', Stock)\n",
    "portfolio"
   ]
  },
  {
   "cell_type": "code",
   "execution_count": 2,
   "metadata": {},
   "outputs": [
    {
     "name": "stdout",
     "output_type": "stream",
     "text": [
      "      name     shares      price\n",
      "---------- ---------- ---------- \n",
      "        AA        100       32.2\n",
      "       IBM         50       91.1\n",
      "       CAT        150      83.44\n",
      "      MSFT        200      51.23\n",
      "        GE         95      40.37\n",
      "      MSFT         50       65.1\n",
      "       IBM        100      70.44\n"
     ]
    }
   ],
   "source": [
    "from tableformat import create_formatter, print_table\n",
    "formatter= create_formatter('text')\n",
    "print_table(portfolio, ['name', 'shares', 'price'], formatter)"
   ]
  }
 ],
 "metadata": {
  "kernelspec": {
   "display_name": "base",
   "language": "python",
   "name": "python3"
  },
  "language_info": {
   "codemirror_mode": {
    "name": "ipython",
    "version": 3
   },
   "file_extension": ".py",
   "mimetype": "text/x-python",
   "name": "python",
   "nbconvert_exporter": "python",
   "pygments_lexer": "ipython3",
   "version": "3.11.5"
  }
 },
 "nbformat": 4,
 "nbformat_minor": 2
}
