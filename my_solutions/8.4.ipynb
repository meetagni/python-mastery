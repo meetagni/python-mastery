{
 "cells": [
  {
   "cell_type": "code",
   "execution_count": 1,
   "metadata": {},
   "outputs": [
    {
     "data": {
      "text/plain": [
       "'\"KO\",51.73,\"6/11/2007\",\"09:52.04\",0.06,51.67,51.79,51.63,4200553\\n'"
      ]
     },
     "execution_count": 1,
     "metadata": {},
     "output_type": "execute_result"
    }
   ],
   "source": [
    "from follow import follow\n",
    "#Experiment: garbage collection of a running generator\n",
    "f= follow('../Data/stocklog.csv')\n",
    "next(f)"
   ]
  },
  {
   "cell_type": "code",
   "execution_count": 2,
   "metadata": {},
   "outputs": [
    {
     "data": {
      "text/plain": [
       "'\"IBM\",103.46,\"6/11/2007\",\"09:52.05\",0.39,102.87,103.46,102.77,515001\\n'"
      ]
     },
     "execution_count": 2,
     "metadata": {},
     "output_type": "execute_result"
    }
   ],
   "source": [
    "next(f)"
   ]
  },
  {
   "cell_type": "code",
   "execution_count": 3,
   "metadata": {},
   "outputs": [
    {
     "name": "stdout",
     "output_type": "stream",
     "text": [
      "Following done.\n"
     ]
    }
   ],
   "source": [
    "del f"
   ]
  },
  {
   "cell_type": "code",
   "execution_count": 4,
   "metadata": {},
   "outputs": [
    {
     "name": "stdout",
     "output_type": "stream",
     "text": [
      "\"C\",53.14,\"6/11/2007\",\"09:53.31\",-0.19,53.20,53.15,52.99,919944\n",
      "\"DD\",51.17,\"6/11/2007\",\"09:53.31\",0.04,51.13,51.17,50.60,321504\n",
      "\"HON\",57.29,\"6/11/2007\",\"09:53.31\",-0.09,57.25,57.30,57.02,231589\n",
      "\"HPQ\",46.25,\"6/11/2007\",\"09:53.31\",0.55,45.80,46.26,45.59,1557122\n",
      "\"MMM\",85.70,\"6/11/2007\",\"09:53.31\",-0.24,85.94,85.75,85.45,319610\n",
      "\"WMT\",49.88,\"6/11/2007\",\"09:53.31\",-0.20,49.90,49.88,49.72,1251864\n",
      "\"AA\",40.03,\"6/11/2007\",\"09:53.34\",0.37,39.67,40.15,39.31,566775\n",
      "\"KO\",51.69,\"6/11/2007\",\"09:53.34\",0.02,51.67,51.79,51.63,4218403\n",
      "\"XOM\",82.71,\"6/11/2007\",\"09:53.41\",0.03,82.68,82.77,82.41,1191083\n",
      "\"IBM\",103.52,\"6/11/2007\",\"09:53.43\",0.45,102.87,103.52,102.77,537895\n",
      "Following done.\n"
     ]
    }
   ],
   "source": [
    "#Experiment: Closing a generator\n",
    "f= follow('../Data/stocklog.csv')\n",
    "for line in f:\n",
    "    print(line, end='')\n",
    "    if 'IBM' in line:\n",
    "        f.close()"
   ]
  },
  {
   "cell_type": "code",
   "execution_count": 5,
   "metadata": {},
   "outputs": [],
   "source": [
    "for line in f:\n",
    "    print(line, end='')\n",
    "\n",
    "#No output: generator is done"
   ]
  },
  {
   "cell_type": "code",
   "execution_count": 6,
   "metadata": {},
   "outputs": [
    {
     "name": "stdout",
     "output_type": "stream",
     "text": [
      "\"GE\",37.39,\"6/11/2007\",\"09:55.16\",0.07,37.07,37.39,37.12,1756857\n",
      "\"IBM\",103.58,\"6/11/2007\",\"09:55.20\",0.51,102.87,103.58,102.77,560555\n"
     ]
    }
   ],
   "source": [
    "f= follow('../Data/stocklog.csv')\n",
    "for line in f:\n",
    "    print(line, end='')\n",
    "    if 'IBM' in line:\n",
    "        break"
   ]
  },
  {
   "cell_type": "code",
   "execution_count": 7,
   "metadata": {},
   "outputs": [
    {
     "name": "stdout",
     "output_type": "stream",
     "text": [
      "\"DD\",51.17,\"6/11/2007\",\"09:55.21\",0.04,51.13,51.18,50.60,345081\n",
      "\"MSFT\",30.22,\"6/11/2007\",\"09:55.21\",0.17,30.05,30.22,29.95,7671465\n",
      "\"AIG\",71.42,\"6/11/2007\",\"09:55.22\",-0.11,71.29,71.50,71.26,494012\n",
      "\"CAT\",78.85,\"6/11/2007\",\"09:55.22\",0.33,78.32,78.88,77.99,427887\n",
      "\"AXP\",62.88,\"6/11/2007\",\"09:55.26\",-0.16,62.79,62.99,62.38,1086773\n",
      "\"MMM\",85.70,\"6/11/2007\",\"09:55.26\",-0.24,85.94,85.75,85.45,324014\n",
      "\"KO\",51.64,\"6/11/2007\",\"09:55.27\",-0.03,51.67,51.79,51.63,4240814\n",
      "\"DIS\",34.38,\"6/11/2007\",\"09:55.31\",0.18,34.28,34.42,34.04,541894\n",
      "\"MRK\",50.37,\"6/11/2007\",\"09:55.31\",0.23,50.30,50.58,49.66,1962682\n",
      "\"BA\",98.66,\"6/11/2007\",\"09:55.35\",0.47,98.25,98.73,98.31,263584\n",
      "\"CAT\",78.84,\"6/11/2007\",\"09:55.36\",0.32,78.32,78.88,77.99,429119\n",
      "\"IBM\",103.59,\"6/11/2007\",\"09:55.36\",0.52,102.87,103.59,102.77,564293\n"
     ]
    }
   ],
   "source": [
    "#Resume iteration\n",
    "for line in f:\n",
    "    print(line, end='')\n",
    "    if 'IBM' in line:\n",
    "        break"
   ]
  },
  {
   "cell_type": "code",
   "execution_count": 8,
   "metadata": {},
   "outputs": [
    {
     "name": "stdout",
     "output_type": "stream",
     "text": [
      "Following done.\n"
     ]
    }
   ],
   "source": [
    "del f"
   ]
  },
  {
   "cell_type": "code",
   "execution_count": 9,
   "metadata": {},
   "outputs": [
    {
     "name": "stdout",
     "output_type": "stream",
     "text": [
      "hello\n"
     ]
    }
   ],
   "source": [
    "from cofollow import printer\n",
    "p= printer()\n",
    "p.send('hello')"
   ]
  },
  {
   "cell_type": "code",
   "execution_count": 10,
   "metadata": {},
   "outputs": [
    {
     "name": "stdout",
     "output_type": "stream",
     "text": [
      "42\n"
     ]
    }
   ],
   "source": [
    "p.send(42)"
   ]
  },
  {
   "cell_type": "code",
   "execution_count": 11,
   "metadata": {},
   "outputs": [
    {
     "name": "stdout",
     "output_type": "stream",
     "text": [
      "ERROR: ValueError('It failed')\n"
     ]
    }
   ],
   "source": [
    "p.throw(ValueError('It failed'))"
   ]
  },
  {
   "cell_type": "code",
   "execution_count": 12,
   "metadata": {},
   "outputs": [
    {
     "name": "stdout",
     "output_type": "stream",
     "text": [
      "ERROR: ValueError(\"invalid literal for int() with base 10: 'n/a'\")\n"
     ]
    }
   ],
   "source": [
    "try:\n",
    "    int('n/a')\n",
    "except ValueError as e:\n",
    "    p.throw(e)"
   ]
  }
 ],
 "metadata": {
  "kernelspec": {
   "display_name": "base",
   "language": "python",
   "name": "python3"
  },
  "language_info": {
   "codemirror_mode": {
    "name": "ipython",
    "version": 3
   },
   "file_extension": ".py",
   "mimetype": "text/x-python",
   "name": "python",
   "nbconvert_exporter": "python",
   "pygments_lexer": "ipython3",
   "version": "3.11.5"
  }
 },
 "nbformat": 4,
 "nbformat_minor": 2
}
