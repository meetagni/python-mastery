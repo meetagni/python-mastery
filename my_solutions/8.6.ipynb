{
 "cells": [
  {
   "cell_type": "code",
   "execution_count": 1,
   "metadata": {},
   "outputs": [],
   "source": [
    "from cofollow import consumer\n",
    "@consumer\n",
    "def printer():\n",
    "    while True:\n",
    "        item= yield\n",
    "        print(\"Got:\", item)"
   ]
  },
  {
   "cell_type": "code",
   "execution_count": 2,
   "metadata": {},
   "outputs": [
    {
     "name": "stdout",
     "output_type": "stream",
     "text": [
      "Got: Hello\n"
     ]
    }
   ],
   "source": [
    "p= printer()\n",
    "p.send('Hello')"
   ]
  },
  {
   "cell_type": "code",
   "execution_count": 3,
   "metadata": {},
   "outputs": [
    {
     "name": "stdout",
     "output_type": "stream",
     "text": [
      "Got: World\n"
     ]
    }
   ],
   "source": [
    "p.send('World')"
   ]
  },
  {
   "cell_type": "code",
   "execution_count": 1,
   "metadata": {},
   "outputs": [],
   "source": [
    "from cofollow import consumer , receive\n",
    "@consumer\n",
    "def print_ints():\n",
    "    while True:\n",
    "        val= yield from receive(int)\n",
    "        print('Got:', val)"
   ]
  },
  {
   "cell_type": "code",
   "execution_count": 2,
   "metadata": {},
   "outputs": [
    {
     "name": "stdout",
     "output_type": "stream",
     "text": [
      "Got: 42\n"
     ]
    }
   ],
   "source": [
    "p= print_ints()\n",
    "p.send(42)"
   ]
  },
  {
   "cell_type": "code",
   "execution_count": 3,
   "metadata": {},
   "outputs": [
    {
     "name": "stdout",
     "output_type": "stream",
     "text": [
      "Got: 13\n"
     ]
    }
   ],
   "source": [
    "p.send(13)"
   ]
  },
  {
   "cell_type": "code",
   "execution_count": 4,
   "metadata": {},
   "outputs": [
    {
     "ename": "AssertionError",
     "evalue": "Expected type <class 'int'>",
     "output_type": "error",
     "traceback": [
      "\u001b[0;31m---------------------------------------------------------------------------\u001b[0m",
      "\u001b[0;31mAssertionError\u001b[0m                            Traceback (most recent call last)",
      "Cell \u001b[0;32mIn[4], line 1\u001b[0m\n\u001b[0;32m----> 1\u001b[0m p\u001b[38;5;241m.\u001b[39msend(\u001b[38;5;124m'\u001b[39m\u001b[38;5;124m13\u001b[39m\u001b[38;5;124m'\u001b[39m)\n",
      "Cell \u001b[0;32mIn[1], line 5\u001b[0m, in \u001b[0;36mprint_ints\u001b[0;34m()\u001b[0m\n\u001b[1;32m      2\u001b[0m \u001b[38;5;129m@consumer\u001b[39m\n\u001b[1;32m      3\u001b[0m \u001b[38;5;28;01mdef\u001b[39;00m \u001b[38;5;21mprint_ints\u001b[39m():\n\u001b[1;32m      4\u001b[0m     \u001b[38;5;28;01mwhile\u001b[39;00m \u001b[38;5;28;01mTrue\u001b[39;00m:\n\u001b[0;32m----> 5\u001b[0m         val\u001b[38;5;241m=\u001b[39m \u001b[38;5;28;01myield from\u001b[39;00m receive(\u001b[38;5;28mint\u001b[39m)\n\u001b[1;32m      6\u001b[0m         \u001b[38;5;28mprint\u001b[39m(\u001b[38;5;124m'\u001b[39m\u001b[38;5;124mGot:\u001b[39m\u001b[38;5;124m'\u001b[39m, val)\n",
      "File \u001b[0;32m~/Documents/python-mastery/my_solutions/cofollow.py:38\u001b[0m, in \u001b[0;36mreceive\u001b[0;34m(expected_type)\u001b[0m\n\u001b[1;32m     36\u001b[0m \u001b[38;5;28;01mdef\u001b[39;00m \u001b[38;5;21mreceive\u001b[39m(expected_type):\n\u001b[1;32m     37\u001b[0m     msg\u001b[38;5;241m=\u001b[39m \u001b[38;5;28;01myield\u001b[39;00m\n\u001b[0;32m---> 38\u001b[0m     \u001b[38;5;28;01massert\u001b[39;00m \u001b[38;5;28misinstance\u001b[39m(msg, expected_type), \u001b[38;5;124m'\u001b[39m\u001b[38;5;124mExpected type \u001b[39m\u001b[38;5;132;01m%s\u001b[39;00m\u001b[38;5;124m'\u001b[39m \u001b[38;5;241m%\u001b[39m (expected_type)\n\u001b[1;32m     39\u001b[0m     \u001b[38;5;28;01mreturn\u001b[39;00m msg\n",
      "\u001b[0;31mAssertionError\u001b[0m: Expected type <class 'int'>"
     ]
    }
   ],
   "source": [
    "p.send('13')"
   ]
  },
  {
   "cell_type": "code",
   "execution_count": null,
   "metadata": {},
   "outputs": [],
   "source": []
  }
 ],
 "metadata": {
  "kernelspec": {
   "display_name": "base",
   "language": "python",
   "name": "python3"
  },
  "language_info": {
   "codemirror_mode": {
    "name": "ipython",
    "version": 3
   },
   "file_extension": ".py",
   "mimetype": "text/x-python",
   "name": "python",
   "nbconvert_exporter": "python",
   "pygments_lexer": "ipython3",
   "version": "3.11.5"
  }
 },
 "nbformat": 4,
 "nbformat_minor": 2
}
