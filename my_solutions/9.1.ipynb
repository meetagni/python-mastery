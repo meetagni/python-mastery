{
 "cells": [
  {
   "cell_type": "code",
   "execution_count": 1,
   "metadata": {},
   "outputs": [
    {
     "name": "stdout",
     "output_type": "stream",
     "text": [
      "Loaded simplemod\n"
     ]
    }
   ],
   "source": [
    "import simplemod"
   ]
  },
  {
   "cell_type": "code",
   "execution_count": 2,
   "metadata": {},
   "outputs": [
    {
     "name": "stdout",
     "output_type": "stream",
     "text": [
      "x is 42\n"
     ]
    }
   ],
   "source": [
    "simplemod.foo()"
   ]
  },
  {
   "cell_type": "code",
   "execution_count": 3,
   "metadata": {},
   "outputs": [
    {
     "data": {
      "text/plain": [
       "['/home/meet/Documents/python-mastery/my_solutions',\n",
       " '/home/meet/miniconda3/lib/python311.zip',\n",
       " '/home/meet/miniconda3/lib/python3.11',\n",
       " '/home/meet/miniconda3/lib/python3.11/lib-dynload',\n",
       " '',\n",
       " '/home/meet/miniconda3/lib/python3.11/site-packages']"
      ]
     },
     "execution_count": 3,
     "metadata": {},
     "output_type": "execute_result"
    }
   ],
   "source": [
    "import sys\n",
    "sys.path"
   ]
  },
  {
   "cell_type": "code",
   "execution_count": 4,
   "metadata": {},
   "outputs": [],
   "source": [
    "import simplemod"
   ]
  },
  {
   "cell_type": "code",
   "execution_count": 5,
   "metadata": {},
   "outputs": [
    {
     "data": {
      "text/plain": [
       "42"
      ]
     },
     "execution_count": 5,
     "metadata": {},
     "output_type": "execute_result"
    }
   ],
   "source": [
    "simplemod.x"
   ]
  },
  {
   "cell_type": "code",
   "execution_count": 6,
   "metadata": {},
   "outputs": [
    {
     "data": {
      "text/plain": [
       "13"
      ]
     },
     "execution_count": 6,
     "metadata": {},
     "output_type": "execute_result"
    }
   ],
   "source": [
    "simplemod.x= 13\n",
    "simplemod.x"
   ]
  },
  {
   "cell_type": "code",
   "execution_count": 7,
   "metadata": {},
   "outputs": [
    {
     "data": {
      "text/plain": [
       "13"
      ]
     },
     "execution_count": 7,
     "metadata": {},
     "output_type": "execute_result"
    }
   ],
   "source": [
    "import simplemod\n",
    "simplemod.x"
   ]
  },
  {
   "cell_type": "code",
   "execution_count": 8,
   "metadata": {},
   "outputs": [
    {
     "name": "stdout",
     "output_type": "stream",
     "text": [
      "Loaded simplemod\n"
     ]
    },
    {
     "data": {
      "text/plain": [
       "<module 'simplemod' from '/home/meet/Documents/python-mastery/my_solutions/simplemod.py'>"
      ]
     },
     "execution_count": 8,
     "metadata": {},
     "output_type": "execute_result"
    }
   ],
   "source": [
    "import importlib\n",
    "importlib.reload(simplemod)"
   ]
  },
  {
   "cell_type": "code",
   "execution_count": 9,
   "metadata": {},
   "outputs": [
    {
     "data": {
      "text/plain": [
       "42"
      ]
     },
     "execution_count": 9,
     "metadata": {},
     "output_type": "execute_result"
    }
   ],
   "source": [
    "simplemod.x"
   ]
  },
  {
   "cell_type": "code",
   "execution_count": 10,
   "metadata": {},
   "outputs": [
    {
     "data": {
      "text/plain": [
       "{'sys': <module 'sys' (built-in)>,\n",
       " 'builtins': <module 'builtins' (built-in)>,\n",
       " '_frozen_importlib': <module '_frozen_importlib' (frozen)>,\n",
       " '_imp': <module '_imp' (built-in)>,\n",
       " '_thread': <module '_thread' (built-in)>,\n",
       " '_warnings': <module '_warnings' (built-in)>,\n",
       " '_weakref': <module '_weakref' (built-in)>,\n",
       " '_io': <module '_io' (built-in)>,\n",
       " 'marshal': <module 'marshal' (built-in)>,\n",
       " 'posix': <module 'posix' (built-in)>,\n",
       " '_frozen_importlib_external': <module '_frozen_importlib_external' (frozen)>,\n",
       " 'time': <module 'time' (built-in)>,\n",
       " 'zipimport': <module 'zipimport' (frozen)>,\n",
       " '_codecs': <module '_codecs' (built-in)>,\n",
       " 'codecs': <module 'codecs' (frozen)>,\n",
       " 'encodings.aliases': <module 'encodings.aliases' from '/home/meet/miniconda3/lib/python3.11/encodings/aliases.py'>,\n",
       " 'encodings': <module 'encodings' from '/home/meet/miniconda3/lib/python3.11/encodings/__init__.py'>,\n",
       " 'encodings.utf_8': <module 'encodings.utf_8' from '/home/meet/miniconda3/lib/python3.11/encodings/utf_8.py'>,\n",
       " '_signal': <module '_signal' (built-in)>,\n",
       " '_abc': <module '_abc' (built-in)>,\n",
       " 'abc': <module 'abc' (frozen)>,\n",
       " 'io': <module 'io' (frozen)>,\n",
       " '__main__': <module '__main__'>,\n",
       " '_stat': <module '_stat' (built-in)>,\n",
       " 'stat': <module 'stat' (frozen)>,\n",
       " '_collections_abc': <module '_collections_abc' (frozen)>,\n",
       " 'genericpath': <module 'genericpath' (frozen)>,\n",
       " 'posixpath': <module 'posixpath' (frozen)>,\n",
       " 'os.path': <module 'posixpath' (frozen)>,\n",
       " 'os': <module 'os' (frozen)>,\n",
       " '_sitebuiltins': <module '_sitebuiltins' (frozen)>,\n",
       " '_distutils_hack': <module '_distutils_hack' from '/home/meet/miniconda3/lib/python3.11/site-packages/_distutils_hack/__init__.py'>,\n",
       " 'types': <module 'types' from '/home/meet/miniconda3/lib/python3.11/types.py'>,\n",
       " 'importlib._bootstrap': <module '_frozen_importlib' (frozen)>,\n",
       " 'importlib._bootstrap_external': <module '_frozen_importlib_external' (frozen)>,\n",
       " 'warnings': <module 'warnings' from '/home/meet/miniconda3/lib/python3.11/warnings.py'>,\n",
       " 'importlib': <module 'importlib' from '/home/meet/miniconda3/lib/python3.11/importlib/__init__.py'>,\n",
       " 'importlib._abc': <module 'importlib._abc' from '/home/meet/miniconda3/lib/python3.11/importlib/_abc.py'>,\n",
       " 'itertools': <module 'itertools' (built-in)>,\n",
       " 'keyword': <module 'keyword' from '/home/meet/miniconda3/lib/python3.11/keyword.py'>,\n",
       " '_operator': <module '_operator' (built-in)>,\n",
       " 'operator': <module 'operator' from '/home/meet/miniconda3/lib/python3.11/operator.py'>,\n",
       " 'reprlib': <module 'reprlib' from '/home/meet/miniconda3/lib/python3.11/reprlib.py'>,\n",
       " '_collections': <module '_collections' (built-in)>,\n",
       " 'collections': <module 'collections' from '/home/meet/miniconda3/lib/python3.11/collections/__init__.py'>,\n",
       " '_functools': <module '_functools' (built-in)>,\n",
       " 'functools': <module 'functools' from '/home/meet/miniconda3/lib/python3.11/functools.py'>,\n",
       " 'contextlib': <module 'contextlib' from '/home/meet/miniconda3/lib/python3.11/contextlib.py'>,\n",
       " 'importlib.util': <module 'importlib.util' (frozen)>,\n",
       " 'importlib.machinery': <module 'importlib.machinery' (frozen)>,\n",
       " 'ruamel': <module 'ruamel' (<_frozen_importlib_external.NamespaceLoader object at 0x7f1028bd7550>)>,\n",
       " 'site': <module 'site' (frozen)>,\n",
       " 'runpy': <module 'runpy' (frozen)>,\n",
       " 'enum': <module 'enum' from '/home/meet/miniconda3/lib/python3.11/enum.py'>,\n",
       " '_sre': <module '_sre' (built-in)>,\n",
       " 're._constants': <module 're._constants' from '/home/meet/miniconda3/lib/python3.11/re/_constants.py'>,\n",
       " 're._parser': <module 're._parser' from '/home/meet/miniconda3/lib/python3.11/re/_parser.py'>,\n",
       " 're._casefix': <module 're._casefix' from '/home/meet/miniconda3/lib/python3.11/re/_casefix.py'>,\n",
       " 're._compiler': <module 're._compiler' from '/home/meet/miniconda3/lib/python3.11/re/_compiler.py'>,\n",
       " 'copyreg': <module 'copyreg' from '/home/meet/miniconda3/lib/python3.11/copyreg.py'>,\n",
       " 're': <module 're' from '/home/meet/miniconda3/lib/python3.11/re/__init__.py'>,\n",
       " 'collections.abc': <module 'collections.abc' from '/home/meet/miniconda3/lib/python3.11/collections/abc.py'>,\n",
       " '_typing': <module '_typing' from '/home/meet/miniconda3/lib/python3.11/lib-dynload/_typing.cpython-311-x86_64-linux-gnu.so'>,\n",
       " 'typing.io': typing.io,\n",
       " 'typing.re': typing.re,\n",
       " 'typing': <module 'typing' from '/home/meet/miniconda3/lib/python3.11/typing.py'>,\n",
       " 'ipykernel._version': <module 'ipykernel._version' from '/home/meet/miniconda3/lib/python3.11/site-packages/ipykernel/_version.py'>,\n",
       " '__future__': <module '__future__' from '/home/meet/miniconda3/lib/python3.11/__future__.py'>,\n",
       " '_json': <module '_json' from '/home/meet/miniconda3/lib/python3.11/lib-dynload/_json.cpython-311-x86_64-linux-gnu.so'>,\n",
       " 'json.scanner': <module 'json.scanner' from '/home/meet/miniconda3/lib/python3.11/json/scanner.py'>,\n",
       " 'json.decoder': <module 'json.decoder' from '/home/meet/miniconda3/lib/python3.11/json/decoder.py'>,\n",
       " 'json.encoder': <module 'json.encoder' from '/home/meet/miniconda3/lib/python3.11/json/encoder.py'>,\n",
       " 'json': <module 'json' from '/home/meet/miniconda3/lib/python3.11/json/__init__.py'>,\n",
       " 'errno': <module 'errno' (built-in)>,\n",
       " '_locale': <module '_locale' (built-in)>,\n",
       " 'locale': <module 'locale' from '/home/meet/miniconda3/lib/python3.11/locale.py'>,\n",
       " 'signal': <module 'signal' from '/home/meet/miniconda3/lib/python3.11/signal.py'>,\n",
       " '_weakrefset': <module '_weakrefset' from '/home/meet/miniconda3/lib/python3.11/_weakrefset.py'>,\n",
       " 'threading': <module 'threading' from '/home/meet/miniconda3/lib/python3.11/threading.py'>,\n",
       " 'fcntl': <module 'fcntl' from '/home/meet/miniconda3/lib/python3.11/lib-dynload/fcntl.cpython-311-x86_64-linux-gnu.so'>,\n",
       " '_posixsubprocess': <module '_posixsubprocess' from '/home/meet/miniconda3/lib/python3.11/lib-dynload/_posixsubprocess.cpython-311-x86_64-linux-gnu.so'>,\n",
       " 'select': <module 'select' from '/home/meet/miniconda3/lib/python3.11/lib-dynload/select.cpython-311-x86_64-linux-gnu.so'>,\n",
       " 'math': <module 'math' from '/home/meet/miniconda3/lib/python3.11/lib-dynload/math.cpython-311-x86_64-linux-gnu.so'>,\n",
       " 'selectors': <module 'selectors' from '/home/meet/miniconda3/lib/python3.11/selectors.py'>,\n",
       " 'subprocess': <module 'subprocess' from '/home/meet/miniconda3/lib/python3.11/subprocess.py'>,\n",
       " 'jupyter_client._version': <module 'jupyter_client._version' from '/home/meet/miniconda3/lib/python3.11/site-packages/jupyter_client/_version.py'>,\n",
       " 'platform': <module 'platform' from '/home/meet/miniconda3/lib/python3.11/platform.py'>,\n",
       " '_ctypes': <module '_ctypes' from '/home/meet/miniconda3/lib/python3.11/lib-dynload/_ctypes.cpython-311-x86_64-linux-gnu.so'>,\n",
       " '_struct': <module '_struct' from '/home/meet/miniconda3/lib/python3.11/lib-dynload/_struct.cpython-311-x86_64-linux-gnu.so'>,\n",
       " 'struct': <module 'struct' from '/home/meet/miniconda3/lib/python3.11/struct.py'>,\n",
       " 'ctypes._endian': <module 'ctypes._endian' from '/home/meet/miniconda3/lib/python3.11/ctypes/_endian.py'>,\n",
       " 'ctypes': <module 'ctypes' from '/home/meet/miniconda3/lib/python3.11/ctypes/__init__.py'>,\n",
       " 'zmq.backend.select': <module 'zmq.backend.select' from '/home/meet/miniconda3/lib/python3.11/site-packages/zmq/backend/select.py'>,\n",
       " 'cython_runtime': <module 'cython_runtime'>,\n",
       " '_cython_3_0_6': <module '_cython_3_0_6'>,\n",
       " 'zmq.error': <module 'zmq.error' from '/home/meet/miniconda3/lib/python3.11/site-packages/zmq/error.py'>,\n",
       " 'zmq.backend.cython.context': <module 'zmq.backend.cython.context' from '/home/meet/miniconda3/lib/python3.11/site-packages/zmq/backend/cython/context.cpython-311-x86_64-linux-gnu.so'>,\n",
       " 'weakref': <module 'weakref' from '/home/meet/miniconda3/lib/python3.11/weakref.py'>,\n",
       " 'zmq.backend.cython.message': <module 'zmq.backend.cython.message' from '/home/meet/miniconda3/lib/python3.11/site-packages/zmq/backend/cython/message.cpython-311-x86_64-linux-gnu.so'>,\n",
       " 'copy': <module 'copy' from '/home/meet/miniconda3/lib/python3.11/copy.py'>,\n",
       " '_bisect': <module '_bisect' from '/home/meet/miniconda3/lib/python3.11/lib-dynload/_bisect.cpython-311-x86_64-linux-gnu.so'>,\n",
       " 'bisect': <module 'bisect' from '/home/meet/miniconda3/lib/python3.11/bisect.py'>,\n",
       " '_random': <module '_random' from '/home/meet/miniconda3/lib/python3.11/lib-dynload/_random.cpython-311-x86_64-linux-gnu.so'>,\n",
       " '_sha512': <module '_sha512' from '/home/meet/miniconda3/lib/python3.11/lib-dynload/_sha512.cpython-311-x86_64-linux-gnu.so'>,\n",
       " 'random': <module 'random' from '/home/meet/miniconda3/lib/python3.11/random.py'>,\n",
       " '_compat_pickle': <module '_compat_pickle' from '/home/meet/miniconda3/lib/python3.11/_compat_pickle.py'>,\n",
       " '_pickle': <module '_pickle' from '/home/meet/miniconda3/lib/python3.11/lib-dynload/_pickle.cpython-311-x86_64-linux-gnu.so'>,\n",
       " 'pickle': <module 'pickle' from '/home/meet/miniconda3/lib/python3.11/pickle.py'>,\n",
       " 'zmq.constants': <module 'zmq.constants' from '/home/meet/miniconda3/lib/python3.11/site-packages/zmq/constants.py'>,\n",
       " 'zmq.backend.cython.socket': <module 'zmq.backend.cython.socket' from '/home/meet/miniconda3/lib/python3.11/site-packages/zmq/backend/cython/socket.cpython-311-x86_64-linux-gnu.so'>,\n",
       " 'zmq.backend.cython._device': <module 'zmq.backend.cython._device' from '/home/meet/miniconda3/lib/python3.11/site-packages/zmq/backend/cython/_device.cpython-311-x86_64-linux-gnu.so'>,\n",
       " 'zmq.backend.cython._poll': <module 'zmq.backend.cython._poll' from '/home/meet/miniconda3/lib/python3.11/site-packages/zmq/backend/cython/_poll.cpython-311-x86_64-linux-gnu.so'>,\n",
       " 'zmq.backend.cython._proxy_steerable': <module 'zmq.backend.cython._proxy_steerable' from '/home/meet/miniconda3/lib/python3.11/site-packages/zmq/backend/cython/_proxy_steerable.cpython-311-x86_64-linux-gnu.so'>,\n",
       " 'zmq.backend.cython._version': <module 'zmq.backend.cython._version' from '/home/meet/miniconda3/lib/python3.11/site-packages/zmq/backend/cython/_version.cpython-311-x86_64-linux-gnu.so'>,\n",
       " 'zmq.backend.cython.error': <module 'zmq.backend.cython.error' from '/home/meet/miniconda3/lib/python3.11/site-packages/zmq/backend/cython/error.cpython-311-x86_64-linux-gnu.so'>,\n",
       " 'zmq.backend.cython.utils': <module 'zmq.backend.cython.utils' from '/home/meet/miniconda3/lib/python3.11/site-packages/zmq/backend/cython/utils.cpython-311-x86_64-linux-gnu.so'>,\n",
       " 'zmq.backend.cython': <module 'zmq.backend.cython' from '/home/meet/miniconda3/lib/python3.11/site-packages/zmq/backend/cython/__init__.py'>,\n",
       " 'zmq.backend': <module 'zmq.backend' from '/home/meet/miniconda3/lib/python3.11/site-packages/zmq/backend/__init__.py'>,\n",
       " 'atexit': <module 'atexit' (built-in)>,\n",
       " 'zmq.utils': <module 'zmq.utils' from '/home/meet/miniconda3/lib/python3.11/site-packages/zmq/utils/__init__.py'>,\n",
       " 'zmq.utils.interop': <module 'zmq.utils.interop' from '/home/meet/miniconda3/lib/python3.11/site-packages/zmq/utils/interop.py'>,\n",
       " 'zmq.sugar.attrsettr': <module 'zmq.sugar.attrsettr' from '/home/meet/miniconda3/lib/python3.11/site-packages/zmq/sugar/attrsettr.py'>,\n",
       " 'zmq._typing': <module 'zmq._typing' from '/home/meet/miniconda3/lib/python3.11/site-packages/zmq/_typing.py'>,\n",
       " 'zmq.utils.jsonapi': <module 'zmq.utils.jsonapi' from '/home/meet/miniconda3/lib/python3.11/site-packages/zmq/utils/jsonapi.py'>,\n",
       " 'zmq.sugar.poll': <module 'zmq.sugar.poll' from '/home/meet/miniconda3/lib/python3.11/site-packages/zmq/sugar/poll.py'>,\n",
       " 'zmq.sugar.socket': <module 'zmq.sugar.socket' from '/home/meet/miniconda3/lib/python3.11/site-packages/zmq/sugar/socket.py'>,\n",
       " 'zmq.sugar.context': <module 'zmq.sugar.context' from '/home/meet/miniconda3/lib/python3.11/site-packages/zmq/sugar/context.py'>,\n",
       " 'zmq.sugar.frame': <module 'zmq.sugar.frame' from '/home/meet/miniconda3/lib/python3.11/site-packages/zmq/sugar/frame.py'>,\n",
       " 'zmq.sugar.tracker': <module 'zmq.sugar.tracker' from '/home/meet/miniconda3/lib/python3.11/site-packages/zmq/sugar/tracker.py'>,\n",
       " 'zmq.sugar.version': <module 'zmq.sugar.version' from '/home/meet/miniconda3/lib/python3.11/site-packages/zmq/sugar/version.py'>,\n",
       " 'zmq.sugar.stopwatch': <module 'zmq.sugar.stopwatch' from '/home/meet/miniconda3/lib/python3.11/site-packages/zmq/sugar/stopwatch.py'>,\n",
       " 'zmq.sugar': <module 'zmq.sugar' from '/home/meet/miniconda3/lib/python3.11/site-packages/zmq/sugar/__init__.py'>,\n",
       " 'zmq': <module 'zmq' from '/home/meet/miniconda3/lib/python3.11/site-packages/zmq/__init__.py'>,\n",
       " 'concurrent': <module 'concurrent' from '/home/meet/miniconda3/lib/python3.11/concurrent/__init__.py'>,\n",
       " 'token': <module 'token' from '/home/meet/miniconda3/lib/python3.11/token.py'>,\n",
       " 'tokenize': <module 'tokenize' from '/home/meet/miniconda3/lib/python3.11/tokenize.py'>,\n",
       " 'linecache': <module 'linecache' from '/home/meet/miniconda3/lib/python3.11/linecache.py'>,\n",
       " 'textwrap': <module 'textwrap' from '/home/meet/miniconda3/lib/python3.11/textwrap.py'>,\n",
       " 'traceback': <module 'traceback' from '/home/meet/miniconda3/lib/python3.11/traceback.py'>,\n",
       " '_string': <module '_string' (built-in)>,\n",
       " 'string': <module 'string' from '/home/meet/miniconda3/lib/python3.11/string.py'>,\n",
       " 'logging': <module 'logging' from '/home/meet/miniconda3/lib/python3.11/logging/__init__.py'>,\n",
       " 'concurrent.futures._base': <module 'concurrent.futures._base' from '/home/meet/miniconda3/lib/python3.11/concurrent/futures/_base.py'>,\n",
       " 'concurrent.futures': <module 'concurrent.futures' from '/home/meet/miniconda3/lib/python3.11/concurrent/futures/__init__.py'>,\n",
       " '_heapq': <module '_heapq' from '/home/meet/miniconda3/lib/python3.11/lib-dynload/_heapq.cpython-311-x86_64-linux-gnu.so'>,\n",
       " 'heapq': <module 'heapq' from '/home/meet/miniconda3/lib/python3.11/heapq.py'>,\n",
       " '_socket': <module '_socket' from '/home/meet/miniconda3/lib/python3.11/lib-dynload/_socket.cpython-311-x86_64-linux-gnu.so'>,\n",
       " 'array': <module 'array' from '/home/meet/miniconda3/lib/python3.11/lib-dynload/array.cpython-311-x86_64-linux-gnu.so'>,\n",
       " 'socket': <module 'socket' from '/home/meet/miniconda3/lib/python3.11/socket.py'>,\n",
       " '_ssl': <module '_ssl' from '/home/meet/miniconda3/lib/python3.11/lib-dynload/_ssl.cpython-311-x86_64-linux-gnu.so'>,\n",
       " 'binascii': <module 'binascii' from '/home/meet/miniconda3/lib/python3.11/lib-dynload/binascii.cpython-311-x86_64-linux-gnu.so'>,\n",
       " 'base64': <module 'base64' from '/home/meet/miniconda3/lib/python3.11/base64.py'>,\n",
       " 'ssl': <module 'ssl' from '/home/meet/miniconda3/lib/python3.11/ssl.py'>,\n",
       " 'asyncio.constants': <module 'asyncio.constants' from '/home/meet/miniconda3/lib/python3.11/asyncio/constants.py'>,\n",
       " '_ast': <module '_ast' (built-in)>,\n",
       " 'ast': <module 'ast' from '/home/meet/miniconda3/lib/python3.11/ast.py'>,\n",
       " '_opcode': <module '_opcode' from '/home/meet/miniconda3/lib/python3.11/lib-dynload/_opcode.cpython-311-x86_64-linux-gnu.so'>,\n",
       " 'opcode': <module 'opcode' from '/home/meet/miniconda3/lib/python3.11/opcode.py'>,\n",
       " 'dis': <module 'dis' from '/home/meet/miniconda3/lib/python3.11/dis.py'>,\n",
       " 'inspect': <module 'inspect' from '/home/meet/miniconda3/lib/python3.11/inspect.py'>,\n",
       " 'asyncio.coroutines': <module 'asyncio.coroutines' from '/home/meet/miniconda3/lib/python3.11/asyncio/coroutines.py'>,\n",
       " '_contextvars': <module '_contextvars' from '/home/meet/miniconda3/lib/python3.11/lib-dynload/_contextvars.cpython-311-x86_64-linux-gnu.so'>,\n",
       " 'contextvars': <module 'contextvars' from '/home/meet/miniconda3/lib/python3.11/contextvars.py'>,\n",
       " 'asyncio.format_helpers': <module 'asyncio.format_helpers' from '/home/meet/miniconda3/lib/python3.11/asyncio/format_helpers.py'>,\n",
       " 'asyncio.base_futures': <module 'asyncio.base_futures' from '/home/meet/miniconda3/lib/python3.11/asyncio/base_futures.py'>,\n",
       " 'asyncio.exceptions': <module 'asyncio.exceptions' from '/home/meet/miniconda3/lib/python3.11/asyncio/exceptions.py'>,\n",
       " 'asyncio.base_tasks': <module 'asyncio.base_tasks' from '/home/meet/miniconda3/lib/python3.11/asyncio/base_tasks.py'>,\n",
       " '_asyncio': <module '_asyncio' from '/home/meet/miniconda3/lib/python3.11/lib-dynload/_asyncio.cpython-311-x86_64-linux-gnu.so'>,\n",
       " 'asyncio.events': <module 'asyncio.events' from '/home/meet/miniconda3/lib/python3.11/asyncio/events.py'>,\n",
       " 'asyncio.futures': <module 'asyncio.futures' from '/home/meet/miniconda3/lib/python3.11/asyncio/futures.py'>,\n",
       " 'asyncio.protocols': <module 'asyncio.protocols' from '/home/meet/miniconda3/lib/python3.11/asyncio/protocols.py'>,\n",
       " 'asyncio.transports': <module 'asyncio.transports' from '/home/meet/miniconda3/lib/python3.11/asyncio/transports.py'>,\n",
       " 'asyncio.log': <module 'asyncio.log' from '/home/meet/miniconda3/lib/python3.11/asyncio/log.py'>,\n",
       " 'asyncio.sslproto': <module 'asyncio.sslproto' from '/home/meet/miniconda3/lib/python3.11/asyncio/sslproto.py'>,\n",
       " 'asyncio.mixins': <module 'asyncio.mixins' from '/home/meet/miniconda3/lib/python3.11/asyncio/mixins.py'>,\n",
       " 'asyncio.tasks': <module 'asyncio.tasks' from '/home/meet/miniconda3/lib/python3.11/asyncio/tasks.py'>,\n",
       " 'asyncio.locks': <module 'asyncio.locks' from '/home/meet/miniconda3/lib/python3.11/asyncio/locks.py'>,\n",
       " 'asyncio.staggered': <module 'asyncio.staggered' from '/home/meet/miniconda3/lib/python3.11/asyncio/staggered.py'>,\n",
       " 'asyncio.trsock': <module 'asyncio.trsock' from '/home/meet/miniconda3/lib/python3.11/asyncio/trsock.py'>,\n",
       " 'asyncio.base_events': <module 'asyncio.base_events' from '/home/meet/miniconda3/lib/python3.11/asyncio/base_events.py'>,\n",
       " 'asyncio.runners': <module 'asyncio.runners' from '/home/meet/miniconda3/lib/python3.11/asyncio/runners.py'>,\n",
       " 'asyncio.queues': <module 'asyncio.queues' from '/home/meet/miniconda3/lib/python3.11/asyncio/queues.py'>,\n",
       " 'asyncio.streams': <module 'asyncio.streams' from '/home/meet/miniconda3/lib/python3.11/asyncio/streams.py'>,\n",
       " 'asyncio.subprocess': <module 'asyncio.subprocess' from '/home/meet/miniconda3/lib/python3.11/asyncio/subprocess.py'>,\n",
       " 'asyncio.taskgroups': <module 'asyncio.taskgroups' from '/home/meet/miniconda3/lib/python3.11/asyncio/taskgroups.py'>,\n",
       " 'asyncio.timeouts': <module 'asyncio.timeouts' from '/home/meet/miniconda3/lib/python3.11/asyncio/timeouts.py'>,\n",
       " 'asyncio.threads': <module 'asyncio.threads' from '/home/meet/miniconda3/lib/python3.11/asyncio/threads.py'>,\n",
       " 'asyncio.base_subprocess': <module 'asyncio.base_subprocess' from '/home/meet/miniconda3/lib/python3.11/asyncio/base_subprocess.py'>,\n",
       " 'asyncio.selector_events': <module 'asyncio.selector_events' from '/home/meet/miniconda3/lib/python3.11/asyncio/selector_events.py'>,\n",
       " 'asyncio.unix_events': <module 'asyncio.unix_events' from '/home/meet/miniconda3/lib/python3.11/asyncio/unix_events.py'>,\n",
       " 'asyncio': <module 'asyncio' from '/home/meet/miniconda3/lib/python3.11/asyncio/__init__.py'>,\n",
       " 'zmq._future': <module 'zmq._future' from '/home/meet/miniconda3/lib/python3.11/site-packages/zmq/_future.py'>,\n",
       " 'zmq.asyncio': <module 'zmq.asyncio' from '/home/meet/miniconda3/lib/python3.11/site-packages/zmq/asyncio.py'>,\n",
       " 'traitlets.utils': <module 'traitlets.utils' from '/home/meet/miniconda3/lib/python3.11/site-packages/traitlets/utils/__init__.py'>,\n",
       " 'traitlets.utils.bunch': <module 'traitlets.utils.bunch' from '/home/meet/miniconda3/lib/python3.11/site-packages/traitlets/utils/bunch.py'>,\n",
       " 'traitlets.utils.descriptions': <module 'traitlets.utils.descriptions' from '/home/meet/miniconda3/lib/python3.11/site-packages/traitlets/utils/descriptions.py'>,\n",
       " 'traitlets.utils.getargspec': <module 'traitlets.utils.getargspec' from '/home/meet/miniconda3/lib/python3.11/site-packages/traitlets/utils/getargspec.py'>,\n",
       " 'traitlets.utils.importstring': <module 'traitlets.utils.importstring' from '/home/meet/miniconda3/lib/python3.11/site-packages/traitlets/utils/importstring.py'>,\n",
       " 'traitlets.utils.sentinel': <module 'traitlets.utils.sentinel' from '/home/meet/miniconda3/lib/python3.11/site-packages/traitlets/utils/sentinel.py'>,\n",
       " 'traitlets.traitlets': <module 'traitlets.traitlets' from '/home/meet/miniconda3/lib/python3.11/site-packages/traitlets/traitlets.py'>,\n",
       " 'traitlets._version': <module 'traitlets._version' from '/home/meet/miniconda3/lib/python3.11/site-packages/traitlets/_version.py'>,\n",
       " 'traitlets.utils.decorators': <module 'traitlets.utils.decorators' from '/home/meet/miniconda3/lib/python3.11/site-packages/traitlets/utils/decorators.py'>,\n",
       " 'traitlets': <module 'traitlets' from '/home/meet/miniconda3/lib/python3.11/site-packages/traitlets/__init__.py'>,\n",
       " '_queue': <module '_queue' from '/home/meet/miniconda3/lib/python3.11/lib-dynload/_queue.cpython-311-x86_64-linux-gnu.so'>,\n",
       " 'queue': <module 'queue' from '/home/meet/miniconda3/lib/python3.11/queue.py'>,\n",
       " 'jupyter_core.version': <module 'jupyter_core.version' from '/home/meet/miniconda3/lib/python3.11/site-packages/jupyter_core/version.py'>,\n",
       " 'jupyter_core': <module 'jupyter_core' from '/home/meet/miniconda3/lib/python3.11/site-packages/jupyter_core/__init__.py'>,\n",
       " 'fnmatch': <module 'fnmatch' from '/home/meet/miniconda3/lib/python3.11/fnmatch.py'>,\n",
       " 'ntpath': <module 'ntpath' (frozen)>,\n",
       " 'urllib': <module 'urllib' from '/home/meet/miniconda3/lib/python3.11/urllib/__init__.py'>,\n",
       " 'ipaddress': <module 'ipaddress' from '/home/meet/miniconda3/lib/python3.11/ipaddress.py'>,\n",
       " 'urllib.parse': <module 'urllib.parse' from '/home/meet/miniconda3/lib/python3.11/urllib/parse.py'>,\n",
       " 'pathlib': <module 'pathlib' from '/home/meet/miniconda3/lib/python3.11/pathlib.py'>,\n",
       " 'jupyter_core.utils': <module 'jupyter_core.utils' from '/home/meet/miniconda3/lib/python3.11/site-packages/jupyter_core/utils/__init__.py'>,\n",
       " 'jupyter_client.channelsabc': <module 'jupyter_client.channelsabc' from '/home/meet/miniconda3/lib/python3.11/site-packages/jupyter_client/channelsabc.py'>,\n",
       " '_hashlib': <module '_hashlib' from '/home/meet/miniconda3/lib/python3.11/lib-dynload/_hashlib.cpython-311-x86_64-linux-gnu.so'>,\n",
       " '_blake2': <module '_blake2' from '/home/meet/miniconda3/lib/python3.11/lib-dynload/_blake2.cpython-311-x86_64-linux-gnu.so'>,\n",
       " 'hashlib': <module 'hashlib' from '/home/meet/miniconda3/lib/python3.11/hashlib.py'>,\n",
       " 'hmac': <module 'hmac' from '/home/meet/miniconda3/lib/python3.11/hmac.py'>,\n",
       " 'dataclasses': <module 'dataclasses' from '/home/meet/miniconda3/lib/python3.11/dataclasses.py'>,\n",
       " 'pprint': <module 'pprint' from '/home/meet/miniconda3/lib/python3.11/pprint.py'>,\n",
       " '_datetime': <module '_datetime' from '/home/meet/miniconda3/lib/python3.11/lib-dynload/_datetime.cpython-311-x86_64-linux-gnu.so'>,\n",
       " 'datetime': <module 'datetime' from '/home/meet/miniconda3/lib/python3.11/datetime.py'>,\n",
       " 'tornado': <module 'tornado' from '/home/meet/miniconda3/lib/python3.11/site-packages/tornado/__init__.py'>,\n",
       " 'numbers': <module 'numbers' from '/home/meet/miniconda3/lib/python3.11/numbers.py'>,\n",
       " 'logging.handlers': <module 'logging.handlers' from '/home/meet/miniconda3/lib/python3.11/logging/handlers.py'>,\n",
       " 'html.entities': <module 'html.entities' from '/home/meet/miniconda3/lib/python3.11/html/entities.py'>,\n",
       " 'html': <module 'html' from '/home/meet/miniconda3/lib/python3.11/html/__init__.py'>,\n",
       " 'zlib': <module 'zlib' from '/home/meet/miniconda3/lib/python3.11/lib-dynload/zlib.cpython-311-x86_64-linux-gnu.so'>,\n",
       " 'tornado.speedups': <module 'tornado.speedups' from '/home/meet/miniconda3/lib/python3.11/site-packages/tornado/speedups.abi3.so'>,\n",
       " 'tornado.util': <module 'tornado.util' from '/home/meet/miniconda3/lib/python3.11/site-packages/tornado/util.py'>,\n",
       " 'tornado.escape': <module 'tornado.escape' from '/home/meet/miniconda3/lib/python3.11/site-packages/tornado/escape.py'>,\n",
       " '_curses': <module '_curses' from '/home/meet/miniconda3/lib/python3.11/lib-dynload/_curses.cpython-311-x86_64-linux-gnu.so'>,\n",
       " 'curses': <module 'curses' from '/home/meet/miniconda3/lib/python3.11/curses/__init__.py'>,\n",
       " 'tornado.log': <module 'tornado.log' from '/home/meet/miniconda3/lib/python3.11/site-packages/tornado/log.py'>,\n",
       " 'tornado.concurrent': <module 'tornado.concurrent' from '/home/meet/miniconda3/lib/python3.11/site-packages/tornado/concurrent.py'>,\n",
       " 'tornado.ioloop': <module 'tornado.ioloop' from '/home/meet/miniconda3/lib/python3.11/site-packages/tornado/ioloop.py'>,\n",
       " 'socketserver': <module 'socketserver' from '/home/meet/miniconda3/lib/python3.11/socketserver.py'>,\n",
       " 'logging.config': <module 'logging.config' from '/home/meet/miniconda3/lib/python3.11/logging/config.py'>,\n",
       " 'traitlets.utils.text': <module 'traitlets.utils.text' from '/home/meet/miniconda3/lib/python3.11/site-packages/traitlets/utils/text.py'>,\n",
       " 'gettext': <module 'gettext' from '/home/meet/miniconda3/lib/python3.11/gettext.py'>,\n",
       " 'argparse': <module 'argparse' from '/home/meet/miniconda3/lib/python3.11/argparse.py'>,\n",
       " 'traitlets.config.loader': <module 'traitlets.config.loader' from '/home/meet/miniconda3/lib/python3.11/site-packages/traitlets/config/loader.py'>,\n",
       " 'traitlets.config.configurable': <module 'traitlets.config.configurable' from '/home/meet/miniconda3/lib/python3.11/site-packages/traitlets/config/configurable.py'>,\n",
       " 'traitlets.utils.nested_update': <module 'traitlets.utils.nested_update' from '/home/meet/miniconda3/lib/python3.11/site-packages/traitlets/utils/nested_update.py'>,\n",
       " 'traitlets.config.application': <module 'traitlets.config.application' from '/home/meet/miniconda3/lib/python3.11/site-packages/traitlets/config/application.py'>,\n",
       " 'traitlets.config': <module 'traitlets.config' from '/home/meet/miniconda3/lib/python3.11/site-packages/traitlets/config/__init__.py'>,\n",
       " 'traitlets.log': <module 'traitlets.log' from '/home/meet/miniconda3/lib/python3.11/site-packages/traitlets/log.py'>,\n",
       " 'zmq.eventloop': <module 'zmq.eventloop' from '/home/meet/miniconda3/lib/python3.11/site-packages/zmq/eventloop/__init__.py'>,\n",
       " 'zmq.eventloop.zmqstream': <module 'zmq.eventloop.zmqstream' from '/home/meet/miniconda3/lib/python3.11/site-packages/zmq/eventloop/zmqstream.py'>,\n",
       " 'jupyter_client.adapter': <module 'jupyter_client.adapter' from '/home/meet/miniconda3/lib/python3.11/site-packages/jupyter_client/adapter.py'>,\n",
       " 'dateutil._version': <module 'dateutil._version' from '/home/meet/miniconda3/lib/python3.11/site-packages/dateutil/_version.py'>,\n",
       " 'dateutil': <module 'dateutil' from '/home/meet/miniconda3/lib/python3.11/site-packages/dateutil/__init__.py'>,\n",
       " 'calendar': <module 'calendar' from '/home/meet/miniconda3/lib/python3.11/calendar.py'>,\n",
       " 'six': <module 'six' from '/home/meet/miniconda3/lib/python3.11/site-packages/six.py'>,\n",
       " '_decimal': <module '_decimal' from '/home/meet/miniconda3/lib/python3.11/lib-dynload/_decimal.cpython-311-x86_64-linux-gnu.so'>,\n",
       " 'decimal': <module 'decimal' from '/home/meet/miniconda3/lib/python3.11/decimal.py'>,\n",
       " 'dateutil._common': <module 'dateutil._common' from '/home/meet/miniconda3/lib/python3.11/site-packages/dateutil/_common.py'>,\n",
       " 'dateutil.relativedelta': <module 'dateutil.relativedelta' from '/home/meet/miniconda3/lib/python3.11/site-packages/dateutil/relativedelta.py'>,\n",
       " 'six.moves': <module 'six.moves' (<six._SixMetaPathImporter object at 0x7f1027894110>)>,\n",
       " 'dateutil.tz._common': <module 'dateutil.tz._common' from '/home/meet/miniconda3/lib/python3.11/site-packages/dateutil/tz/_common.py'>,\n",
       " 'dateutil.tz._factories': <module 'dateutil.tz._factories' from '/home/meet/miniconda3/lib/python3.11/site-packages/dateutil/tz/_factories.py'>,\n",
       " 'dateutil.tz.tz': <module 'dateutil.tz.tz' from '/home/meet/miniconda3/lib/python3.11/site-packages/dateutil/tz/tz.py'>,\n",
       " 'dateutil.tz': <module 'dateutil.tz' from '/home/meet/miniconda3/lib/python3.11/site-packages/dateutil/tz/__init__.py'>,\n",
       " 'dateutil.parser._parser': <module 'dateutil.parser._parser' from '/home/meet/miniconda3/lib/python3.11/site-packages/dateutil/parser/_parser.py'>,\n",
       " 'dateutil.parser.isoparser': <module 'dateutil.parser.isoparser' from '/home/meet/miniconda3/lib/python3.11/site-packages/dateutil/parser/isoparser.py'>,\n",
       " 'dateutil.parser': <module 'dateutil.parser' from '/home/meet/miniconda3/lib/python3.11/site-packages/dateutil/parser/__init__.py'>,\n",
       " '_strptime': <module '_strptime' from '/home/meet/miniconda3/lib/python3.11/_strptime.py'>,\n",
       " 'jupyter_client.jsonutil': <module 'jupyter_client.jsonutil' from '/home/meet/miniconda3/lib/python3.11/site-packages/jupyter_client/jsonutil.py'>,\n",
       " 'jupyter_client.session': <module 'jupyter_client.session' from '/home/meet/miniconda3/lib/python3.11/site-packages/jupyter_client/session.py'>,\n",
       " 'jupyter_client.channels': <module 'jupyter_client.channels' from '/home/meet/miniconda3/lib/python3.11/site-packages/jupyter_client/channels.py'>,\n",
       " 'termios': <module 'termios' from '/home/meet/miniconda3/lib/python3.11/lib-dynload/termios.cpython-311-x86_64-linux-gnu.so'>,\n",
       " 'getpass': <module 'getpass' from '/home/meet/miniconda3/lib/python3.11/getpass.py'>,\n",
       " 'jupyter_client.clientabc': <module 'jupyter_client.clientabc' from '/home/meet/miniconda3/lib/python3.11/site-packages/jupyter_client/clientabc.py'>,\n",
       " 'glob': <module 'glob' from '/home/meet/miniconda3/lib/python3.11/glob.py'>,\n",
       " '_compression': <module '_compression' from '/home/meet/miniconda3/lib/python3.11/_compression.py'>,\n",
       " '_bz2': <module '_bz2' from '/home/meet/miniconda3/lib/python3.11/lib-dynload/_bz2.cpython-311-x86_64-linux-gnu.so'>,\n",
       " 'bz2': <module 'bz2' from '/home/meet/miniconda3/lib/python3.11/bz2.py'>,\n",
       " '_lzma': <module '_lzma' from '/home/meet/miniconda3/lib/python3.11/lib-dynload/_lzma.cpython-311-x86_64-linux-gnu.so'>,\n",
       " 'lzma': <module 'lzma' from '/home/meet/miniconda3/lib/python3.11/lzma.py'>,\n",
       " 'shutil': <module 'shutil' from '/home/meet/miniconda3/lib/python3.11/shutil.py'>,\n",
       " 'tempfile': <module 'tempfile' from '/home/meet/miniconda3/lib/python3.11/tempfile.py'>,\n",
       " 'platformdirs.api': <module 'platformdirs.api' from '/home/meet/miniconda3/lib/python3.11/site-packages/platformdirs/api.py'>,\n",
       " 'platformdirs.version': <module 'platformdirs.version' from '/home/meet/miniconda3/lib/python3.11/site-packages/platformdirs/version.py'>,\n",
       " 'configparser': <module 'configparser' from '/home/meet/miniconda3/lib/python3.11/configparser.py'>,\n",
       " 'platformdirs.unix': <module 'platformdirs.unix' from '/home/meet/miniconda3/lib/python3.11/site-packages/platformdirs/unix.py'>,\n",
       " 'platformdirs': <module 'platformdirs' from '/home/meet/miniconda3/lib/python3.11/site-packages/platformdirs/__init__.py'>,\n",
       " 'jupyter_core.paths': <module 'jupyter_core.paths' from '/home/meet/miniconda3/lib/python3.11/site-packages/jupyter_core/paths.py'>,\n",
       " 'jupyter_client.localinterfaces': <module 'jupyter_client.localinterfaces' from '/home/meet/miniconda3/lib/python3.11/site-packages/jupyter_client/localinterfaces.py'>,\n",
       " 'jupyter_client.utils': <module 'jupyter_client.utils' from '/home/meet/miniconda3/lib/python3.11/site-packages/jupyter_client/utils.py'>,\n",
       " 'jupyter_client.connect': <module 'jupyter_client.connect' from '/home/meet/miniconda3/lib/python3.11/site-packages/jupyter_client/connect.py'>,\n",
       " 'jupyter_client.client': <module 'jupyter_client.client' from '/home/meet/miniconda3/lib/python3.11/site-packages/jupyter_client/client.py'>,\n",
       " 'jupyter_client.asynchronous.client': <module 'jupyter_client.asynchronous.client' from '/home/meet/miniconda3/lib/python3.11/site-packages/jupyter_client/asynchronous/client.py'>,\n",
       " 'jupyter_client.asynchronous': <module 'jupyter_client.asynchronous' from '/home/meet/miniconda3/lib/python3.11/site-packages/jupyter_client/asynchronous/__init__.py'>,\n",
       " 'jupyter_client.blocking.client': <module 'jupyter_client.blocking.client' from '/home/meet/miniconda3/lib/python3.11/site-packages/jupyter_client/blocking/client.py'>,\n",
       " 'jupyter_client.blocking': <module 'jupyter_client.blocking' from '/home/meet/miniconda3/lib/python3.11/site-packages/jupyter_client/blocking/__init__.py'>,\n",
       " 'jupyter_client.launcher': <module 'jupyter_client.launcher' from '/home/meet/miniconda3/lib/python3.11/site-packages/jupyter_client/launcher.py'>,\n",
       " '_uuid': <module '_uuid' from '/home/meet/miniconda3/lib/python3.11/lib-dynload/_uuid.cpython-311-x86_64-linux-gnu.so'>,\n",
       " 'uuid': <module 'uuid' from '/home/meet/miniconda3/lib/python3.11/uuid.py'>,\n",
       " '_csv': <module '_csv' from '/home/meet/miniconda3/lib/python3.11/lib-dynload/_csv.cpython-311-x86_64-linux-gnu.so'>,\n",
       " 'csv': <module 'csv' from '/home/meet/miniconda3/lib/python3.11/csv.py'>,\n",
       " 'email': <module 'email' from '/home/meet/miniconda3/lib/python3.11/email/__init__.py'>,\n",
       " 'zipfile': <module 'zipfile' from '/home/meet/miniconda3/lib/python3.11/zipfile.py'>,\n",
       " 'quopri': <module 'quopri' from '/home/meet/miniconda3/lib/python3.11/quopri.py'>,\n",
       " 'email._parseaddr': <module 'email._parseaddr' from '/home/meet/miniconda3/lib/python3.11/email/_parseaddr.py'>,\n",
       " 'email.base64mime': <module 'email.base64mime' from '/home/meet/miniconda3/lib/python3.11/email/base64mime.py'>,\n",
       " 'email.quoprimime': <module 'email.quoprimime' from '/home/meet/miniconda3/lib/python3.11/email/quoprimime.py'>,\n",
       " 'email.errors': <module 'email.errors' from '/home/meet/miniconda3/lib/python3.11/email/errors.py'>,\n",
       " 'email.encoders': <module 'email.encoders' from '/home/meet/miniconda3/lib/python3.11/email/encoders.py'>,\n",
       " 'email.charset': <module 'email.charset' from '/home/meet/miniconda3/lib/python3.11/email/charset.py'>,\n",
       " 'email.utils': <module 'email.utils' from '/home/meet/miniconda3/lib/python3.11/email/utils.py'>,\n",
       " 'email.header': <module 'email.header' from '/home/meet/miniconda3/lib/python3.11/email/header.py'>,\n",
       " 'email._policybase': <module 'email._policybase' from '/home/meet/miniconda3/lib/python3.11/email/_policybase.py'>,\n",
       " 'email._encoded_words': <module 'email._encoded_words' from '/home/meet/miniconda3/lib/python3.11/email/_encoded_words.py'>,\n",
       " 'email.iterators': <module 'email.iterators' from '/home/meet/miniconda3/lib/python3.11/email/iterators.py'>,\n",
       " 'email.message': <module 'email.message' from '/home/meet/miniconda3/lib/python3.11/email/message.py'>,\n",
       " 'importlib.metadata._functools': <module 'importlib.metadata._functools' from '/home/meet/miniconda3/lib/python3.11/importlib/metadata/_functools.py'>,\n",
       " 'importlib.metadata._text': <module 'importlib.metadata._text' from '/home/meet/miniconda3/lib/python3.11/importlib/metadata/_text.py'>,\n",
       " 'importlib.metadata._adapters': <module 'importlib.metadata._adapters' from '/home/meet/miniconda3/lib/python3.11/importlib/metadata/_adapters.py'>,\n",
       " 'importlib.metadata._meta': <module 'importlib.metadata._meta' from '/home/meet/miniconda3/lib/python3.11/importlib/metadata/_meta.py'>,\n",
       " 'importlib.metadata._collections': <module 'importlib.metadata._collections' from '/home/meet/miniconda3/lib/python3.11/importlib/metadata/_collections.py'>,\n",
       " 'importlib.metadata._itertools': <module 'importlib.metadata._itertools' from '/home/meet/miniconda3/lib/python3.11/importlib/metadata/_itertools.py'>,\n",
       " 'importlib.resources.abc': <module 'importlib.resources.abc' from '/home/meet/miniconda3/lib/python3.11/importlib/resources/abc.py'>,\n",
       " 'importlib.resources._adapters': <module 'importlib.resources._adapters' from '/home/meet/miniconda3/lib/python3.11/importlib/resources/_adapters.py'>,\n",
       " 'importlib.resources._common': <module 'importlib.resources._common' from '/home/meet/miniconda3/lib/python3.11/importlib/resources/_common.py'>,\n",
       " 'importlib.resources._legacy': <module 'importlib.resources._legacy' from '/home/meet/miniconda3/lib/python3.11/importlib/resources/_legacy.py'>,\n",
       " 'importlib.resources': <module 'importlib.resources' from '/home/meet/miniconda3/lib/python3.11/importlib/resources/__init__.py'>,\n",
       " 'importlib.abc': <module 'importlib.abc' from '/home/meet/miniconda3/lib/python3.11/importlib/abc.py'>,\n",
       " 'importlib.metadata': <module 'importlib.metadata' from '/home/meet/miniconda3/lib/python3.11/importlib/metadata/__init__.py'>,\n",
       " 'jupyter_client.provisioning.provisioner_base': <module 'jupyter_client.provisioning.provisioner_base' from '/home/meet/miniconda3/lib/python3.11/site-packages/jupyter_client/provisioning/provisioner_base.py'>,\n",
       " 'jupyter_client.provisioning.factory': <module 'jupyter_client.provisioning.factory' from '/home/meet/miniconda3/lib/python3.11/site-packages/jupyter_client/provisioning/factory.py'>,\n",
       " 'jupyter_client.provisioning.local_provisioner': <module 'jupyter_client.provisioning.local_provisioner' from '/home/meet/miniconda3/lib/python3.11/site-packages/jupyter_client/provisioning/local_provisioner.py'>,\n",
       " 'jupyter_client.provisioning': <module 'jupyter_client.provisioning' from '/home/meet/miniconda3/lib/python3.11/site-packages/jupyter_client/provisioning/__init__.py'>,\n",
       " 'jupyter_client.kernelspec': <module 'jupyter_client.kernelspec' from '/home/meet/miniconda3/lib/python3.11/site-packages/jupyter_client/kernelspec.py'>,\n",
       " 'jupyter_client.managerabc': <module 'jupyter_client.managerabc' from '/home/meet/miniconda3/lib/python3.11/site-packages/jupyter_client/managerabc.py'>,\n",
       " 'jupyter_client.manager': <module 'jupyter_client.manager' from '/home/meet/miniconda3/lib/python3.11/site-packages/jupyter_client/manager.py'>,\n",
       " 'jupyter_client.multikernelmanager': <module 'jupyter_client.multikernelmanager' from '/home/meet/miniconda3/lib/python3.11/site-packages/jupyter_client/multikernelmanager.py'>,\n",
       " 'jupyter_client': <module 'jupyter_client' from '/home/meet/miniconda3/lib/python3.11/site-packages/jupyter_client/__init__.py'>,\n",
       " 'ipykernel.connect': <module 'ipykernel.connect' from '/home/meet/miniconda3/lib/python3.11/site-packages/ipykernel/connect.py'>,\n",
       " 'ipykernel': <module 'ipykernel' from '/home/meet/miniconda3/lib/python3.11/site-packages/ipykernel/__init__.py'>,\n",
       " 'IPython.core': <module 'IPython.core' from '/home/meet/miniconda3/lib/python3.11/site-packages/IPython/core/__init__.py'>,\n",
       " 'IPython.core.getipython': <module 'IPython.core.getipython' from '/home/meet/miniconda3/lib/python3.11/site-packages/IPython/core/getipython.py'>,\n",
       " 'IPython.core.release': <module 'IPython.core.release' from '/home/meet/miniconda3/lib/python3.11/site-packages/IPython/core/release.py'>,\n",
       " 'pkgutil': <module 'pkgutil' from '/home/meet/miniconda3/lib/python3.11/pkgutil.py'>,\n",
       " 'sysconfig': <module 'sysconfig' from '/home/meet/miniconda3/lib/python3.11/sysconfig.py'>,\n",
       " '_sysconfigdata__linux_x86_64-linux-gnu': <module '_sysconfigdata__linux_x86_64-linux-gnu' from '/home/meet/miniconda3/lib/python3.11/_sysconfigdata__linux_x86_64-linux-gnu.py'>,\n",
       " 'pydoc': <module 'pydoc' from '/home/meet/miniconda3/lib/python3.11/pydoc.py'>,\n",
       " 'executing.executing': <module 'executing.executing' from '/home/meet/miniconda3/lib/python3.11/site-packages/executing/executing.py'>,\n",
       " 'executing.version': <module 'executing.version' from '/home/meet/miniconda3/lib/python3.11/site-packages/executing/version.py'>,\n",
       " 'executing': <module 'executing' from '/home/meet/miniconda3/lib/python3.11/site-packages/executing/__init__.py'>,\n",
       " 'asttokens.line_numbers': <module 'asttokens.line_numbers' from '/home/meet/miniconda3/lib/python3.11/site-packages/asttokens/line_numbers.py'>,\n",
       " 'asttokens.util': <module 'asttokens.util' from '/home/meet/miniconda3/lib/python3.11/site-packages/asttokens/util.py'>,\n",
       " 'asttokens.mark_tokens': <module 'asttokens.mark_tokens' from '/home/meet/miniconda3/lib/python3.11/site-packages/asttokens/mark_tokens.py'>,\n",
       " 'asttokens.asttokens': <module 'asttokens.asttokens' from '/home/meet/miniconda3/lib/python3.11/site-packages/asttokens/asttokens.py'>,\n",
       " 'asttokens': <module 'asttokens' from '/home/meet/miniconda3/lib/python3.11/site-packages/asttokens/__init__.py'>,\n",
       " 'fractions': <module 'fractions' from '/home/meet/miniconda3/lib/python3.11/fractions.py'>,\n",
       " 'pure_eval.utils': <module 'pure_eval.utils' from '/home/meet/miniconda3/lib/python3.11/site-packages/pure_eval/utils.py'>,\n",
       " 'pure_eval.my_getattr_static': <module 'pure_eval.my_getattr_static' from '/home/meet/miniconda3/lib/python3.11/site-packages/pure_eval/my_getattr_static.py'>,\n",
       " 'pure_eval.core': <module 'pure_eval.core' from '/home/meet/miniconda3/lib/python3.11/site-packages/pure_eval/core.py'>,\n",
       " 'pure_eval.version': <module 'pure_eval.version' from '/home/meet/miniconda3/lib/python3.11/site-packages/pure_eval/version.py'>,\n",
       " 'pure_eval': <module 'pure_eval' from '/home/meet/miniconda3/lib/python3.11/site-packages/pure_eval/__init__.py'>,\n",
       " 'stack_data.utils': <module 'stack_data.utils' from '/home/meet/miniconda3/lib/python3.11/site-packages/stack_data/utils.py'>,\n",
       " 'stack_data.core': <module 'stack_data.core' from '/home/meet/miniconda3/lib/python3.11/site-packages/stack_data/core.py'>,\n",
       " 'stack_data.formatting': <module 'stack_data.formatting' from '/home/meet/miniconda3/lib/python3.11/site-packages/stack_data/formatting.py'>,\n",
       " 'stack_data.version': <module 'stack_data.version' from '/home/meet/miniconda3/lib/python3.11/site-packages/stack_data/version.py'>,\n",
       " 'stack_data': <module 'stack_data' from '/home/meet/miniconda3/lib/python3.11/site-packages/stack_data/__init__.py'>,\n",
       " 'pygments': <module 'pygments' from '/home/meet/miniconda3/lib/python3.11/site-packages/pygments/__init__.py'>,\n",
       " 'pygments.formatters._mapping': <module 'pygments.formatters._mapping' from '/home/meet/miniconda3/lib/python3.11/site-packages/pygments/formatters/_mapping.py'>,\n",
       " 'pygments.plugin': <module 'pygments.plugin' from '/home/meet/miniconda3/lib/python3.11/site-packages/pygments/plugin.py'>,\n",
       " 'pygments.util': <module 'pygments.util' from '/home/meet/miniconda3/lib/python3.11/site-packages/pygments/util.py'>,\n",
       " 'pygments.formatters': <module 'pygments.formatters' from '/home/meet/miniconda3/lib/python3.11/site-packages/pygments/formatters/__init__.py'>,\n",
       " 'pygments.styles': <module 'pygments.styles' from '/home/meet/miniconda3/lib/python3.11/site-packages/pygments/styles/__init__.py'>,\n",
       " 'pygments.formatter': <module 'pygments.formatter' from '/home/meet/miniconda3/lib/python3.11/site-packages/pygments/formatter.py'>,\n",
       " 'pygments.console': <module 'pygments.console' from '/home/meet/miniconda3/lib/python3.11/site-packages/pygments/console.py'>,\n",
       " 'pygments.token': <module 'pygments.token' from '/home/meet/miniconda3/lib/python3.11/site-packages/pygments/token.py'>,\n",
       " 'pygments.style': <module 'pygments.style' from '/home/meet/miniconda3/lib/python3.11/site-packages/pygments/style.py'>,\n",
       " 'pygments.formatters.terminal256': <module 'pygments.formatters.terminal256' from '/home/meet/miniconda3/lib/python3.11/site-packages/pygments/formatters/terminal256.py'>,\n",
       " 'IPython.utils': <module 'IPython.utils' from '/home/meet/miniconda3/lib/python3.11/site-packages/IPython/utils/__init__.py'>,\n",
       " 'IPython.utils.colorable': <module 'IPython.utils.colorable' from '/home/meet/miniconda3/lib/python3.11/site-packages/IPython/utils/colorable.py'>,\n",
       " 'IPython.utils.ipstruct': <module 'IPython.utils.ipstruct' from '/home/meet/miniconda3/lib/python3.11/site-packages/IPython/utils/ipstruct.py'>,\n",
       " 'IPython.utils.coloransi': <module 'IPython.utils.coloransi' from '/home/meet/miniconda3/lib/python3.11/site-packages/IPython/utils/coloransi.py'>,\n",
       " 'IPython.utils.PyColorize': <module 'IPython.utils.PyColorize' from '/home/meet/miniconda3/lib/python3.11/site-packages/IPython/utils/PyColorize.py'>,\n",
       " 'IPython.utils.encoding': <module 'IPython.utils.encoding' from '/home/meet/miniconda3/lib/python3.11/site-packages/IPython/utils/encoding.py'>,\n",
       " 'IPython.utils.py3compat': <module 'IPython.utils.py3compat' from '/home/meet/miniconda3/lib/python3.11/site-packages/IPython/utils/py3compat.py'>,\n",
       " 'IPython.core.excolors': <module 'IPython.core.excolors' from '/home/meet/miniconda3/lib/python3.11/site-packages/IPython/core/excolors.py'>,\n",
       " 'cmd': <module 'cmd' from '/home/meet/miniconda3/lib/python3.11/cmd.py'>,\n",
       " 'bdb': <module 'bdb' from '/home/meet/miniconda3/lib/python3.11/bdb.py'>,\n",
       " 'codeop': <module 'codeop' from '/home/meet/miniconda3/lib/python3.11/codeop.py'>,\n",
       " 'code': <module 'code' from '/home/meet/miniconda3/lib/python3.11/code.py'>,\n",
       " 'pdb': <module 'pdb' from '/home/meet/miniconda3/lib/python3.11/pdb.py'>,\n",
       " 'IPython.core.debugger': <module 'IPython.core.debugger' from '/home/meet/miniconda3/lib/python3.11/site-packages/IPython/core/debugger.py'>,\n",
       " 'IPython.core.display_trap': <module 'IPython.core.display_trap' from '/home/meet/miniconda3/lib/python3.11/site-packages/IPython/core/display_trap.py'>,\n",
       " 'pexpect.exceptions': <module 'pexpect.exceptions' from '/home/meet/miniconda3/lib/python3.11/site-packages/pexpect/exceptions.py'>,\n",
       " 'pexpect.utils': <module 'pexpect.utils' from '/home/meet/miniconda3/lib/python3.11/site-packages/pexpect/utils.py'>,\n",
       " 'pexpect.expect': <module 'pexpect.expect' from '/home/meet/miniconda3/lib/python3.11/site-packages/pexpect/expect.py'>,\n",
       " 'tty': <module 'tty' from '/home/meet/miniconda3/lib/python3.11/tty.py'>,\n",
       " 'pty': <module 'pty' from '/home/meet/miniconda3/lib/python3.11/pty.py'>,\n",
       " 'resource': <module 'resource' from '/home/meet/miniconda3/lib/python3.11/lib-dynload/resource.cpython-311-x86_64-linux-gnu.so'>,\n",
       " 'ptyprocess.util': <module 'ptyprocess.util' from '/home/meet/miniconda3/lib/python3.11/site-packages/ptyprocess/util.py'>,\n",
       " 'ptyprocess.ptyprocess': <module 'ptyprocess.ptyprocess' from '/home/meet/miniconda3/lib/python3.11/site-packages/ptyprocess/ptyprocess.py'>,\n",
       " 'ptyprocess': <module 'ptyprocess' from '/home/meet/miniconda3/lib/python3.11/site-packages/ptyprocess/__init__.py'>,\n",
       " 'pexpect.spawnbase': <module 'pexpect.spawnbase' from '/home/meet/miniconda3/lib/python3.11/site-packages/pexpect/spawnbase.py'>,\n",
       " 'pexpect.pty_spawn': <module 'pexpect.pty_spawn' from '/home/meet/miniconda3/lib/python3.11/site-packages/pexpect/pty_spawn.py'>,\n",
       " 'pexpect.run': <module 'pexpect.run' from '/home/meet/miniconda3/lib/python3.11/site-packages/pexpect/run.py'>,\n",
       " 'pexpect': <module 'pexpect' from '/home/meet/miniconda3/lib/python3.11/site-packages/pexpect/__init__.py'>,\n",
       " 'shlex': <module 'shlex' from '/home/meet/miniconda3/lib/python3.11/shlex.py'>,\n",
       " 'IPython.utils._process_common': <module 'IPython.utils._process_common' from '/home/meet/miniconda3/lib/python3.11/site-packages/IPython/utils/_process_common.py'>,\n",
       " 'IPython.utils._process_posix': <module 'IPython.utils._process_posix' from '/home/meet/miniconda3/lib/python3.11/site-packages/IPython/utils/_process_posix.py'>,\n",
       " 'IPython.utils.process': <module 'IPython.utils.process' from '/home/meet/miniconda3/lib/python3.11/site-packages/IPython/utils/process.py'>,\n",
       " 'IPython.utils.path': <module 'IPython.utils.path' from '/home/meet/miniconda3/lib/python3.11/site-packages/IPython/utils/path.py'>,\n",
       " 'IPython.utils.terminal': <module 'IPython.utils.terminal' from '/home/meet/miniconda3/lib/python3.11/site-packages/IPython/utils/terminal.py'>,\n",
       " 'IPython.core.ultratb': <module 'IPython.core.ultratb' from '/home/meet/miniconda3/lib/python3.11/site-packages/IPython/core/ultratb.py'>,\n",
       " 'IPython.utils._sysinfo': <module 'IPython.utils._sysinfo' from '/home/meet/miniconda3/lib/python3.11/site-packages/IPython/utils/_sysinfo.py'>,\n",
       " 'IPython.utils.sysinfo': <module 'IPython.utils.sysinfo' from '/home/meet/miniconda3/lib/python3.11/site-packages/IPython/utils/sysinfo.py'>,\n",
       " 'IPython.core.crashhandler': <module 'IPython.core.crashhandler' from '/home/meet/miniconda3/lib/python3.11/site-packages/IPython/core/crashhandler.py'>,\n",
       " 'IPython.utils.importstring': <module 'IPython.utils.importstring' from '/home/meet/miniconda3/lib/python3.11/site-packages/IPython/utils/importstring.py'>,\n",
       " 'IPython.paths': <module 'IPython.paths' from '/home/meet/miniconda3/lib/python3.11/site-packages/IPython/paths.py'>,\n",
       " 'IPython.core.profiledir': <module 'IPython.core.profiledir' from '/home/meet/miniconda3/lib/python3.11/site-packages/IPython/core/profiledir.py'>,\n",
       " 'IPython.core.application': <module 'IPython.core.application' from '/home/meet/miniconda3/lib/python3.11/site-packages/IPython/core/application.py'>,\n",
       " 'IPython.terminal': <module 'IPython.terminal' from '/home/meet/miniconda3/lib/python3.11/site-packages/IPython/terminal/__init__.py'>,\n",
       " 'IPython.core.compilerop': <module 'IPython.core.compilerop' from '/home/meet/miniconda3/lib/python3.11/site-packages/IPython/core/compilerop.py'>,\n",
       " 'IPython.core.error': <module 'IPython.core.error' from '/home/meet/miniconda3/lib/python3.11/site-packages/IPython/core/error.py'>,\n",
       " 'IPython.utils.docs': <module 'IPython.utils.docs' from '/home/meet/miniconda3/lib/python3.11/site-packages/IPython/utils/docs.py'>,\n",
       " 'IPython.utils.decorators': <module 'IPython.utils.decorators' from '/home/meet/miniconda3/lib/python3.11/site-packages/IPython/utils/decorators.py'>,\n",
       " 'IPython.utils.text': <module 'IPython.utils.text' from '/home/meet/miniconda3/lib/python3.11/site-packages/IPython/utils/text.py'>,\n",
       " 'IPython.core.magic_arguments': <module 'IPython.core.magic_arguments' from '/home/meet/miniconda3/lib/python3.11/site-packages/IPython/core/magic_arguments.py'>,\n",
       " 'getopt': <module 'getopt' from '/home/meet/miniconda3/lib/python3.11/getopt.py'>,\n",
       " 'IPython.core.display_functions': <module 'IPython.core.display_functions' from '/home/meet/miniconda3/lib/python3.11/site-packages/IPython/core/display_functions.py'>,\n",
       " 'mimetypes': <module 'mimetypes' from '/home/meet/miniconda3/lib/python3.11/mimetypes.py'>,\n",
       " 'IPython.testing': <module 'IPython.testing' from '/home/meet/miniconda3/lib/python3.11/site-packages/IPython/testing/__init__.py'>,\n",
       " 'IPython.testing.skipdoctest': <module 'IPython.testing.skipdoctest' from '/home/meet/miniconda3/lib/python3.11/site-packages/IPython/testing/skipdoctest.py'>,\n",
       " 'IPython.core.display': <module 'IPython.core.display' from '/home/meet/miniconda3/lib/python3.11/site-packages/IPython/core/display.py'>,\n",
       " 'IPython.lib': <module 'IPython.lib' from '/home/meet/miniconda3/lib/python3.11/site-packages/IPython/lib/__init__.py'>,\n",
       " 'IPython.lib.display': <module 'IPython.lib.display' from '/home/meet/miniconda3/lib/python3.11/site-packages/IPython/lib/display.py'>,\n",
       " 'IPython.display': <module 'IPython.display' from '/home/meet/miniconda3/lib/python3.11/site-packages/IPython/display.py'>,\n",
       " 'IPython.utils.data': <module 'IPython.utils.data' from '/home/meet/miniconda3/lib/python3.11/site-packages/IPython/utils/data.py'>,\n",
       " 'IPython.core.page': <module 'IPython.core.page' from '/home/meet/miniconda3/lib/python3.11/site-packages/IPython/core/page.py'>,\n",
       " 'IPython.lib.pretty': <module 'IPython.lib.pretty' from '/home/meet/miniconda3/lib/python3.11/site-packages/IPython/lib/pretty.py'>,\n",
       " 'IPython.utils.openpy': <module 'IPython.utils.openpy' from '/home/meet/miniconda3/lib/python3.11/site-packages/IPython/utils/openpy.py'>,\n",
       " 'IPython.utils.dir2': <module 'IPython.utils.dir2' from '/home/meet/miniconda3/lib/python3.11/site-packages/IPython/utils/dir2.py'>,\n",
       " 'IPython.utils.wildcard': <module 'IPython.utils.wildcard' from '/home/meet/miniconda3/lib/python3.11/site-packages/IPython/utils/wildcard.py'>,\n",
       " 'pygments.lexers._mapping': <module 'pygments.lexers._mapping' from '/home/meet/miniconda3/lib/python3.11/site-packages/pygments/lexers/_mapping.py'>,\n",
       " 'pygments.modeline': <module 'pygments.modeline' from '/home/meet/miniconda3/lib/python3.11/site-packages/pygments/modeline.py'>,\n",
       " 'pygments.lexers': <module 'pygments.lexers' from '/home/meet/miniconda3/lib/python3.11/site-packages/pygments/lexers/__init__.py'>,\n",
       " 'pygments.filter': <module 'pygments.filter' from '/home/meet/miniconda3/lib/python3.11/site-packages/pygments/filter.py'>,\n",
       " 'pygments.filters': <module 'pygments.filters' from '/home/meet/miniconda3/lib/python3.11/site-packages/pygments/filters/__init__.py'>,\n",
       " 'pygments.regexopt': <module 'pygments.regexopt' from '/home/meet/miniconda3/lib/python3.11/site-packages/pygments/regexopt.py'>,\n",
       " 'pygments.lexer': <module 'pygments.lexer' from '/home/meet/miniconda3/lib/python3.11/site-packages/pygments/lexer.py'>,\n",
       " 'pygments.unistring': <module 'pygments.unistring' from '/home/meet/miniconda3/lib/python3.11/site-packages/pygments/unistring.py'>,\n",
       " 'pygments.lexers.python': <module 'pygments.lexers.python' from '/home/meet/miniconda3/lib/python3.11/site-packages/pygments/lexers/python.py'>,\n",
       " 'pygments.formatters.html': <module 'pygments.formatters.html' from '/home/meet/miniconda3/lib/python3.11/site-packages/pygments/formatters/html.py'>,\n",
       " 'IPython.core.oinspect': <module 'IPython.core.oinspect' from '/home/meet/miniconda3/lib/python3.11/site-packages/IPython/core/oinspect.py'>,\n",
       " 'IPython.utils.tokenutil': <module 'IPython.utils.tokenutil' from '/home/meet/miniconda3/lib/python3.11/site-packages/IPython/utils/tokenutil.py'>,\n",
       " 'IPython.core.inputtransformer2': <module 'IPython.core.inputtransformer2' from '/home/meet/miniconda3/lib/python3.11/site-packages/IPython/core/inputtransformer2.py'>,\n",
       " 'IPython.core.magic': <module 'IPython.core.magic' from '/home/meet/miniconda3/lib/python3.11/site-packages/IPython/core/magic.py'>,\n",
       " 'pickleshare': <module 'pickleshare' from '/home/meet/miniconda3/lib/python3.11/site-packages/pickleshare.py'>,\n",
       " 'IPython.core.hooks': <module 'IPython.core.hooks' from '/home/meet/miniconda3/lib/python3.11/site-packages/IPython/core/hooks.py'>,\n",
       " 'IPython.core.autocall': <module 'IPython.core.autocall' from '/home/meet/miniconda3/lib/python3.11/site-packages/IPython/core/autocall.py'>,\n",
       " 'IPython.core.macro': <module 'IPython.core.macro' from '/home/meet/miniconda3/lib/python3.11/site-packages/IPython/core/macro.py'>,\n",
       " 'IPython.core.splitinput': <module 'IPython.core.splitinput' from '/home/meet/miniconda3/lib/python3.11/site-packages/IPython/core/splitinput.py'>,\n",
       " 'IPython.core.prefilter': <module 'IPython.core.prefilter' from '/home/meet/miniconda3/lib/python3.11/site-packages/IPython/core/prefilter.py'>,\n",
       " 'IPython.core.alias': <module 'IPython.core.alias' from '/home/meet/miniconda3/lib/python3.11/site-packages/IPython/core/alias.py'>,\n",
       " 'IPython.core.builtin_trap': <module 'IPython.core.builtin_trap' from '/home/meet/miniconda3/lib/python3.11/site-packages/IPython/core/builtin_trap.py'>,\n",
       " 'IPython.core.displayhook': <module 'IPython.core.displayhook' from '/home/meet/miniconda3/lib/python3.11/site-packages/IPython/core/displayhook.py'>,\n",
       " 'IPython.core.displaypub': <module 'IPython.core.displaypub' from '/home/meet/miniconda3/lib/python3.11/site-packages/IPython/core/displaypub.py'>,\n",
       " 'IPython.core.events': <module 'IPython.core.events' from '/home/meet/miniconda3/lib/python3.11/site-packages/IPython/core/events.py'>,\n",
       " 'IPython.core.extensions': <module 'IPython.core.extensions' from '/home/meet/miniconda3/lib/python3.11/site-packages/IPython/core/extensions.py'>,\n",
       " 'decorator': <module 'decorator' from '/home/meet/miniconda3/lib/python3.11/site-packages/decorator.py'>,\n",
       " 'IPython.utils.sentinel': <module 'IPython.utils.sentinel' from '/home/meet/miniconda3/lib/python3.11/site-packages/IPython/utils/sentinel.py'>,\n",
       " 'IPython.core.formatters': <module 'IPython.core.formatters' from '/home/meet/miniconda3/lib/python3.11/site-packages/IPython/core/formatters.py'>,\n",
       " '_sqlite3': <module '_sqlite3' from '/home/meet/miniconda3/lib/python3.11/lib-dynload/_sqlite3.cpython-311-x86_64-linux-gnu.so'>,\n",
       " 'sqlite3.dbapi2': <module 'sqlite3.dbapi2' from '/home/meet/miniconda3/lib/python3.11/sqlite3/dbapi2.py'>,\n",
       " 'sqlite3': <module 'sqlite3' from '/home/meet/miniconda3/lib/python3.11/sqlite3/__init__.py'>,\n",
       " 'IPython.core.history': <module 'IPython.core.history' from '/home/meet/miniconda3/lib/python3.11/site-packages/IPython/core/history.py'>,\n",
       " 'IPython.core.logger': <module 'IPython.core.logger' from '/home/meet/miniconda3/lib/python3.11/site-packages/IPython/core/logger.py'>,\n",
       " 'IPython.core.payload': <module 'IPython.core.payload' from '/home/meet/miniconda3/lib/python3.11/site-packages/IPython/core/payload.py'>,\n",
       " 'IPython.core.usage': <module 'IPython.core.usage' from '/home/meet/miniconda3/lib/python3.11/site-packages/IPython/core/usage.py'>,\n",
       " 'IPython.utils.capture': <module 'IPython.utils.capture' from '/home/meet/miniconda3/lib/python3.11/site-packages/IPython/utils/capture.py'>,\n",
       " 'IPython.utils.io': <module 'IPython.utils.io' from '/home/meet/miniconda3/lib/python3.11/site-packages/IPython/utils/io.py'>,\n",
       " 'IPython.utils.strdispatch': <module 'IPython.utils.strdispatch' from '/home/meet/miniconda3/lib/python3.11/site-packages/IPython/utils/strdispatch.py'>,\n",
       " 'IPython.utils.syspathcontext': <module 'IPython.utils.syspathcontext' from '/home/meet/miniconda3/lib/python3.11/site-packages/IPython/utils/syspathcontext.py'>,\n",
       " 'IPython.core.async_helpers': <module 'IPython.core.async_helpers' from '/home/meet/miniconda3/lib/python3.11/site-packages/IPython/core/async_helpers.py'>,\n",
       " 'IPython.core.interactiveshell': <module 'IPython.core.interactiveshell' from '/home/meet/miniconda3/lib/python3.11/site-packages/IPython/core/interactiveshell.py'>,\n",
       " 'prompt_toolkit.application.current': <module 'prompt_toolkit.application.current' from '/home/meet/miniconda3/lib/python3.11/site-packages/prompt_toolkit/application/current.py'>,\n",
       " 'prompt_toolkit.eventloop.utils': <module 'prompt_toolkit.eventloop.utils' from '/home/meet/miniconda3/lib/python3.11/site-packages/prompt_toolkit/eventloop/utils.py'>,\n",
       " 'prompt_toolkit.eventloop.async_generator': <module 'prompt_toolkit.eventloop.async_generator' from '/home/meet/miniconda3/lib/python3.11/site-packages/prompt_toolkit/eventloop/async_generator.py'>,\n",
       " 'prompt_toolkit.eventloop.inputhook': <module 'prompt_toolkit.eventloop.inputhook' from '/home/meet/miniconda3/lib/python3.11/site-packages/prompt_toolkit/eventloop/inputhook.py'>,\n",
       " 'prompt_toolkit.eventloop': <module 'prompt_toolkit.eventloop' from '/home/meet/miniconda3/lib/python3.11/site-packages/prompt_toolkit/eventloop/__init__.py'>,\n",
       " 'prompt_toolkit.application.run_in_terminal': <module 'prompt_toolkit.application.run_in_terminal' from '/home/meet/miniconda3/lib/python3.11/site-packages/prompt_toolkit/application/run_in_terminal.py'>,\n",
       " 'prompt_toolkit.selection': <module 'prompt_toolkit.selection' from '/home/meet/miniconda3/lib/python3.11/site-packages/prompt_toolkit/selection.py'>,\n",
       " 'prompt_toolkit.clipboard.base': <module 'prompt_toolkit.clipboard.base' from '/home/meet/miniconda3/lib/python3.11/site-packages/prompt_toolkit/clipboard/base.py'>,\n",
       " 'prompt_toolkit.clipboard.in_memory': <module 'prompt_toolkit.clipboard.in_memory' from '/home/meet/miniconda3/lib/python3.11/site-packages/prompt_toolkit/clipboard/in_memory.py'>,\n",
       " 'prompt_toolkit.clipboard': <module 'prompt_toolkit.clipboard' from '/home/meet/miniconda3/lib/python3.11/site-packages/prompt_toolkit/clipboard/__init__.py'>,\n",
       " 'prompt_toolkit.cache': <module 'prompt_toolkit.cache' from '/home/meet/miniconda3/lib/python3.11/site-packages/prompt_toolkit/cache.py'>,\n",
       " 'prompt_toolkit.enums': <module 'prompt_toolkit.enums' from '/home/meet/miniconda3/lib/python3.11/site-packages/prompt_toolkit/enums.py'>,\n",
       " 'prompt_toolkit.filters.base': <module 'prompt_toolkit.filters.base' from '/home/meet/miniconda3/lib/python3.11/site-packages/prompt_toolkit/filters/base.py'>,\n",
       " 'prompt_toolkit.filters.app': <module 'prompt_toolkit.filters.app' from '/home/meet/miniconda3/lib/python3.11/site-packages/prompt_toolkit/filters/app.py'>,\n",
       " 'prompt_toolkit.filters.cli': <module 'prompt_toolkit.filters.cli' from '/home/meet/miniconda3/lib/python3.11/site-packages/prompt_toolkit/filters/cli.py'>,\n",
       " 'prompt_toolkit.filters.utils': <module 'prompt_toolkit.filters.utils' from '/home/meet/miniconda3/lib/python3.11/site-packages/prompt_toolkit/filters/utils.py'>,\n",
       " 'prompt_toolkit.filters': <module 'prompt_toolkit.filters' from '/home/meet/miniconda3/lib/python3.11/site-packages/prompt_toolkit/filters/__init__.py'>,\n",
       " 'prompt_toolkit.document': <module 'prompt_toolkit.document' from '/home/meet/miniconda3/lib/python3.11/site-packages/prompt_toolkit/document.py'>,\n",
       " 'prompt_toolkit.auto_suggest': <module 'prompt_toolkit.auto_suggest' from '/home/meet/miniconda3/lib/python3.11/site-packages/prompt_toolkit/auto_suggest.py'>,\n",
       " 'prompt_toolkit.keys': <module 'prompt_toolkit.keys' from '/home/meet/miniconda3/lib/python3.11/site-packages/prompt_toolkit/keys.py'>,\n",
       " 'prompt_toolkit.key_binding.key_bindings': <module 'prompt_toolkit.key_binding.key_bindings' from '/home/meet/miniconda3/lib/python3.11/site-packages/prompt_toolkit/key_binding/key_bindings.py'>,\n",
       " 'wcwidth.table_wide': <module 'wcwidth.table_wide' from '/home/meet/miniconda3/lib/python3.11/site-packages/wcwidth/table_wide.py'>,\n",
       " 'wcwidth.table_zero': <module 'wcwidth.table_zero' from '/home/meet/miniconda3/lib/python3.11/site-packages/wcwidth/table_zero.py'>,\n",
       " 'wcwidth.unicode_versions': <module 'wcwidth.unicode_versions' from '/home/meet/miniconda3/lib/python3.11/site-packages/wcwidth/unicode_versions.py'>,\n",
       " 'wcwidth.wcwidth': <module 'wcwidth.wcwidth' from '/home/meet/miniconda3/lib/python3.11/site-packages/wcwidth/wcwidth.py'>,\n",
       " 'wcwidth': <module 'wcwidth' from '/home/meet/miniconda3/lib/python3.11/site-packages/wcwidth/__init__.py'>,\n",
       " 'prompt_toolkit.utils': <module 'prompt_toolkit.utils' from '/home/meet/miniconda3/lib/python3.11/site-packages/prompt_toolkit/utils.py'>,\n",
       " 'prompt_toolkit.key_binding.key_processor': <module 'prompt_toolkit.key_binding.key_processor' from '/home/meet/miniconda3/lib/python3.11/site-packages/prompt_toolkit/key_binding/key_processor.py'>,\n",
       " 'prompt_toolkit.key_binding': <module 'prompt_toolkit.key_binding' from '/home/meet/miniconda3/lib/python3.11/site-packages/prompt_toolkit/key_binding/__init__.py'>,\n",
       " 'prompt_toolkit.key_binding.vi_state': <module 'prompt_toolkit.key_binding.vi_state' from '/home/meet/miniconda3/lib/python3.11/site-packages/prompt_toolkit/key_binding/vi_state.py'>,\n",
       " 'prompt_toolkit.cursor_shapes': <module 'prompt_toolkit.cursor_shapes' from '/home/meet/miniconda3/lib/python3.11/site-packages/prompt_toolkit/cursor_shapes.py'>,\n",
       " 'prompt_toolkit.data_structures': <module 'prompt_toolkit.data_structures' from '/home/meet/miniconda3/lib/python3.11/site-packages/prompt_toolkit/data_structures.py'>,\n",
       " 'prompt_toolkit.styles.base': <module 'prompt_toolkit.styles.base' from '/home/meet/miniconda3/lib/python3.11/site-packages/prompt_toolkit/styles/base.py'>,\n",
       " 'prompt_toolkit.styles.named_colors': <module 'prompt_toolkit.styles.named_colors' from '/home/meet/miniconda3/lib/python3.11/site-packages/prompt_toolkit/styles/named_colors.py'>,\n",
       " 'prompt_toolkit.styles.style': <module 'prompt_toolkit.styles.style' from '/home/meet/miniconda3/lib/python3.11/site-packages/prompt_toolkit/styles/style.py'>,\n",
       " 'prompt_toolkit.styles.defaults': <module 'prompt_toolkit.styles.defaults' from '/home/meet/miniconda3/lib/python3.11/site-packages/prompt_toolkit/styles/defaults.py'>,\n",
       " 'prompt_toolkit.styles.pygments': <module 'prompt_toolkit.styles.pygments' from '/home/meet/miniconda3/lib/python3.11/site-packages/prompt_toolkit/styles/pygments.py'>,\n",
       " 'colorsys': <module 'colorsys' from '/home/meet/miniconda3/lib/python3.11/colorsys.py'>,\n",
       " 'prompt_toolkit.styles.style_transformation': <module 'prompt_toolkit.styles.style_transformation' from '/home/meet/miniconda3/lib/python3.11/site-packages/prompt_toolkit/styles/style_transformation.py'>,\n",
       " 'prompt_toolkit.styles': <module 'prompt_toolkit.styles' from '/home/meet/miniconda3/lib/python3.11/site-packages/prompt_toolkit/styles/__init__.py'>,\n",
       " 'prompt_toolkit.output.color_depth': <module 'prompt_toolkit.output.color_depth' from '/home/meet/miniconda3/lib/python3.11/site-packages/prompt_toolkit/output/color_depth.py'>,\n",
       " 'prompt_toolkit.output.base': <module 'prompt_toolkit.output.base' from '/home/meet/miniconda3/lib/python3.11/site-packages/prompt_toolkit/output/base.py'>,\n",
       " 'prompt_toolkit.output.flush_stdout': <module 'prompt_toolkit.output.flush_stdout' from '/home/meet/miniconda3/lib/python3.11/site-packages/prompt_toolkit/output/flush_stdout.py'>,\n",
       " 'prompt_toolkit.output.plain_text': <module 'prompt_toolkit.output.plain_text' from '/home/meet/miniconda3/lib/python3.11/site-packages/prompt_toolkit/output/plain_text.py'>,\n",
       " 'prompt_toolkit.output.defaults': <module 'prompt_toolkit.output.defaults' from '/home/meet/miniconda3/lib/python3.11/site-packages/prompt_toolkit/output/defaults.py'>,\n",
       " 'prompt_toolkit.output': <module 'prompt_toolkit.output' from '/home/meet/miniconda3/lib/python3.11/site-packages/prompt_toolkit/output/__init__.py'>,\n",
       " 'prompt_toolkit.output.vt100': <module 'prompt_toolkit.output.vt100' from '/home/meet/miniconda3/lib/python3.11/site-packages/prompt_toolkit/output/vt100.py'>,\n",
       " 'prompt_toolkit.mouse_events': <module 'prompt_toolkit.mouse_events' from '/home/meet/miniconda3/lib/python3.11/site-packages/prompt_toolkit/mouse_events.py'>,\n",
       " 'prompt_toolkit.formatted_text.base': <module 'prompt_toolkit.formatted_text.base' from '/home/meet/miniconda3/lib/python3.11/site-packages/prompt_toolkit/formatted_text/base.py'>,\n",
       " 'prompt_toolkit.formatted_text.ansi': <module 'prompt_toolkit.formatted_text.ansi' from '/home/meet/miniconda3/lib/python3.11/site-packages/prompt_toolkit/formatted_text/ansi.py'>,\n",
       " 'xml': <module 'xml' from '/home/meet/miniconda3/lib/python3.11/xml/__init__.py'>,\n",
       " 'xml.dom.domreg': <module 'xml.dom.domreg' from '/home/meet/miniconda3/lib/python3.11/xml/dom/domreg.py'>,\n",
       " 'xml.dom': <module 'xml.dom' from '/home/meet/miniconda3/lib/python3.11/xml/dom/__init__.py'>,\n",
       " 'xml.dom.minicompat': <module 'xml.dom.minicompat' from '/home/meet/miniconda3/lib/python3.11/xml/dom/minicompat.py'>,\n",
       " 'xml.dom.NodeFilter': <module 'xml.dom.NodeFilter' from '/home/meet/miniconda3/lib/python3.11/xml/dom/NodeFilter.py'>,\n",
       " 'xml.dom.xmlbuilder': <module 'xml.dom.xmlbuilder' from '/home/meet/miniconda3/lib/python3.11/xml/dom/xmlbuilder.py'>,\n",
       " 'xml.dom.minidom': <module 'xml.dom.minidom' from '/home/meet/miniconda3/lib/python3.11/xml/dom/minidom.py'>,\n",
       " 'prompt_toolkit.formatted_text.html': <module 'prompt_toolkit.formatted_text.html' from '/home/meet/miniconda3/lib/python3.11/site-packages/prompt_toolkit/formatted_text/html.py'>,\n",
       " 'prompt_toolkit.formatted_text.pygments': <module 'prompt_toolkit.formatted_text.pygments' from '/home/meet/miniconda3/lib/python3.11/site-packages/prompt_toolkit/formatted_text/pygments.py'>,\n",
       " 'prompt_toolkit.formatted_text.utils': <module 'prompt_toolkit.formatted_text.utils' from '/home/meet/miniconda3/lib/python3.11/site-packages/prompt_toolkit/formatted_text/utils.py'>,\n",
       " 'prompt_toolkit.formatted_text': <module 'prompt_toolkit.formatted_text' from '/home/meet/miniconda3/lib/python3.11/site-packages/prompt_toolkit/formatted_text/__init__.py'>,\n",
       " 'prompt_toolkit.completion.base': <module 'prompt_toolkit.completion.base' from '/home/meet/miniconda3/lib/python3.11/site-packages/prompt_toolkit/completion/base.py'>,\n",
       " 'prompt_toolkit.completion.deduplicate': <module 'prompt_toolkit.completion.deduplicate' from '/home/meet/miniconda3/lib/python3.11/site-packages/prompt_toolkit/completion/deduplicate.py'>,\n",
       " 'prompt_toolkit.completion.filesystem': <module 'prompt_toolkit.completion.filesystem' from '/home/meet/miniconda3/lib/python3.11/site-packages/prompt_toolkit/completion/filesystem.py'>,\n",
       " 'prompt_toolkit.completion.word_completer': <module 'prompt_toolkit.completion.word_completer' from '/home/meet/miniconda3/lib/python3.11/site-packages/prompt_toolkit/completion/word_completer.py'>,\n",
       " 'prompt_toolkit.completion.fuzzy_completer': <module 'prompt_toolkit.completion.fuzzy_completer' from '/home/meet/miniconda3/lib/python3.11/site-packages/prompt_toolkit/completion/fuzzy_completer.py'>,\n",
       " 'prompt_toolkit.completion.nested': <module 'prompt_toolkit.completion.nested' from '/home/meet/miniconda3/lib/python3.11/site-packages/prompt_toolkit/completion/nested.py'>,\n",
       " 'prompt_toolkit.completion': <module 'prompt_toolkit.completion' from '/home/meet/miniconda3/lib/python3.11/site-packages/prompt_toolkit/completion/__init__.py'>,\n",
       " 'prompt_toolkit.history': <module 'prompt_toolkit.history' from '/home/meet/miniconda3/lib/python3.11/site-packages/prompt_toolkit/history.py'>,\n",
       " 'prompt_toolkit.search': <module 'prompt_toolkit.search' from '/home/meet/miniconda3/lib/python3.11/site-packages/prompt_toolkit/search.py'>,\n",
       " 'prompt_toolkit.validation': <module 'prompt_toolkit.validation' from '/home/meet/miniconda3/lib/python3.11/site-packages/prompt_toolkit/validation.py'>,\n",
       " 'prompt_toolkit.buffer': <module 'prompt_toolkit.buffer' from '/home/meet/miniconda3/lib/python3.11/site-packages/prompt_toolkit/buffer.py'>,\n",
       " 'prompt_toolkit.input.base': <module 'prompt_toolkit.input.base' from '/home/meet/miniconda3/lib/python3.11/site-packages/prompt_toolkit/input/base.py'>,\n",
       " 'prompt_toolkit.input.defaults': <module 'prompt_toolkit.input.defaults' from '/home/meet/miniconda3/lib/python3.11/site-packages/prompt_toolkit/input/defaults.py'>,\n",
       " 'prompt_toolkit.input': <module 'prompt_toolkit.input' from '/home/meet/miniconda3/lib/python3.11/site-packages/prompt_toolkit/input/__init__.py'>,\n",
       " 'prompt_toolkit.input.typeahead': <module 'prompt_toolkit.input.typeahead' from '/home/meet/miniconda3/lib/python3.11/site-packages/prompt_toolkit/input/typeahead.py'>,\n",
       " 'prompt_toolkit.key_binding.bindings': <module 'prompt_toolkit.key_binding.bindings' from '/home/meet/miniconda3/lib/python3.11/site-packages/prompt_toolkit/key_binding/bindings/__init__.py'>,\n",
       " 'prompt_toolkit.key_binding.bindings.scroll': <module 'prompt_toolkit.key_binding.bindings.scroll' from '/home/meet/miniconda3/lib/python3.11/site-packages/prompt_toolkit/key_binding/bindings/scroll.py'>,\n",
       " 'prompt_toolkit.key_binding.bindings.page_navigation': <module 'prompt_toolkit.key_binding.bindings.page_navigation' from '/home/meet/miniconda3/lib/python3.11/site-packages/prompt_toolkit/key_binding/bindings/page_navigation.py'>,\n",
       " 'prompt_toolkit.lexers.base': <module 'prompt_toolkit.lexers.base' from '/home/meet/miniconda3/lib/python3.11/site-packages/prompt_toolkit/lexers/base.py'>,\n",
       " 'prompt_toolkit.lexers.pygments': <module 'prompt_toolkit.lexers.pygments' from '/home/meet/miniconda3/lib/python3.11/site-packages/prompt_toolkit/lexers/pygments.py'>,\n",
       " 'prompt_toolkit.lexers': <module 'prompt_toolkit.lexers' from '/home/meet/miniconda3/lib/python3.11/site-packages/prompt_toolkit/lexers/__init__.py'>,\n",
       " 'prompt_toolkit.layout.utils': <module 'prompt_toolkit.layout.utils' from '/home/meet/miniconda3/lib/python3.11/site-packages/prompt_toolkit/layout/utils.py'>,\n",
       " 'prompt_toolkit.layout.processors': <module 'prompt_toolkit.layout.processors' from '/home/meet/miniconda3/lib/python3.11/site-packages/prompt_toolkit/layout/processors.py'>,\n",
       " 'prompt_toolkit.layout.controls': <module 'prompt_toolkit.layout.controls' from '/home/meet/miniconda3/lib/python3.11/site-packages/prompt_toolkit/layout/controls.py'>,\n",
       " 'prompt_toolkit.layout.dimension': <module 'prompt_toolkit.layout.dimension' from '/home/meet/miniconda3/lib/python3.11/site-packages/prompt_toolkit/layout/dimension.py'>,\n",
       " 'prompt_toolkit.layout.margins': <module 'prompt_toolkit.layout.margins' from '/home/meet/miniconda3/lib/python3.11/site-packages/prompt_toolkit/layout/margins.py'>,\n",
       " 'prompt_toolkit.layout.mouse_handlers': <module 'prompt_toolkit.layout.mouse_handlers' from '/home/meet/miniconda3/lib/python3.11/site-packages/prompt_toolkit/layout/mouse_handlers.py'>,\n",
       " 'prompt_toolkit.layout.screen': <module 'prompt_toolkit.layout.screen' from '/home/meet/miniconda3/lib/python3.11/site-packages/prompt_toolkit/layout/screen.py'>,\n",
       " 'prompt_toolkit.layout.containers': <module 'prompt_toolkit.layout.containers' from '/home/meet/miniconda3/lib/python3.11/site-packages/prompt_toolkit/layout/containers.py'>,\n",
       " 'prompt_toolkit.layout.layout': <module 'prompt_toolkit.layout.layout' from '/home/meet/miniconda3/lib/python3.11/site-packages/prompt_toolkit/layout/layout.py'>,\n",
       " 'prompt_toolkit.layout.menus': <module 'prompt_toolkit.layout.menus' from '/home/meet/miniconda3/lib/python3.11/site-packages/prompt_toolkit/layout/menus.py'>,\n",
       " 'prompt_toolkit.layout.scrollable_pane': <module 'prompt_toolkit.layout.scrollable_pane' from '/home/meet/miniconda3/lib/python3.11/site-packages/prompt_toolkit/layout/scrollable_pane.py'>,\n",
       " 'prompt_toolkit.layout': <module 'prompt_toolkit.layout' from '/home/meet/miniconda3/lib/python3.11/site-packages/prompt_toolkit/layout/__init__.py'>,\n",
       " 'prompt_toolkit.key_binding.bindings.completion': <module 'prompt_toolkit.key_binding.bindings.completion' from '/home/meet/miniconda3/lib/python3.11/site-packages/prompt_toolkit/key_binding/bindings/completion.py'>,\n",
       " 'prompt_toolkit.key_binding.bindings.named_commands': <module 'prompt_toolkit.key_binding.bindings.named_commands' from '/home/meet/miniconda3/lib/python3.11/site-packages/prompt_toolkit/key_binding/bindings/named_commands.py'>,\n",
       " 'prompt_toolkit.key_binding.bindings.basic': <module 'prompt_toolkit.key_binding.bindings.basic' from '/home/meet/miniconda3/lib/python3.11/site-packages/prompt_toolkit/key_binding/bindings/basic.py'>,\n",
       " 'prompt_toolkit.key_binding.bindings.cpr': <module 'prompt_toolkit.key_binding.bindings.cpr' from '/home/meet/miniconda3/lib/python3.11/site-packages/prompt_toolkit/key_binding/bindings/cpr.py'>,\n",
       " 'prompt_toolkit.key_binding.bindings.emacs': <module 'prompt_toolkit.key_binding.bindings.emacs' from '/home/meet/miniconda3/lib/python3.11/site-packages/prompt_toolkit/key_binding/bindings/emacs.py'>,\n",
       " 'prompt_toolkit.key_binding.bindings.mouse': <module 'prompt_toolkit.key_binding.bindings.mouse' from '/home/meet/miniconda3/lib/python3.11/site-packages/prompt_toolkit/key_binding/bindings/mouse.py'>,\n",
       " 'prompt_toolkit.input.ansi_escape_sequences': <module 'prompt_toolkit.input.ansi_escape_sequences' from '/home/meet/miniconda3/lib/python3.11/site-packages/prompt_toolkit/input/ansi_escape_sequences.py'>,\n",
       " 'prompt_toolkit.input.vt100_parser': <module 'prompt_toolkit.input.vt100_parser' from '/home/meet/miniconda3/lib/python3.11/site-packages/prompt_toolkit/input/vt100_parser.py'>,\n",
       " 'prompt_toolkit.key_binding.digraphs': <module 'prompt_toolkit.key_binding.digraphs' from '/home/meet/miniconda3/lib/python3.11/site-packages/prompt_toolkit/key_binding/digraphs.py'>,\n",
       " 'prompt_toolkit.key_binding.bindings.vi': <module 'prompt_toolkit.key_binding.bindings.vi' from '/home/meet/miniconda3/lib/python3.11/site-packages/prompt_toolkit/key_binding/bindings/vi.py'>,\n",
       " 'prompt_toolkit.key_binding.defaults': <module 'prompt_toolkit.key_binding.defaults' from '/home/meet/miniconda3/lib/python3.11/site-packages/prompt_toolkit/key_binding/defaults.py'>,\n",
       " 'prompt_toolkit.key_binding.emacs_state': <module 'prompt_toolkit.key_binding.emacs_state' from '/home/meet/miniconda3/lib/python3.11/site-packages/prompt_toolkit/key_binding/emacs_state.py'>,\n",
       " 'prompt_toolkit.layout.dummy': <module 'prompt_toolkit.layout.dummy' from '/home/meet/miniconda3/lib/python3.11/site-packages/prompt_toolkit/layout/dummy.py'>,\n",
       " 'prompt_toolkit.renderer': <module 'prompt_toolkit.renderer' from '/home/meet/miniconda3/lib/python3.11/site-packages/prompt_toolkit/renderer.py'>,\n",
       " 'prompt_toolkit.application.application': <module 'prompt_toolkit.application.application' from '/home/meet/miniconda3/lib/python3.11/site-packages/prompt_toolkit/application/application.py'>,\n",
       " 'prompt_toolkit.application.dummy': <module 'prompt_toolkit.application.dummy' from '/home/meet/miniconda3/lib/python3.11/site-packages/prompt_toolkit/application/dummy.py'>,\n",
       " 'prompt_toolkit.application': <module 'prompt_toolkit.application' from '/home/meet/miniconda3/lib/python3.11/site-packages/prompt_toolkit/application/__init__.py'>,\n",
       " 'prompt_toolkit.key_binding.bindings.focus': <module 'prompt_toolkit.key_binding.bindings.focus' from '/home/meet/miniconda3/lib/python3.11/site-packages/prompt_toolkit/key_binding/bindings/focus.py'>,\n",
       " 'prompt_toolkit.widgets.toolbars': <module 'prompt_toolkit.widgets.toolbars' from '/home/meet/miniconda3/lib/python3.11/site-packages/prompt_toolkit/widgets/toolbars.py'>,\n",
       " 'prompt_toolkit.widgets.base': <module 'prompt_toolkit.widgets.base' from '/home/meet/miniconda3/lib/python3.11/site-packages/prompt_toolkit/widgets/base.py'>,\n",
       " 'prompt_toolkit.widgets.dialogs': <module 'prompt_toolkit.widgets.dialogs' from '/home/meet/miniconda3/lib/python3.11/site-packages/prompt_toolkit/widgets/dialogs.py'>,\n",
       " 'prompt_toolkit.widgets.menus': <module 'prompt_toolkit.widgets.menus' from '/home/meet/miniconda3/lib/python3.11/site-packages/prompt_toolkit/widgets/menus.py'>,\n",
       " 'prompt_toolkit.widgets': <module 'prompt_toolkit.widgets' from '/home/meet/miniconda3/lib/python3.11/site-packages/prompt_toolkit/widgets/__init__.py'>,\n",
       " 'prompt_toolkit.shortcuts.dialogs': <module 'prompt_toolkit.shortcuts.dialogs' from '/home/meet/miniconda3/lib/python3.11/site-packages/prompt_toolkit/shortcuts/dialogs.py'>,\n",
       " 'prompt_toolkit.shortcuts.progress_bar.formatters': <module 'prompt_toolkit.shortcuts.progress_bar.formatters' from '/home/meet/miniconda3/lib/python3.11/site-packages/prompt_toolkit/shortcuts/progress_bar/formatters.py'>,\n",
       " 'prompt_toolkit.shortcuts.progress_bar.base': <module 'prompt_toolkit.shortcuts.progress_bar.base' from '/home/meet/miniconda3/lib/python3.11/site-packages/prompt_toolkit/shortcuts/progress_bar/base.py'>,\n",
       " 'prompt_toolkit.shortcuts.progress_bar': <module 'prompt_toolkit.shortcuts.progress_bar' from '/home/meet/miniconda3/lib/python3.11/site-packages/prompt_toolkit/shortcuts/progress_bar/__init__.py'>,\n",
       " 'prompt_toolkit.key_binding.bindings.auto_suggest': <module 'prompt_toolkit.key_binding.bindings.auto_suggest' from '/home/meet/miniconda3/lib/python3.11/site-packages/prompt_toolkit/key_binding/bindings/auto_suggest.py'>,\n",
       " 'prompt_toolkit.key_binding.bindings.open_in_editor': <module 'prompt_toolkit.key_binding.bindings.open_in_editor' from '/home/meet/miniconda3/lib/python3.11/site-packages/prompt_toolkit/key_binding/bindings/open_in_editor.py'>,\n",
       " 'prompt_toolkit.shortcuts.prompt': <module 'prompt_toolkit.shortcuts.prompt' from '/home/meet/miniconda3/lib/python3.11/site-packages/prompt_toolkit/shortcuts/prompt.py'>,\n",
       " 'prompt_toolkit.shortcuts.utils': <module 'prompt_toolkit.shortcuts.utils' from '/home/meet/miniconda3/lib/python3.11/site-packages/prompt_toolkit/shortcuts/utils.py'>,\n",
       " 'prompt_toolkit.shortcuts': <module 'prompt_toolkit.shortcuts' from '/home/meet/miniconda3/lib/python3.11/site-packages/prompt_toolkit/shortcuts/__init__.py'>,\n",
       " 'prompt_toolkit': <module 'prompt_toolkit' from '/home/meet/miniconda3/lib/python3.11/site-packages/prompt_toolkit/__init__.py'>,\n",
       " 'prompt_toolkit.patch_stdout': <module 'prompt_toolkit.patch_stdout' from '/home/meet/miniconda3/lib/python3.11/site-packages/prompt_toolkit/patch_stdout.py'>,\n",
       " 'unicodedata': <module 'unicodedata' from '/home/meet/miniconda3/lib/python3.11/lib-dynload/unicodedata.cpython-311-x86_64-linux-gnu.so'>,\n",
       " 'IPython.core.guarded_eval': <module 'IPython.core.guarded_eval' from '/home/meet/miniconda3/lib/python3.11/site-packages/IPython/core/guarded_eval.py'>,\n",
       " 'IPython.core.latex_symbols': <module 'IPython.core.latex_symbols' from '/home/meet/miniconda3/lib/python3.11/site-packages/IPython/core/latex_symbols.py'>,\n",
       " 'IPython.utils.generics': <module 'IPython.utils.generics' from '/home/meet/miniconda3/lib/python3.11/site-packages/IPython/utils/generics.py'>,\n",
       " 'parso.utils': <module 'parso.utils' from '/home/meet/miniconda3/lib/python3.11/site-packages/parso/utils.py'>,\n",
       " 'parso.tree': <module 'parso.tree' from '/home/meet/miniconda3/lib/python3.11/site-packages/parso/tree.py'>,\n",
       " 'parso.python': <module 'parso.python' from '/home/meet/miniconda3/lib/python3.11/site-packages/parso/python/__init__.py'>,\n",
       " 'parso.python.token': <module 'parso.python.token' from '/home/meet/miniconda3/lib/python3.11/site-packages/parso/python/token.py'>,\n",
       " 'parso.python.tokenize': <module 'parso.python.tokenize' from '/home/meet/miniconda3/lib/python3.11/site-packages/parso/python/tokenize.py'>,\n",
       " 'parso.pgen2.grammar_parser': <module 'parso.pgen2.grammar_parser' from '/home/meet/miniconda3/lib/python3.11/site-packages/parso/pgen2/grammar_parser.py'>,\n",
       " 'parso.pgen2.generator': <module 'parso.pgen2.generator' from '/home/meet/miniconda3/lib/python3.11/site-packages/parso/pgen2/generator.py'>,\n",
       " 'parso.pgen2': <module 'parso.pgen2' from '/home/meet/miniconda3/lib/python3.11/site-packages/parso/pgen2/__init__.py'>,\n",
       " 'parso.parser': <module 'parso.parser' from '/home/meet/miniconda3/lib/python3.11/site-packages/parso/parser.py'>,\n",
       " 'parso._compatibility': <module 'parso._compatibility' from '/home/meet/miniconda3/lib/python3.11/site-packages/parso/_compatibility.py'>,\n",
       " 'difflib': <module 'difflib' from '/home/meet/miniconda3/lib/python3.11/difflib.py'>,\n",
       " 'parso.python.prefix': <module 'parso.python.prefix' from '/home/meet/miniconda3/lib/python3.11/site-packages/parso/python/prefix.py'>,\n",
       " 'parso.python.tree': <module 'parso.python.tree' from '/home/meet/miniconda3/lib/python3.11/site-packages/parso/python/tree.py'>,\n",
       " 'parso.python.parser': <module 'parso.python.parser' from '/home/meet/miniconda3/lib/python3.11/site-packages/parso/python/parser.py'>,\n",
       " 'parso.python.diff': <module 'parso.python.diff' from '/home/meet/miniconda3/lib/python3.11/site-packages/parso/python/diff.py'>,\n",
       " 'gc': <module 'gc' (built-in)>,\n",
       " 'parso.cache': <module 'parso.cache' from '/home/meet/miniconda3/lib/python3.11/site-packages/parso/cache.py'>,\n",
       " 'parso.normalizer': <module 'parso.normalizer' from '/home/meet/miniconda3/lib/python3.11/site-packages/parso/normalizer.py'>,\n",
       " 'parso.python.errors': <module 'parso.python.errors' from '/home/meet/miniconda3/lib/python3.11/site-packages/parso/python/errors.py'>,\n",
       " 'parso.python.pep8': <module 'parso.python.pep8' from '/home/meet/miniconda3/lib/python3.11/site-packages/parso/python/pep8.py'>,\n",
       " 'parso.file_io': <module 'parso.file_io' from '/home/meet/miniconda3/lib/python3.11/site-packages/parso/file_io.py'>,\n",
       " 'parso.grammar': <module 'parso.grammar' from '/home/meet/miniconda3/lib/python3.11/site-packages/parso/grammar.py'>,\n",
       " 'parso': <module 'parso' from '/home/meet/miniconda3/lib/python3.11/site-packages/parso/__init__.py'>,\n",
       " 'jedi.parser_utils': <module 'jedi.parser_utils' from '/home/meet/miniconda3/lib/python3.11/site-packages/jedi/parser_utils.py'>,\n",
       " 'jedi.debug': <module 'jedi.debug' from '/home/meet/miniconda3/lib/python3.11/site-packages/jedi/debug.py'>,\n",
       " 'jedi.settings': <module 'jedi.settings' from '/home/meet/miniconda3/lib/python3.11/site-packages/jedi/settings.py'>,\n",
       " 'jedi.cache': <module 'jedi.cache' from '/home/meet/miniconda3/lib/python3.11/site-packages/jedi/cache.py'>,\n",
       " 'jedi.file_io': <module 'jedi.file_io' from '/home/meet/miniconda3/lib/python3.11/site-packages/jedi/file_io.py'>,\n",
       " 'jedi.inference.cache': <module 'jedi.inference.cache' from '/home/meet/miniconda3/lib/python3.11/site-packages/jedi/inference/cache.py'>,\n",
       " 'jedi.inference.helpers': <module 'jedi.inference.helpers' from '/home/meet/miniconda3/lib/python3.11/site-packages/jedi/inference/helpers.py'>,\n",
       " 'jedi.inference.utils': <module 'jedi.inference.utils' from '/home/meet/miniconda3/lib/python3.11/site-packages/jedi/inference/utils.py'>,\n",
       " 'jedi.inference.base_value': <module 'jedi.inference.base_value' from '/home/meet/miniconda3/lib/python3.11/site-packages/jedi/inference/base_value.py'>,\n",
       " 'jedi.inference.sys_path': <module 'jedi.inference.sys_path' from '/home/meet/miniconda3/lib/python3.11/site-packages/jedi/inference/sys_path.py'>,\n",
       " 'jedi.inference.recursion': <module 'jedi.inference.recursion' from '/home/meet/miniconda3/lib/python3.11/site-packages/jedi/inference/recursion.py'>,\n",
       " 'jedi.inference.flow_analysis': <module 'jedi.inference.flow_analysis' from '/home/meet/miniconda3/lib/python3.11/site-packages/jedi/inference/flow_analysis.py'>,\n",
       " 'jedi.common': <module 'jedi.common' from '/home/meet/miniconda3/lib/python3.11/site-packages/jedi/common.py'>,\n",
       " 'jedi.inference.lazy_value': <module 'jedi.inference.lazy_value' from '/home/meet/miniconda3/lib/python3.11/site-packages/jedi/inference/lazy_value.py'>,\n",
       " 'jedi.inference.docstrings': <module 'jedi.inference.docstrings' from '/home/meet/miniconda3/lib/python3.11/site-packages/jedi/inference/docstrings.py'>,\n",
       " 'jedi.plugins': <module 'jedi.plugins' from '/home/meet/miniconda3/lib/python3.11/site-packages/jedi/plugins/__init__.py'>,\n",
       " 'jedi.inference.names': <module 'jedi.inference.names' from '/home/meet/miniconda3/lib/python3.11/site-packages/jedi/inference/names.py'>,\n",
       " 'jedi.inference.filters': <module 'jedi.inference.filters' from '/home/meet/miniconda3/lib/python3.11/site-packages/jedi/inference/filters.py'>,\n",
       " 'jedi.inference.compiled.getattr_static': <module 'jedi.inference.compiled.getattr_static' from '/home/meet/miniconda3/lib/python3.11/site-packages/jedi/inference/compiled/getattr_static.py'>,\n",
       " 'jedi.inference.compiled.access': <module 'jedi.inference.compiled.access' from '/home/meet/miniconda3/lib/python3.11/site-packages/jedi/inference/compiled/access.py'>,\n",
       " 'jedi.inference.signature': <module 'jedi.inference.signature' from '/home/meet/miniconda3/lib/python3.11/site-packages/jedi/inference/signature.py'>,\n",
       " 'jedi.inference.context': <module 'jedi.inference.context' from '/home/meet/miniconda3/lib/python3.11/site-packages/jedi/inference/context.py'>,\n",
       " 'jedi.inference.compiled.value': <module 'jedi.inference.compiled.value' from '/home/meet/miniconda3/lib/python3.11/site-packages/jedi/inference/compiled/value.py'>,\n",
       " 'jedi.inference.compiled': <module 'jedi.inference.compiled' from '/home/meet/miniconda3/lib/python3.11/site-packages/jedi/inference/compiled/__init__.py'>,\n",
       " 'jedi.inference.analysis': <module 'jedi.inference.analysis' from '/home/meet/miniconda3/lib/python3.11/site-packages/jedi/inference/analysis.py'>,\n",
       " 'jedi.inference.gradual': <module 'jedi.inference.gradual' from '/home/meet/miniconda3/lib/python3.11/site-packages/jedi/inference/gradual/__init__.py'>,\n",
       " 'jedi.inference.value.module': <module 'jedi.inference.value.module' from '/home/meet/miniconda3/lib/python3.11/site-packages/jedi/inference/value/module.py'>,\n",
       " 'jedi.inference.value.dynamic_arrays': <module 'jedi.inference.value.dynamic_arrays' from '/home/meet/miniconda3/lib/python3.11/site-packages/jedi/inference/value/dynamic_arrays.py'>,\n",
       " 'jedi.inference.value.iterable': <module 'jedi.inference.value.iterable' from '/home/meet/miniconda3/lib/python3.11/site-packages/jedi/inference/value/iterable.py'>,\n",
       " 'jedi.inference.arguments': <module 'jedi.inference.arguments' from '/home/meet/miniconda3/lib/python3.11/site-packages/jedi/inference/arguments.py'>,\n",
       " 'jedi.inference.parser_cache': <module 'jedi.inference.parser_cache' from '/home/meet/miniconda3/lib/python3.11/site-packages/jedi/inference/parser_cache.py'>,\n",
       " 'jedi.inference.gradual.generics': <module 'jedi.inference.gradual.generics' from '/home/meet/miniconda3/lib/python3.11/site-packages/jedi/inference/gradual/generics.py'>,\n",
       " 'jedi.inference.value.function': <module 'jedi.inference.value.function' from '/home/meet/miniconda3/lib/python3.11/site-packages/jedi/inference/value/function.py'>,\n",
       " 'jedi.inference.value.klass': <module 'jedi.inference.value.klass' from '/home/meet/miniconda3/lib/python3.11/site-packages/jedi/inference/value/klass.py'>,\n",
       " 'jedi.inference.value.instance': <module 'jedi.inference.value.instance' from '/home/meet/miniconda3/lib/python3.11/site-packages/jedi/inference/value/instance.py'>,\n",
       " 'jedi.inference.value': <module 'jedi.inference.value' from '/home/meet/miniconda3/lib/python3.11/site-packages/jedi/inference/value/__init__.py'>,\n",
       " 'jedi.inference.gradual.base': <module 'jedi.inference.gradual.base' from '/home/meet/miniconda3/lib/python3.11/site-packages/jedi/inference/gradual/base.py'>,\n",
       " 'jedi.inference.gradual.type_var': <module 'jedi.inference.gradual.type_var' from '/home/meet/miniconda3/lib/python3.11/site-packages/jedi/inference/gradual/type_var.py'>,\n",
       " 'jedi.inference.gradual.typing': <module 'jedi.inference.gradual.typing' from '/home/meet/miniconda3/lib/python3.11/site-packages/jedi/inference/gradual/typing.py'>,\n",
       " 'jedi.inference.gradual.stub_value': <module 'jedi.inference.gradual.stub_value' from '/home/meet/miniconda3/lib/python3.11/site-packages/jedi/inference/gradual/stub_value.py'>,\n",
       " 'jedi.inference.gradual.typeshed': <module 'jedi.inference.gradual.typeshed' from '/home/meet/miniconda3/lib/python3.11/site-packages/jedi/inference/gradual/typeshed.py'>,\n",
       " 'jedi._compatibility': <module 'jedi._compatibility' from '/home/meet/miniconda3/lib/python3.11/site-packages/jedi/_compatibility.py'>,\n",
       " 'jedi.inference.compiled.subprocess.functions': <module 'jedi.inference.compiled.subprocess.functions' from '/home/meet/miniconda3/lib/python3.11/site-packages/jedi/inference/compiled/subprocess/functions.py'>,\n",
       " 'jedi.api.exceptions': <module 'jedi.api.exceptions' from '/home/meet/miniconda3/lib/python3.11/site-packages/jedi/api/exceptions.py'>,\n",
       " 'jedi.inference.compiled.subprocess': <module 'jedi.inference.compiled.subprocess' from '/home/meet/miniconda3/lib/python3.11/site-packages/jedi/inference/compiled/subprocess/__init__.py'>,\n",
       " 'jedi.inference.imports': <module 'jedi.inference.imports' from '/home/meet/miniconda3/lib/python3.11/site-packages/jedi/inference/imports.py'>,\n",
       " 'jedi.inference.param': <module 'jedi.inference.param' from '/home/meet/miniconda3/lib/python3.11/site-packages/jedi/inference/param.py'>,\n",
       " 'jedi.inference.gradual.annotation': <module 'jedi.inference.gradual.annotation' from '/home/meet/miniconda3/lib/python3.11/site-packages/jedi/inference/gradual/annotation.py'>,\n",
       " 'jedi.inference.value.decorator': <module 'jedi.inference.value.decorator' from '/home/meet/miniconda3/lib/python3.11/site-packages/jedi/inference/value/decorator.py'>,\n",
       " 'jedi.inference.syntax_tree': <module 'jedi.inference.syntax_tree' from '/home/meet/miniconda3/lib/python3.11/site-packages/jedi/inference/syntax_tree.py'>,\n",
       " 'jedi.inference': <module 'jedi.inference' from '/home/meet/miniconda3/lib/python3.11/site-packages/jedi/inference/__init__.py'>,\n",
       " 'jedi.inference.gradual.conversion': <module 'jedi.inference.gradual.conversion' from '/home/meet/miniconda3/lib/python3.11/site-packages/jedi/inference/gradual/conversion.py'>,\n",
       " 'jedi.inference.compiled.mixed': <module 'jedi.inference.compiled.mixed' from '/home/meet/miniconda3/lib/python3.11/site-packages/jedi/inference/compiled/mixed.py'>,\n",
       " 'pydoc_data': <module 'pydoc_data' from '/home/meet/miniconda3/lib/python3.11/pydoc_data/__init__.py'>,\n",
       " 'pydoc_data.topics': <module 'pydoc_data.topics' from '/home/meet/miniconda3/lib/python3.11/pydoc_data/topics.py'>,\n",
       " 'jedi.api.keywords': <module 'jedi.api.keywords' from '/home/meet/miniconda3/lib/python3.11/site-packages/jedi/api/keywords.py'>,\n",
       " 'jedi.api.completion_cache': <module 'jedi.api.completion_cache' from '/home/meet/miniconda3/lib/python3.11/site-packages/jedi/api/completion_cache.py'>,\n",
       " 'jedi.api.helpers': <module 'jedi.api.helpers' from '/home/meet/miniconda3/lib/python3.11/site-packages/jedi/api/helpers.py'>,\n",
       " 'jedi.api.classes': <module 'jedi.api.classes' from '/home/meet/miniconda3/lib/python3.11/site-packages/jedi/api/classes.py'>,\n",
       " 'jedi.api.interpreter': <module 'jedi.api.interpreter' from '/home/meet/miniconda3/lib/python3.11/site-packages/jedi/api/interpreter.py'>,\n",
       " 'jedi.api.strings': <module 'jedi.api.strings' from '/home/meet/miniconda3/lib/python3.11/site-packages/jedi/api/strings.py'>,\n",
       " 'jedi.api.file_name': <module 'jedi.api.file_name' from '/home/meet/miniconda3/lib/python3.11/site-packages/jedi/api/file_name.py'>,\n",
       " 'jedi.inference.docstring_utils': <module 'jedi.inference.docstring_utils' from '/home/meet/miniconda3/lib/python3.11/site-packages/jedi/inference/docstring_utils.py'>,\n",
       " 'jedi.api.completion': <module 'jedi.api.completion' from '/home/meet/miniconda3/lib/python3.11/site-packages/jedi/api/completion.py'>,\n",
       " 'filecmp': <module 'filecmp' from '/home/meet/miniconda3/lib/python3.11/filecmp.py'>,\n",
       " 'jedi.api.environment': <module 'jedi.api.environment' from '/home/meet/miniconda3/lib/python3.11/site-packages/jedi/api/environment.py'>,\n",
       " 'jedi.inference.references': <module 'jedi.inference.references' from '/home/meet/miniconda3/lib/python3.11/site-packages/jedi/inference/references.py'>,\n",
       " 'jedi.api.project': <module 'jedi.api.project' from '/home/meet/miniconda3/lib/python3.11/site-packages/jedi/api/project.py'>,\n",
       " 'jedi.api.errors': <module 'jedi.api.errors' from '/home/meet/miniconda3/lib/python3.11/site-packages/jedi/api/errors.py'>,\n",
       " 'jedi.api.refactoring': <module 'jedi.api.refactoring' from '/home/meet/miniconda3/lib/python3.11/site-packages/jedi/api/refactoring/__init__.py'>,\n",
       " 'jedi.api.refactoring.extract': <module 'jedi.api.refactoring.extract' from '/home/meet/miniconda3/lib/python3.11/site-packages/jedi/api/refactoring/extract.py'>,\n",
       " 'jedi.inference.gradual.utils': <module 'jedi.inference.gradual.utils' from '/home/meet/miniconda3/lib/python3.11/site-packages/jedi/inference/gradual/utils.py'>,\n",
       " 'jedi.api': <module 'jedi.api' from '/home/meet/miniconda3/lib/python3.11/site-packages/jedi/api/__init__.py'>,\n",
       " 'jedi.plugins.stdlib': <module 'jedi.plugins.stdlib' from '/home/meet/miniconda3/lib/python3.11/site-packages/jedi/plugins/stdlib.py'>,\n",
       " 'jedi.plugins.flask': <module 'jedi.plugins.flask' from '/home/meet/miniconda3/lib/python3.11/site-packages/jedi/plugins/flask.py'>,\n",
       " 'jedi.plugins.pytest': <module 'jedi.plugins.pytest' from '/home/meet/miniconda3/lib/python3.11/site-packages/jedi/plugins/pytest.py'>,\n",
       " 'jedi.plugins.django': <module 'jedi.plugins.django' from '/home/meet/miniconda3/lib/python3.11/site-packages/jedi/plugins/django.py'>,\n",
       " 'jedi.plugins.registry': <module 'jedi.plugins.registry' from '/home/meet/miniconda3/lib/python3.11/site-packages/jedi/plugins/registry.py'>,\n",
       " 'jedi': <module 'jedi' from '/home/meet/miniconda3/lib/python3.11/site-packages/jedi/__init__.py'>,\n",
       " 'IPython.core.completer': <module 'IPython.core.completer' from '/home/meet/miniconda3/lib/python3.11/site-packages/IPython/core/completer.py'>,\n",
       " 'IPython.terminal.ptutils': <module 'IPython.terminal.ptutils' from '/home/meet/miniconda3/lib/python3.11/site-packages/IPython/terminal/ptutils.py'>,\n",
       " 'IPython.terminal.shortcuts.auto_match': <module 'IPython.terminal.shortcuts.auto_match' from '/home/meet/miniconda3/lib/python3.11/site-packages/IPython/terminal/shortcuts/auto_match.py'>,\n",
       " 'IPython.terminal.shortcuts.filters': <module 'IPython.terminal.shortcuts.filters' from '/home/meet/miniconda3/lib/python3.11/site-packages/IPython/terminal/shortcuts/filters.py'>,\n",
       " 'IPython.terminal.shortcuts.auto_suggest': <module 'IPython.terminal.shortcuts.auto_suggest' from '/home/meet/miniconda3/lib/python3.11/site-packages/IPython/terminal/shortcuts/auto_suggest.py'>,\n",
       " 'IPython.terminal.shortcuts': <module 'IPython.terminal.shortcuts' from '/home/meet/miniconda3/lib/python3.11/site-packages/IPython/terminal/shortcuts/__init__.py'>,\n",
       " 'concurrent.futures.thread': <module 'concurrent.futures.thread' from '/home/meet/miniconda3/lib/python3.11/concurrent/futures/thread.py'>,\n",
       " 'IPython.terminal.debugger': <module 'IPython.terminal.debugger' from '/home/meet/miniconda3/lib/python3.11/site-packages/IPython/terminal/debugger.py'>,\n",
       " 'IPython.lib.clipboard': <module 'IPython.lib.clipboard' from '/home/meet/miniconda3/lib/python3.11/site-packages/IPython/lib/clipboard.py'>,\n",
       " 'IPython.terminal.magics': <module 'IPython.terminal.magics' from '/home/meet/miniconda3/lib/python3.11/site-packages/IPython/terminal/magics.py'>,\n",
       " 'IPython.terminal.pt_inputhooks': <module 'IPython.terminal.pt_inputhooks' from '/home/meet/miniconda3/lib/python3.11/site-packages/IPython/terminal/pt_inputhooks/__init__.py'>,\n",
       " 'IPython.terminal.prompts': <module 'IPython.terminal.prompts' from '/home/meet/miniconda3/lib/python3.11/site-packages/IPython/terminal/prompts.py'>,\n",
       " 'IPython.terminal.interactiveshell': <module 'IPython.terminal.interactiveshell' from '/home/meet/miniconda3/lib/python3.11/site-packages/IPython/terminal/interactiveshell.py'>,\n",
       " 'IPython.core.magics.auto': <module 'IPython.core.magics.auto' from '/home/meet/miniconda3/lib/python3.11/site-packages/IPython/core/magics/auto.py'>,\n",
       " 'IPython.core.magics.basic': <module 'IPython.core.magics.basic' from '/home/meet/miniconda3/lib/python3.11/site-packages/IPython/core/magics/basic.py'>,\n",
       " 'http': <module 'http' from '/home/meet/miniconda3/lib/python3.11/http/__init__.py'>,\n",
       " 'email.feedparser': <module 'email.feedparser' from '/home/meet/miniconda3/lib/python3.11/email/feedparser.py'>,\n",
       " 'email.parser': <module 'email.parser' from '/home/meet/miniconda3/lib/python3.11/email/parser.py'>,\n",
       " 'http.client': <module 'http.client' from '/home/meet/miniconda3/lib/python3.11/http/client.py'>,\n",
       " 'urllib.response': <module 'urllib.response' from '/home/meet/miniconda3/lib/python3.11/urllib/response.py'>,\n",
       " 'urllib.error': <module 'urllib.error' from '/home/meet/miniconda3/lib/python3.11/urllib/error.py'>,\n",
       " 'urllib.request': <module 'urllib.request' from '/home/meet/miniconda3/lib/python3.11/urllib/request.py'>,\n",
       " 'IPython.utils.contexts': <module 'IPython.utils.contexts' from '/home/meet/miniconda3/lib/python3.11/site-packages/IPython/utils/contexts.py'>,\n",
       " 'IPython.core.magics.code': <module 'IPython.core.magics.code' from '/home/meet/miniconda3/lib/python3.11/site-packages/IPython/core/magics/code.py'>,\n",
       " 'IPython.core.magics.config': <module 'IPython.core.magics.config' from '/home/meet/miniconda3/lib/python3.11/site-packages/IPython/core/magics/config.py'>,\n",
       " 'IPython.core.magics.display': <module 'IPython.core.magics.display' from '/home/meet/miniconda3/lib/python3.11/site-packages/IPython/core/magics/display.py'>,\n",
       " '_lsprof': <module '_lsprof' from '/home/meet/miniconda3/lib/python3.11/lib-dynload/_lsprof.cpython-311-x86_64-linux-gnu.so'>,\n",
       " 'profile': <module 'profile' from '/home/meet/miniconda3/lib/python3.11/profile.py'>,\n",
       " 'cProfile': <module 'cProfile' from '/home/meet/miniconda3/lib/python3.11/cProfile.py'>,\n",
       " 'pstats': <module 'pstats' from '/home/meet/miniconda3/lib/python3.11/pstats.py'>,\n",
       " 'timeit': <module 'timeit' from '/home/meet/miniconda3/lib/python3.11/timeit.py'>,\n",
       " 'IPython.utils.module_paths': <module 'IPython.utils.module_paths' from '/home/meet/miniconda3/lib/python3.11/site-packages/IPython/utils/module_paths.py'>,\n",
       " 'IPython.utils.timing': <module 'IPython.utils.timing' from '/home/meet/miniconda3/lib/python3.11/site-packages/IPython/utils/timing.py'>,\n",
       " 'IPython.core.magics.ast_mod': <module 'IPython.core.magics.ast_mod' from '/home/meet/miniconda3/lib/python3.11/site-packages/IPython/core/magics/ast_mod.py'>,\n",
       " 'IPython.core.magics.execution': <module 'IPython.core.magics.execution' from '/home/meet/miniconda3/lib/python3.11/site-packages/IPython/core/magics/execution.py'>,\n",
       " 'IPython.core.magics.extension': <module 'IPython.core.magics.extension' from '/home/meet/miniconda3/lib/python3.11/site-packages/IPython/core/magics/extension.py'>,\n",
       " 'IPython.core.magics.history': <module 'IPython.core.magics.history' from '/home/meet/miniconda3/lib/python3.11/site-packages/IPython/core/magics/history.py'>,\n",
       " 'IPython.core.magics.logging': <module 'IPython.core.magics.logging' from '/home/meet/miniconda3/lib/python3.11/site-packages/IPython/core/magics/logging.py'>,\n",
       " 'IPython.core.magics.namespace': <module 'IPython.core.magics.namespace' from '/home/meet/miniconda3/lib/python3.11/site-packages/IPython/core/magics/namespace.py'>,\n",
       " 'IPython.core.magics.osm': <module 'IPython.core.magics.osm' from '/home/meet/miniconda3/lib/python3.11/site-packages/IPython/core/magics/osm.py'>,\n",
       " 'IPython.core.magics.packaging': <module 'IPython.core.magics.packaging' from '/home/meet/miniconda3/lib/python3.11/site-packages/IPython/core/magics/packaging.py'>,\n",
       " 'IPython.core.pylabtools': <module 'IPython.core.pylabtools' from '/home/meet/miniconda3/lib/python3.11/site-packages/IPython/core/pylabtools.py'>,\n",
       " 'IPython.core.magics.pylab': <module 'IPython.core.magics.pylab' from '/home/meet/miniconda3/lib/python3.11/site-packages/IPython/core/magics/pylab.py'>,\n",
       " 'IPython.core.magics.script': <module 'IPython.core.magics.script' from '/home/meet/miniconda3/lib/python3.11/site-packages/IPython/core/magics/script.py'>,\n",
       " 'IPython.core.magics': <module 'IPython.core.magics' from '/home/meet/miniconda3/lib/python3.11/site-packages/IPython/core/magics/__init__.py'>,\n",
       " 'IPython.core.shellapp': <module 'IPython.core.shellapp' from '/home/meet/miniconda3/lib/python3.11/site-packages/IPython/core/shellapp.py'>,\n",
       " 'IPython.extensions': <module 'IPython.extensions' from '/home/meet/miniconda3/lib/python3.11/site-packages/IPython/extensions/__init__.py'>,\n",
       " 'IPython.extensions.storemagic': <module 'IPython.extensions.storemagic' from '/home/meet/miniconda3/lib/python3.11/site-packages/IPython/extensions/storemagic.py'>,\n",
       " 'IPython.terminal.ipapp': <module 'IPython.terminal.ipapp' from '/home/meet/miniconda3/lib/python3.11/site-packages/IPython/terminal/ipapp.py'>,\n",
       " 'IPython.terminal.embed': <module 'IPython.terminal.embed' from '/home/meet/miniconda3/lib/python3.11/site-packages/IPython/terminal/embed.py'>,\n",
       " 'IPython.utils.frame': <module 'IPython.utils.frame' from '/home/meet/miniconda3/lib/python3.11/site-packages/IPython/utils/frame.py'>,\n",
       " 'IPython': <module 'IPython' from '/home/meet/miniconda3/lib/python3.11/site-packages/IPython/__init__.py'>,\n",
       " 'ipykernel.control': <module 'ipykernel.control' from '/home/meet/miniconda3/lib/python3.11/site-packages/ipykernel/control.py'>,\n",
       " 'ipykernel.heartbeat': <module 'ipykernel.heartbeat' from '/home/meet/miniconda3/lib/python3.11/site-packages/ipykernel/heartbeat.py'>,\n",
       " 'ipykernel.iostream': <module 'ipykernel.iostream' from '/home/meet/miniconda3/lib/python3.11/site-packages/ipykernel/iostream.py'>,\n",
       " 'comm.base_comm': <module 'comm.base_comm' from '/home/meet/miniconda3/lib/python3.11/site-packages/comm/base_comm.py'>,\n",
       " 'comm': <module 'comm' from '/home/meet/miniconda3/lib/python3.11/site-packages/comm/__init__.py'>,\n",
       " 'ipykernel.jsonutil': <module 'ipykernel.jsonutil' from '/home/meet/miniconda3/lib/python3.11/site-packages/ipykernel/jsonutil.py'>,\n",
       " 'pwd': <module 'pwd' (built-in)>,\n",
       " 'psutil._common': <module 'psutil._common' from '/home/meet/miniconda3/lib/python3.11/site-packages/psutil/_common.py'>,\n",
       " 'psutil._compat': <module 'psutil._compat' from '/home/meet/miniconda3/lib/python3.11/site-packages/psutil/_compat.py'>,\n",
       " 'psutil._psposix': <module 'psutil._psposix' from '/home/meet/miniconda3/lib/python3.11/site-packages/psutil/_psposix.py'>,\n",
       " 'psutil._psutil_linux': <module 'psutil._psutil_linux' from '/home/meet/miniconda3/lib/python3.11/site-packages/psutil/_psutil_linux.cpython-311-x86_64-linux-gnu.so'>,\n",
       " 'psutil._psutil_posix': <module 'psutil._psutil_posix' from '/home/meet/miniconda3/lib/python3.11/site-packages/psutil/_psutil_posix.cpython-311-x86_64-linux-gnu.so'>,\n",
       " 'psutil._pslinux': <module 'psutil._pslinux' from '/home/meet/miniconda3/lib/python3.11/site-packages/psutil/_pslinux.py'>,\n",
       " 'psutil': <module 'psutil' from '/home/meet/miniconda3/lib/python3.11/site-packages/psutil/__init__.py'>,\n",
       " 'tornado.gen': <module 'tornado.gen' from '/home/meet/miniconda3/lib/python3.11/site-packages/tornado/gen.py'>,\n",
       " 'tornado.locks': <module 'tornado.locks' from '/home/meet/miniconda3/lib/python3.11/site-packages/tornado/locks.py'>,\n",
       " 'tornado.queues': <module 'tornado.queues' from '/home/meet/miniconda3/lib/python3.11/site-packages/tornado/queues.py'>,\n",
       " 'ipykernel.kernelbase': <module 'ipykernel.kernelbase' from '/home/meet/miniconda3/lib/python3.11/site-packages/ipykernel/kernelbase.py'>,\n",
       " 'ipykernel.comm.comm': <module 'ipykernel.comm.comm' from '/home/meet/miniconda3/lib/python3.11/site-packages/ipykernel/comm/comm.py'>,\n",
       " 'ipykernel.comm.manager': <module 'ipykernel.comm.manager' from '/home/meet/miniconda3/lib/python3.11/site-packages/ipykernel/comm/manager.py'>,\n",
       " 'ipykernel.comm': <module 'ipykernel.comm' from '/home/meet/miniconda3/lib/python3.11/site-packages/ipykernel/comm/__init__.py'>,\n",
       " 'ipykernel.compiler': <module 'ipykernel.compiler' from '/home/meet/miniconda3/lib/python3.11/site-packages/ipykernel/compiler.py'>,\n",
       " 'debugpy._version': <module 'debugpy._version' from '/home/meet/miniconda3/lib/python3.11/site-packages/debugpy/_version.py'>,\n",
       " 'debugpy.public_api': <module 'debugpy.public_api' from '/home/meet/miniconda3/lib/python3.11/site-packages/debugpy/public_api.py'>,\n",
       " 'debugpy': <module 'debugpy' from '/home/meet/miniconda3/lib/python3.11/site-packages/debugpy/__init__.py'>,\n",
       " 'debugpy._vendored._util': <module 'debugpy._vendored._util' from '/home/meet/miniconda3/lib/python3.11/site-packages/debugpy/_vendored/_util.py'>,\n",
       " 'debugpy._vendored': <module 'debugpy._vendored' from '/home/meet/miniconda3/lib/python3.11/site-packages/debugpy/_vendored/__init__.py'>,\n",
       " '_pydevd_bundle': <module '_pydevd_bundle' from '/home/meet/miniconda3/lib/python3.11/site-packages/debugpy/_vendored/pydevd/_pydevd_bundle/__init__.py'>,\n",
       " 'encodings.ascii': <module 'encodings.ascii' from '/home/meet/miniconda3/lib/python3.11/encodings/ascii.py'>,\n",
       " 'encodings.latin_1': <module 'encodings.latin_1' from '/home/meet/miniconda3/lib/python3.11/encodings/latin_1.py'>,\n",
       " 'stringprep': <module 'stringprep' from '/home/meet/miniconda3/lib/python3.11/stringprep.py'>,\n",
       " 'encodings.idna': <module 'encodings.idna' from '/home/meet/miniconda3/lib/python3.11/encodings/idna.py'>,\n",
       " '_pydevd_bundle.pydevd_vm_type': <module '_pydevd_bundle.pydevd_vm_type' from '/home/meet/miniconda3/lib/python3.11/site-packages/debugpy/_vendored/pydevd/_pydevd_bundle/pydevd_vm_type.py'>,\n",
       " '_pydev_bundle': <module '_pydev_bundle' from '/home/meet/miniconda3/lib/python3.11/site-packages/debugpy/_vendored/pydevd/_pydev_bundle/__init__.py'>,\n",
       " 'xmlrpc': <module 'xmlrpc' from '/home/meet/miniconda3/lib/python3.11/xmlrpc/__init__.py'>,\n",
       " 'xml.parsers': <module 'xml.parsers' from '/home/meet/miniconda3/lib/python3.11/xml/parsers/__init__.py'>,\n",
       " 'pyexpat.errors': <module 'pyexpat.errors'>,\n",
       " 'pyexpat.model': <module 'pyexpat.model'>,\n",
       " 'pyexpat': <module 'pyexpat' from '/home/meet/miniconda3/lib/python3.11/lib-dynload/pyexpat.cpython-311-x86_64-linux-gnu.so'>,\n",
       " 'xml.parsers.expat.model': <module 'pyexpat.model'>,\n",
       " 'xml.parsers.expat.errors': <module 'pyexpat.errors'>,\n",
       " 'xml.parsers.expat': <module 'xml.parsers.expat' from '/home/meet/miniconda3/lib/python3.11/xml/parsers/expat.py'>,\n",
       " 'gzip': <module 'gzip' from '/home/meet/miniconda3/lib/python3.11/gzip.py'>,\n",
       " 'xmlrpc.client': <module 'xmlrpc.client' from '/home/meet/miniconda3/lib/python3.11/xmlrpc/client.py'>,\n",
       " 'http.server': <module 'http.server' from '/home/meet/miniconda3/lib/python3.11/http/server.py'>,\n",
       " 'xmlrpc.server': <module 'xmlrpc.server' from '/home/meet/miniconda3/lib/python3.11/xmlrpc/server.py'>,\n",
       " '_pydev_bundle._pydev_saved_modules': <module '_pydev_bundle._pydev_saved_modules' from '/home/meet/miniconda3/lib/python3.11/site-packages/debugpy/_vendored/pydevd/_pydev_bundle/_pydev_saved_modules.py'>,\n",
       " '_pydevd_bundle.pydevd_constants': <module '_pydevd_bundle.pydevd_constants' from '/home/meet/miniconda3/lib/python3.11/site-packages/debugpy/_vendored/pydevd/_pydevd_bundle/pydevd_constants.py'>,\n",
       " '_pydev_runfiles': <module '_pydev_runfiles' from '/home/meet/miniconda3/lib/python3.11/site-packages/debugpy/_vendored/pydevd/_pydev_runfiles/__init__.py'>,\n",
       " '_pydevd_frame_eval': <module '_pydevd_frame_eval' from '/home/meet/miniconda3/lib/python3.11/site-packages/debugpy/_vendored/pydevd/_pydevd_frame_eval/__init__.py'>,\n",
       " 'pydev_ipython': <module 'pydev_ipython' from '/home/meet/miniconda3/lib/python3.11/site-packages/debugpy/_vendored/pydevd/pydev_ipython/__init__.py'>,\n",
       " 'plistlib': <module 'plistlib' from '/home/meet/miniconda3/lib/python3.11/plistlib.py'>,\n",
       " 'pkg_resources.extern': <module 'pkg_resources.extern' from '/home/meet/miniconda3/lib/python3.11/site-packages/pkg_resources/extern/__init__.py'>,\n",
       " 'pkg_resources._vendor': <module 'pkg_resources._vendor' from '/home/meet/miniconda3/lib/python3.11/site-packages/pkg_resources/_vendor/__init__.py'>,\n",
       " 'pkg_resources._vendor.jaraco': <module 'pkg_resources.extern.jaraco' (<pkg_resources.extern.VendorImporter object at 0x7f1026397890>)>,\n",
       " 'pkg_resources.extern.jaraco': <module 'pkg_resources.extern.jaraco' (<pkg_resources.extern.VendorImporter object at 0x7f1026397890>)>,\n",
       " 'pkg_resources._vendor.more_itertools.recipes': <module 'pkg_resources._vendor.more_itertools.recipes' from '/home/meet/miniconda3/lib/python3.11/site-packages/pkg_resources/_vendor/more_itertools/recipes.py'>,\n",
       " 'pkg_resources._vendor.more_itertools.more': <module 'pkg_resources._vendor.more_itertools.more' from '/home/meet/miniconda3/lib/python3.11/site-packages/pkg_resources/_vendor/more_itertools/more.py'>,\n",
       " 'pkg_resources._vendor.more_itertools': <module 'pkg_resources.extern.more_itertools' (<pkg_resources.extern.VendorImporter object at 0x7f1026397890>)>,\n",
       " 'pkg_resources.extern.more_itertools': <module 'pkg_resources.extern.more_itertools' (<pkg_resources.extern.VendorImporter object at 0x7f1026397890>)>,\n",
       " 'pkg_resources.extern.jaraco.functools': <module 'pkg_resources.extern.jaraco.functools' from '/home/meet/miniconda3/lib/python3.11/site-packages/pkg_resources/_vendor/jaraco/functools.py'>,\n",
       " 'pkg_resources.extern.jaraco.context': <module 'pkg_resources.extern.jaraco.context' from '/home/meet/miniconda3/lib/python3.11/site-packages/pkg_resources/_vendor/jaraco/context.py'>,\n",
       " 'pkg_resources.extern.jaraco.text': <module 'pkg_resources.extern.jaraco.text' from '/home/meet/miniconda3/lib/python3.11/site-packages/pkg_resources/_vendor/jaraco/text/__init__.py'>,\n",
       " 'pkg_resources._vendor.platformdirs.api': <module 'pkg_resources._vendor.platformdirs.api' from '/home/meet/miniconda3/lib/python3.11/site-packages/pkg_resources/_vendor/platformdirs/api.py'>,\n",
       " 'pkg_resources._vendor.platformdirs.version': <module 'pkg_resources._vendor.platformdirs.version' from '/home/meet/miniconda3/lib/python3.11/site-packages/pkg_resources/_vendor/platformdirs/version.py'>,\n",
       " 'pkg_resources._vendor.platformdirs.unix': <module 'pkg_resources._vendor.platformdirs.unix' from '/home/meet/miniconda3/lib/python3.11/site-packages/pkg_resources/_vendor/platformdirs/unix.py'>,\n",
       " 'pkg_resources._vendor.platformdirs': <module 'pkg_resources.extern.platformdirs' (<pkg_resources.extern.VendorImporter object at 0x7f1026397890>)>,\n",
       " 'pkg_resources.extern.platformdirs': <module 'pkg_resources.extern.platformdirs' (<pkg_resources.extern.VendorImporter object at 0x7f1026397890>)>,\n",
       " 'pkg_resources._vendor.packaging': <module 'pkg_resources.extern.packaging' (<pkg_resources.extern.VendorImporter object at 0x7f1026397890>)>,\n",
       " 'pkg_resources.extern.packaging': <module 'pkg_resources.extern.packaging' (<pkg_resources.extern.VendorImporter object at 0x7f1026397890>)>,\n",
       " 'pkg_resources.extern.packaging._structures': <module 'pkg_resources.extern.packaging._structures' from '/home/meet/miniconda3/lib/python3.11/site-packages/pkg_resources/_vendor/packaging/_structures.py'>,\n",
       " 'pkg_resources.extern.packaging.version': <module 'pkg_resources.extern.packaging.version' from '/home/meet/miniconda3/lib/python3.11/site-packages/pkg_resources/_vendor/packaging/version.py'>,\n",
       " 'pkg_resources._vendor.packaging._elffile': <module 'pkg_resources._vendor.packaging._elffile' from '/home/meet/miniconda3/lib/python3.11/site-packages/pkg_resources/_vendor/packaging/_elffile.py'>,\n",
       " 'pkg_resources._vendor.packaging._manylinux': <module 'pkg_resources._vendor.packaging._manylinux' from '/home/meet/miniconda3/lib/python3.11/site-packages/pkg_resources/_vendor/packaging/_manylinux.py'>,\n",
       " 'pkg_resources._vendor.packaging._musllinux': <module 'pkg_resources._vendor.packaging._musllinux' from '/home/meet/miniconda3/lib/python3.11/site-packages/pkg_resources/_vendor/packaging/_musllinux.py'>,\n",
       " 'pkg_resources.extern.packaging.tags': <module 'pkg_resources.extern.packaging.tags' from '/home/meet/miniconda3/lib/python3.11/site-packages/pkg_resources/_vendor/packaging/tags.py'>,\n",
       " 'pkg_resources.extern.packaging.utils': <module 'pkg_resources.extern.packaging.utils' from '/home/meet/miniconda3/lib/python3.11/site-packages/pkg_resources/_vendor/packaging/utils.py'>,\n",
       " 'pkg_resources.extern.packaging.specifiers': <module 'pkg_resources.extern.packaging.specifiers' from '/home/meet/miniconda3/lib/python3.11/site-packages/pkg_resources/_vendor/packaging/specifiers.py'>,\n",
       " 'pkg_resources.extern.packaging._tokenizer': <module 'pkg_resources.extern.packaging._tokenizer' from '/home/meet/miniconda3/lib/python3.11/site-packages/pkg_resources/_vendor/packaging/_tokenizer.py'>,\n",
       " 'pkg_resources.extern.packaging._parser': <module 'pkg_resources.extern.packaging._parser' from '/home/meet/miniconda3/lib/python3.11/site-packages/pkg_resources/_vendor/packaging/_parser.py'>,\n",
       " 'pkg_resources.extern.packaging.markers': <module 'pkg_resources.extern.packaging.markers' from '/home/meet/miniconda3/lib/python3.11/site-packages/pkg_resources/_vendor/packaging/markers.py'>,\n",
       " 'pkg_resources.extern.packaging.requirements': <module 'pkg_resources.extern.packaging.requirements' from '/home/meet/miniconda3/lib/python3.11/site-packages/pkg_resources/_vendor/packaging/requirements.py'>,\n",
       " 'pkg_resources': <module 'pkg_resources' from '/home/meet/miniconda3/lib/python3.11/site-packages/pkg_resources/__init__.py'>,\n",
       " 'pydevd_plugins': <module 'pydevd_plugins' from '/home/meet/miniconda3/lib/python3.11/site-packages/debugpy/_vendored/pydevd/pydevd_plugins/__init__.py'>,\n",
       " '_pydev_bundle.pydev_log': <module '_pydev_bundle.pydev_log' from '/home/meet/miniconda3/lib/python3.11/site-packages/debugpy/_vendored/pydevd/_pydev_bundle/pydev_log.py'>,\n",
       " '_pydev_bundle._pydev_filesystem_encoding': <module '_pydev_bundle._pydev_filesystem_encoding' from '/home/meet/miniconda3/lib/python3.11/site-packages/debugpy/_vendored/pydevd/_pydev_bundle/_pydev_filesystem_encoding.py'>,\n",
       " '_pydevd_bundle.pydevd_comm_constants': <module '_pydevd_bundle.pydevd_comm_constants' from '/home/meet/miniconda3/lib/python3.11/site-packages/debugpy/_vendored/pydevd/_pydevd_bundle/pydevd_comm_constants.py'>,\n",
       " 'pydevd_file_utils': <module 'pydevd_file_utils' from '/home/meet/miniconda3/lib/python3.11/site-packages/debugpy/_vendored/pydevd/pydevd_file_utils.py'>,\n",
       " '_pydev_bundle._pydev_execfile': <module '_pydev_bundle._pydev_execfile' from '/home/meet/miniconda3/lib/python3.11/site-packages/debugpy/_vendored/pydevd/_pydev_bundle/_pydev_execfile.py'>,\n",
       " '_pydevd_bundle.pydevd_exec2': <module '_pydevd_bundle.pydevd_exec2' from '/home/meet/miniconda3/lib/python3.11/site-packages/debugpy/_vendored/pydevd/_pydevd_bundle/pydevd_exec2.py'>,\n",
       " '_pydev_bundle.pydev_imports': <module '_pydev_bundle.pydev_imports' from '/home/meet/miniconda3/lib/python3.11/site-packages/debugpy/_vendored/pydevd/_pydev_bundle/pydev_imports.py'>,\n",
       " '_pydev_bundle.pydev_is_thread_alive': <module '_pydev_bundle.pydev_is_thread_alive' from '/home/meet/miniconda3/lib/python3.11/site-packages/debugpy/_vendored/pydevd/_pydev_bundle/pydev_is_thread_alive.py'>,\n",
       " '_pydev_bundle.pydev_override': <module '_pydev_bundle.pydev_override' from '/home/meet/miniconda3/lib/python3.11/site-packages/debugpy/_vendored/pydevd/_pydev_bundle/pydev_override.py'>,\n",
       " 'pydevd_plugins.extensions': <module 'pydevd_plugins.extensions' from '/home/meet/miniconda3/lib/python3.11/site-packages/debugpy/_vendored/pydevd/pydevd_plugins/extensions/__init__.py'>,\n",
       " '_pydevd_bundle.pydevd_extension_utils': <module '_pydevd_bundle.pydevd_extension_utils' from '/home/meet/miniconda3/lib/python3.11/site-packages/debugpy/_vendored/pydevd/_pydevd_bundle/pydevd_extension_utils.py'>,\n",
       " '_pydevd_bundle.pydevd_frame_utils': <module '_pydevd_bundle.pydevd_frame_utils' from '/home/meet/miniconda3/lib/python3.11/site-packages/debugpy/_vendored/pydevd/_pydevd_bundle/pydevd_frame_utils.py'>,\n",
       " '_pydevd_bundle.pydevd_filtering': <module '_pydevd_bundle.pydevd_filtering' from '/home/meet/miniconda3/lib/python3.11/site-packages/debugpy/_vendored/pydevd/_pydevd_bundle/pydevd_filtering.py'>,\n",
       " '_pydevd_bundle.pydevd_io': <module '_pydevd_bundle.pydevd_io' from '/home/meet/miniconda3/lib/python3.11/site-packages/debugpy/_vendored/pydevd/_pydevd_bundle/pydevd_io.py'>,\n",
       " '_pydevd_bundle.pydevd_defaults': <module '_pydevd_bundle.pydevd_defaults' from '/home/meet/miniconda3/lib/python3.11/site-packages/debugpy/_vendored/pydevd/_pydevd_bundle/pydevd_defaults.py'>,\n",
       " '_pydevd_bundle.pydevd_utils': <module '_pydevd_bundle.pydevd_utils' from '/home/meet/miniconda3/lib/python3.11/site-packages/debugpy/_vendored/pydevd/_pydevd_bundle/pydevd_utils.py'>,\n",
       " '_pydevd_bundle.pydevd_runpy': <module '_pydevd_bundle.pydevd_runpy' from '/home/meet/miniconda3/lib/python3.11/site-packages/debugpy/_vendored/pydevd/_pydevd_bundle/pydevd_runpy.py'>,\n",
       " '_pydev_bundle._pydev_tipper_common': <module '_pydev_bundle._pydev_tipper_common' from '/home/meet/miniconda3/lib/python3.11/site-packages/debugpy/_vendored/pydevd/_pydev_bundle/_pydev_tipper_common.py'>,\n",
       " '_pydev_bundle._pydev_imports_tipper': <module '_pydev_bundle._pydev_imports_tipper' from '/home/meet/miniconda3/lib/python3.11/site-packages/debugpy/_vendored/pydevd/_pydev_bundle/_pydev_imports_tipper.py'>,\n",
       " '_pydev_bundle._pydev_calltip_util': <module '_pydev_bundle._pydev_calltip_util' from '/home/meet/miniconda3/lib/python3.11/site-packages/debugpy/_vendored/pydevd/_pydev_bundle/_pydev_calltip_util.py'>,\n",
       " '_pydevd_bundle.pydevd_safe_repr': <module '_pydevd_bundle.pydevd_safe_repr' from '/home/meet/miniconda3/lib/python3.11/site-packages/debugpy/_vendored/pydevd/_pydevd_bundle/pydevd_safe_repr.py'>,\n",
       " '_pydevd_bundle.pydevd_resolver': <module '_pydevd_bundle.pydevd_resolver' from '/home/meet/miniconda3/lib/python3.11/site-packages/debugpy/_vendored/pydevd/_pydevd_bundle/pydevd_resolver.py'>,\n",
       " '_pydevd_bundle.pydevd_extension_api': <module '_pydevd_bundle.pydevd_extension_api' from '/home/meet/miniconda3/lib/python3.11/site-packages/debugpy/_vendored/pydevd/_pydevd_bundle/pydevd_extension_api.py'>,\n",
       " '_pydevd_bundle.pydevd_xml': <module '_pydevd_bundle.pydevd_xml' from '/home/meet/miniconda3/lib/python3.11/site-packages/debugpy/_vendored/pydevd/_pydevd_bundle/pydevd_xml.py'>,\n",
       " '_pydevd_bundle.pydevd_dont_trace': <module '_pydevd_bundle.pydevd_dont_trace' from '/home/meet/miniconda3/lib/python3.11/site-packages/debugpy/_vendored/pydevd/_pydevd_bundle/pydevd_dont_trace.py'>,\n",
       " '_pydevd_frame_eval.vendored': <module '_pydevd_frame_eval.vendored' from '/home/meet/miniconda3/lib/python3.11/site-packages/debugpy/_vendored/pydevd/_pydevd_frame_eval/vendored/__init__.py'>,\n",
       " '_pydevd_frame_eval.vendored.bytecode.flags': <module '_pydevd_frame_eval.vendored.bytecode.flags' from '/home/meet/miniconda3/lib/python3.11/site-packages/debugpy/_vendored/pydevd/_pydevd_frame_eval/vendored/bytecode/flags.py'>,\n",
       " '_pydevd_frame_eval.vendored.bytecode.instr': <module '_pydevd_frame_eval.vendored.bytecode.instr' from '/home/meet/miniconda3/lib/python3.11/site-packages/debugpy/_vendored/pydevd/_pydevd_frame_eval/vendored/bytecode/instr.py'>,\n",
       " '_pydevd_frame_eval.vendored.bytecode.bytecode': <module '_pydevd_frame_eval.vendored.bytecode.bytecode' from '/home/meet/miniconda3/lib/python3.11/site-packages/debugpy/_vendored/pydevd/_pydevd_frame_eval/vendored/bytecode/bytecode.py'>,\n",
       " '_pydevd_frame_eval.vendored.bytecode.concrete': <module '_pydevd_frame_eval.vendored.bytecode.concrete' from '/home/meet/miniconda3/lib/python3.11/site-packages/debugpy/_vendored/pydevd/_pydevd_frame_eval/vendored/bytecode/concrete.py'>,\n",
       " '_pydevd_frame_eval.vendored.bytecode.cfg': <module '_pydevd_frame_eval.vendored.bytecode.cfg' from '/home/meet/miniconda3/lib/python3.11/site-packages/debugpy/_vendored/pydevd/_pydevd_frame_eval/vendored/bytecode/cfg.py'>,\n",
       " '_pydevd_frame_eval.vendored.bytecode': <module '_pydevd_frame_eval.vendored.bytecode' from '/home/meet/miniconda3/lib/python3.11/site-packages/debugpy/_vendored/pydevd/_pydevd_frame_eval/vendored/bytecode/__init__.py'>,\n",
       " '_pydevd_bundle.pydevd_bytecode_utils': <module '_pydevd_bundle.pydevd_bytecode_utils' from '/home/meet/miniconda3/lib/python3.11/site-packages/debugpy/_vendored/pydevd/_pydevd_bundle/pydevd_bytecode_utils.py'>,\n",
       " '_pydevd_bundle.pydevd_cython': <module '_pydevd_bundle.pydevd_cython' from '/home/meet/miniconda3/lib/python3.11/site-packages/debugpy/_vendored/pydevd/_pydevd_bundle/pydevd_cython.cpython-311-x86_64-linux-gnu.so'>,\n",
       " '_pydevd_bundle.pydevd_cython_wrapper': <module '_pydevd_bundle.pydevd_cython_wrapper' from '/home/meet/miniconda3/lib/python3.11/site-packages/debugpy/_vendored/pydevd/_pydevd_bundle/pydevd_cython_wrapper.py'>,\n",
       " '_pydevd_bundle.pydevd_additional_thread_info': <module '_pydevd_bundle.pydevd_additional_thread_info' from '/home/meet/miniconda3/lib/python3.11/site-packages/debugpy/_vendored/pydevd/_pydevd_bundle/pydevd_additional_thread_info.py'>,\n",
       " '_pydevd_bundle.pydevd_thread_lifecycle': <module '_pydevd_bundle.pydevd_thread_lifecycle' from '/home/meet/miniconda3/lib/python3.11/site-packages/debugpy/_vendored/pydevd/_pydevd_bundle/pydevd_thread_lifecycle.py'>,\n",
       " '_pydevd_bundle.pydevd_save_locals': <module '_pydevd_bundle.pydevd_save_locals' from '/home/meet/miniconda3/lib/python3.11/site-packages/debugpy/_vendored/pydevd/_pydevd_bundle/pydevd_save_locals.py'>,\n",
       " '_pydev_bundle.pydev_monkey': <module '_pydev_bundle.pydev_monkey' from '/home/meet/miniconda3/lib/python3.11/site-packages/debugpy/_vendored/pydevd/_pydev_bundle/pydev_monkey.py'>,\n",
       " 'pydevd_tracing': <module 'pydevd_tracing' from '/home/meet/miniconda3/lib/python3.11/site-packages/debugpy/_vendored/pydevd/pydevd_tracing.py'>,\n",
       " '_pydevd_bundle.pydevd_collect_bytecode_info': <module '_pydevd_bundle.pydevd_collect_bytecode_info' from '/home/meet/miniconda3/lib/python3.11/site-packages/debugpy/_vendored/pydevd/_pydevd_bundle/pydevd_collect_bytecode_info.py'>,\n",
       " '_pydevd_bundle.pydevd_daemon_thread': <module '_pydevd_bundle.pydevd_daemon_thread' from '/home/meet/miniconda3/lib/python3.11/site-packages/debugpy/_vendored/pydevd/_pydevd_bundle/pydevd_daemon_thread.py'>,\n",
       " '_pydevd_bundle.pydevd_timeout': <module '_pydevd_bundle.pydevd_timeout' from '/home/meet/miniconda3/lib/python3.11/site-packages/debugpy/_vendored/pydevd/_pydevd_bundle/pydevd_timeout.py'>,\n",
       " '_pydevd_bundle.pydevd_vars': <module '_pydevd_bundle.pydevd_vars' from '/home/meet/miniconda3/lib/python3.11/site-packages/debugpy/_vendored/pydevd/_pydevd_bundle/pydevd_vars.py'>,\n",
       " '_pydev_bundle.pydev_console_utils': <module '_pydev_bundle.pydev_console_utils' from '/home/meet/miniconda3/lib/python3.11/site-packages/debugpy/_vendored/pydevd/_pydev_bundle/pydev_console_utils.py'>,\n",
       " '_pydevd_bundle.pydevd_import_class': <module '_pydevd_bundle.pydevd_import_class' from '/home/meet/miniconda3/lib/python3.11/site-packages/debugpy/_vendored/pydevd/_pydevd_bundle/pydevd_import_class.py'>,\n",
       " '_pydevd_bundle.pydevd_breakpoints': <module '_pydevd_bundle.pydevd_breakpoints' from '/home/meet/miniconda3/lib/python3.11/site-packages/debugpy/_vendored/pydevd/_pydevd_bundle/pydevd_breakpoints.py'>,\n",
       " '_pydevd_bundle.pydevd_custom_frames': <module '_pydevd_bundle.pydevd_custom_frames' from '/home/meet/miniconda3/lib/python3.11/site-packages/debugpy/_vendored/pydevd/_pydevd_bundle/pydevd_custom_frames.py'>,\n",
       " '_pydevd_bundle.pydevd_dont_trace_files': <module '_pydevd_bundle.pydevd_dont_trace_files' from '/home/meet/miniconda3/lib/python3.11/site-packages/debugpy/_vendored/pydevd/_pydevd_bundle/pydevd_dont_trace_files.py'>,\n",
       " '_pydevd_bundle.pydevd_net_command': <module '_pydevd_bundle.pydevd_net_command' from '/home/meet/miniconda3/lib/python3.11/site-packages/debugpy/_vendored/pydevd/_pydevd_bundle/pydevd_net_command.py'>,\n",
       " '_pydevd_bundle.pydevconsole_code': <module '_pydevd_bundle.pydevconsole_code' from '/home/meet/miniconda3/lib/python3.11/site-packages/debugpy/_vendored/pydevd/_pydevd_bundle/pydevconsole_code.py'>,\n",
       " '_pydev_bundle.pydev_umd': <module '_pydev_bundle.pydev_umd' from '/home/meet/miniconda3/lib/python3.11/site-packages/debugpy/_vendored/pydevd/_pydev_bundle/pydev_umd.py'>,\n",
       " 'pydevconsole': <module 'pydevconsole' from '/home/meet/miniconda3/lib/python3.11/site-packages/debugpy/_vendored/pydevd/pydevconsole.py'>,\n",
       " '_pydev_bundle._pydev_completer': <module '_pydev_bundle._pydev_completer' from '/home/meet/miniconda3/lib/python3.11/site-packages/debugpy/_vendored/pydevd/_pydev_bundle/_pydev_completer.py'>,\n",
       " '_pydevd_bundle.pydevd_net_command_factory_xml': <module '_pydevd_bundle.pydevd_net_command_factory_xml' from '/home/meet/miniconda3/lib/python3.11/site-packages/debugpy/_vendored/pydevd/_pydevd_bundle/pydevd_net_command_factory_xml.py'>,\n",
       " '_pydevd_bundle.pydevd_frame': <module '_pydevd_bundle.pydevd_frame' from '/home/meet/miniconda3/lib/python3.11/site-packages/debugpy/_vendored/pydevd/_pydevd_bundle/pydevd_frame.py'>,\n",
       " '_pydevd_bundle.pydevd_additional_thread_info_regular': <module '_pydevd_bundle.pydevd_additional_thread_info_regular' from '/home/meet/miniconda3/lib/python3.11/site-packages/debugpy/_vendored/pydevd/_pydevd_bundle/pydevd_additional_thread_info_regular.py'>,\n",
       " '_pydevd_bundle.pydevd_trace_dispatch': <module '_pydevd_bundle.pydevd_trace_dispatch' from '/home/meet/miniconda3/lib/python3.11/site-packages/debugpy/_vendored/pydevd/_pydevd_bundle/pydevd_trace_dispatch.py'>,\n",
       " '_pydevd_frame_eval.pydevd_frame_eval_main': <module '_pydevd_frame_eval.pydevd_frame_eval_main' from '/home/meet/miniconda3/lib/python3.11/site-packages/debugpy/_vendored/pydevd/_pydevd_frame_eval/pydevd_frame_eval_main.py'>,\n",
       " '_pydevd_bundle.pydevd_source_mapping': <module '_pydevd_bundle.pydevd_source_mapping' from '/home/meet/miniconda3/lib/python3.11/site-packages/debugpy/_vendored/pydevd/_pydevd_bundle/pydevd_source_mapping.py'>,\n",
       " '_pydevd_bundle.pydevd_concurrency_analyser': <module '_pydevd_bundle.pydevd_concurrency_analyser' from '/home/meet/miniconda3/lib/python3.11/site-packages/debugpy/_vendored/pydevd/_pydevd_bundle/pydevd_concurrency_analyser/__init__.py'>,\n",
       " '_pydevd_bundle.pydevd_concurrency_analyser.pydevd_thread_wrappers': <module '_pydevd_bundle.pydevd_concurrency_analyser.pydevd_thread_wrappers' from '/home/meet/miniconda3/lib/python3.11/site-packages/debugpy/_vendored/pydevd/_pydevd_bundle/pydevd_concurrency_analyser/pydevd_thread_wrappers.py'>,\n",
       " '_pydevd_bundle.pydevd_concurrency_analyser.pydevd_concurrency_logger': <module '_pydevd_bundle.pydevd_concurrency_analyser.pydevd_concurrency_logger' from '/home/meet/miniconda3/lib/python3.11/site-packages/debugpy/_vendored/pydevd/_pydevd_bundle/pydevd_concurrency_analyser/pydevd_concurrency_logger.py'>,\n",
       " '_pydevd_bundle._debug_adapter': <module '_pydevd_bundle._debug_adapter' from '/home/meet/miniconda3/lib/python3.11/site-packages/debugpy/_vendored/pydevd/_pydevd_bundle/_debug_adapter/__init__.py'>,\n",
       " '_pydevd_bundle._debug_adapter.pydevd_schema_log': <module '_pydevd_bundle._debug_adapter.pydevd_schema_log' from '/home/meet/miniconda3/lib/python3.11/site-packages/debugpy/_vendored/pydevd/_pydevd_bundle/_debug_adapter/pydevd_schema_log.py'>,\n",
       " '_pydevd_bundle._debug_adapter.pydevd_base_schema': <module '_pydevd_bundle._debug_adapter.pydevd_base_schema' from '/home/meet/miniconda3/lib/python3.11/site-packages/debugpy/_vendored/pydevd/_pydevd_bundle/_debug_adapter/pydevd_base_schema.py'>,\n",
       " '_pydevd_bundle._debug_adapter.pydevd_schema': <module '_pydevd_bundle._debug_adapter.pydevd_schema' from '/home/meet/miniconda3/lib/python3.11/site-packages/debugpy/_vendored/pydevd/_pydevd_bundle/_debug_adapter/pydevd_schema.py'>,\n",
       " '_pydevd_bundle.pydevd_reload': <module '_pydevd_bundle.pydevd_reload' from '/home/meet/miniconda3/lib/python3.11/site-packages/debugpy/_vendored/pydevd/_pydevd_bundle/pydevd_reload.py'>,\n",
       " '_pydev_bundle.fsnotify': <module '_pydev_bundle.fsnotify' from '/home/meet/miniconda3/lib/python3.11/site-packages/debugpy/_vendored/pydevd/_pydev_bundle/fsnotify/__init__.py'>,\n",
       " '_pydevd_bundle.pydevd_console': <module '_pydevd_bundle.pydevd_console' from '/home/meet/miniconda3/lib/python3.11/site-packages/debugpy/_vendored/pydevd/_pydevd_bundle/pydevd_console.py'>,\n",
       " '_pydevd_bundle.pydevd_comm': <module '_pydevd_bundle.pydevd_comm' from '/home/meet/miniconda3/lib/python3.11/site-packages/debugpy/_vendored/pydevd/_pydevd_bundle/pydevd_comm.py'>,\n",
       " '_pydevd_bundle.pydevd_net_command_factory_json': <module '_pydevd_bundle.pydevd_net_command_factory_json' from '/home/meet/miniconda3/lib/python3.11/site-packages/debugpy/_vendored/pydevd/_pydevd_bundle/pydevd_net_command_factory_json.py'>,\n",
       " '_pydevd_bundle.pydevd_api': <module '_pydevd_bundle.pydevd_api' from '/home/meet/miniconda3/lib/python3.11/site-packages/debugpy/_vendored/pydevd/_pydevd_bundle/pydevd_api.py'>,\n",
       " '_pydevd_bundle.pydevd_json_debug_options': <module '_pydevd_bundle.pydevd_json_debug_options' from '/home/meet/miniconda3/lib/python3.11/site-packages/debugpy/_vendored/pydevd/_pydevd_bundle/pydevd_json_debug_options.py'>,\n",
       " '_pydevd_bundle.pydevd_process_net_command_json': <module '_pydevd_bundle.pydevd_process_net_command_json' from '/home/meet/miniconda3/lib/python3.11/site-packages/debugpy/_vendored/pydevd/_pydevd_bundle/pydevd_process_net_command_json.py'>,\n",
       " '_pydevd_bundle.pydevd_traceproperty': <module '_pydevd_bundle.pydevd_traceproperty' from '/home/meet/miniconda3/lib/python3.11/site-packages/debugpy/_vendored/pydevd/_pydevd_bundle/pydevd_traceproperty.py'>,\n",
       " '_pydevd_bundle.pydevd_process_net_command': <module '_pydevd_bundle.pydevd_process_net_command' from '/home/meet/miniconda3/lib/python3.11/site-packages/debugpy/_vendored/pydevd/_pydevd_bundle/pydevd_process_net_command.py'>,\n",
       " '_pydevd_bundle.pydevd_suspended_frames': <module '_pydevd_bundle.pydevd_suspended_frames' from '/home/meet/miniconda3/lib/python3.11/site-packages/debugpy/_vendored/pydevd/_pydevd_bundle/pydevd_suspended_frames.py'>,\n",
       " '_pydevd_bundle.pydevd_trace_api': <module '_pydevd_bundle.pydevd_trace_api' from '/home/meet/miniconda3/lib/python3.11/site-packages/debugpy/_vendored/pydevd/_pydevd_bundle/pydevd_trace_api.py'>,\n",
       " 'pydevd_plugins.pydevd_line_validation': <module 'pydevd_plugins.pydevd_line_validation' from '/home/meet/miniconda3/lib/python3.11/site-packages/debugpy/_vendored/pydevd/pydevd_plugins/pydevd_line_validation.py'>,\n",
       " 'pydevd_plugins.django_debug': <module 'pydevd_plugins.django_debug' from '/home/meet/miniconda3/lib/python3.11/site-packages/debugpy/_vendored/pydevd/pydevd_plugins/django_debug.py'>,\n",
       " 'pydevd_plugins.jinja2_debug': <module 'pydevd_plugins.jinja2_debug' from '/home/meet/miniconda3/lib/python3.11/site-packages/debugpy/_vendored/pydevd/pydevd_plugins/jinja2_debug.py'>,\n",
       " '_pydevd_bundle.pydevd_plugin_utils': <module '_pydevd_bundle.pydevd_plugin_utils' from '/home/meet/miniconda3/lib/python3.11/site-packages/debugpy/_vendored/pydevd/_pydevd_bundle/pydevd_plugin_utils.py'>,\n",
       " 'pydevd_plugins.extensions.types': <module 'pydevd_plugins.extensions.types' from '/home/meet/miniconda3/lib/python3.11/site-packages/debugpy/_vendored/pydevd/pydevd_plugins/extensions/types/__init__.py'>,\n",
       " 'pydevd_plugins.extensions.types.pydevd_helpers': <module 'pydevd_plugins.extensions.types.pydevd_helpers' from '/home/meet/miniconda3/lib/python3.11/site-packages/debugpy/_vendored/pydevd/pydevd_plugins/extensions/types/pydevd_helpers.py'>,\n",
       " 'pydevd_plugins.extensions.types.pydevd_plugin_numpy_types': <module 'pydevd_plugins.extensions.types.pydevd_plugin_numpy_types' from '/home/meet/miniconda3/lib/python3.11/site-packages/debugpy/_vendored/pydevd/pydevd_plugins/extensions/types/pydevd_plugin_numpy_types.py'>,\n",
       " 'pydevd_plugins.extensions.types.pydevd_plugin_pandas_types': <module 'pydevd_plugins.extensions.types.pydevd_plugin_pandas_types' from '/home/meet/miniconda3/lib/python3.11/site-packages/debugpy/_vendored/pydevd/pydevd_plugins/extensions/types/pydevd_plugin_pandas_types.py'>,\n",
       " 'pydevd_plugins.extensions.types.pydevd_plugins_django_form_str': <module 'pydevd_plugins.extensions.types.pydevd_plugins_django_form_str' from '/home/meet/miniconda3/lib/python3.11/site-packages/debugpy/_vendored/pydevd/pydevd_plugins/extensions/types/pydevd_plugins_django_form_str.py'>,\n",
       " 'pydevd': <module 'pydevd' from '/home/meet/miniconda3/lib/python3.11/site-packages/debugpy/_vendored/pydevd/pydevd.py'>,\n",
       " 'debugpy._vendored.force_pydevd': <module 'debugpy._vendored.force_pydevd' from '/home/meet/miniconda3/lib/python3.11/site-packages/debugpy/_vendored/force_pydevd.py'>,\n",
       " 'debugpy.server': <module 'debugpy.server' from '/home/meet/miniconda3/lib/python3.11/site-packages/debugpy/server/__init__.py'>,\n",
       " 'debugpy.adapter': <module 'debugpy.adapter' from '/home/meet/miniconda3/lib/python3.11/site-packages/debugpy/adapter/__init__.py'>,\n",
       " 'debugpy.common': <module 'debugpy.common' from '/home/meet/miniconda3/lib/python3.11/site-packages/debugpy/common/__init__.py'>,\n",
       " 'debugpy.common.json': <module 'debugpy.common.json' from '/home/meet/miniconda3/lib/python3.11/site-packages/debugpy/common/json.py'>,\n",
       " 'debugpy.common.timestamp': <module 'debugpy.common.timestamp' from '/home/meet/miniconda3/lib/python3.11/site-packages/debugpy/common/timestamp.py'>,\n",
       " 'debugpy.common.util': <module 'debugpy.common.util' from '/home/meet/miniconda3/lib/python3.11/site-packages/debugpy/common/util.py'>,\n",
       " 'debugpy.common.log': <module 'debugpy.common.log' from '/home/meet/miniconda3/lib/python3.11/site-packages/debugpy/common/log.py'>,\n",
       " 'debugpy.common.sockets': <module 'debugpy.common.sockets' from '/home/meet/miniconda3/lib/python3.11/site-packages/debugpy/common/sockets.py'>,\n",
       " 'debugpy.server.api': <module 'debugpy.server.api' from '/home/meet/miniconda3/lib/python3.11/site-packages/debugpy/server/api.py'>,\n",
       " 'ipykernel.debugger': <module 'ipykernel.debugger' from '/home/meet/miniconda3/lib/python3.11/site-packages/ipykernel/debugger.py'>,\n",
       " 'packaging': <module 'packaging' from '/home/meet/miniconda3/lib/python3.11/site-packages/packaging/__init__.py'>,\n",
       " 'packaging._structures': <module 'packaging._structures' from '/home/meet/miniconda3/lib/python3.11/site-packages/packaging/_structures.py'>,\n",
       " 'packaging.version': <module 'packaging.version' from '/home/meet/miniconda3/lib/python3.11/site-packages/packaging/version.py'>,\n",
       " 'ipykernel.eventloops': <module 'ipykernel.eventloops' from '/home/meet/miniconda3/lib/python3.11/site-packages/ipykernel/eventloops.py'>,\n",
       " 'IPython.core.payloadpage': <module 'IPython.core.payloadpage' from '/home/meet/miniconda3/lib/python3.11/site-packages/IPython/core/payloadpage.py'>,\n",
       " 'ipykernel.displayhook': <module 'ipykernel.displayhook' from '/home/meet/miniconda3/lib/python3.11/site-packages/ipykernel/displayhook.py'>,\n",
       " 'ipykernel.zmqshell': <module 'ipykernel.zmqshell' from '/home/meet/miniconda3/lib/python3.11/site-packages/ipykernel/zmqshell.py'>,\n",
       " 'ipykernel.ipkernel': <module 'ipykernel.ipkernel' from '/home/meet/miniconda3/lib/python3.11/site-packages/ipykernel/ipkernel.py'>,\n",
       " 'ipykernel.parentpoller': <module 'ipykernel.parentpoller' from '/home/meet/miniconda3/lib/python3.11/site-packages/ipykernel/parentpoller.py'>,\n",
       " 'ipykernel.kernelapp': <module 'ipykernel.kernelapp' from '/home/meet/miniconda3/lib/python3.11/site-packages/ipykernel/kernelapp.py'>,\n",
       " 'tornado.platform': <module 'tornado.platform' from '/home/meet/miniconda3/lib/python3.11/site-packages/tornado/platform/__init__.py'>,\n",
       " 'tornado.platform.asyncio': <module 'tornado.platform.asyncio' from '/home/meet/miniconda3/lib/python3.11/site-packages/tornado/platform/asyncio.py'>,\n",
       " 'faulthandler': <module 'faulthandler' (built-in)>,\n",
       " 'IPython.core.completerlib': <module 'IPython.core.completerlib' from '/home/meet/miniconda3/lib/python3.11/site-packages/IPython/core/completerlib.py'>,\n",
       " 'simplemod': <module 'simplemod' from '/home/meet/Documents/python-mastery/my_solutions/simplemod.py'>}"
      ]
     },
     "execution_count": 10,
     "metadata": {},
     "output_type": "execute_result"
    }
   ],
   "source": [
    "sys.modules"
   ]
  },
  {
   "cell_type": "code",
   "execution_count": 12,
   "metadata": {},
   "outputs": [
    {
     "data": {
      "text/plain": [
       "<module 'simplemod' from '/home/meet/Documents/python-mastery/my_solutions/simplemod.py'>"
      ]
     },
     "execution_count": 12,
     "metadata": {},
     "output_type": "execute_result"
    }
   ],
   "source": [
    "sys.modules['simplemod']"
   ]
  },
  {
   "cell_type": "code",
   "execution_count": 13,
   "metadata": {},
   "outputs": [],
   "source": [
    "del sys.modules['simplemod']"
   ]
  },
  {
   "cell_type": "code",
   "execution_count": 14,
   "metadata": {},
   "outputs": [
    {
     "name": "stdout",
     "output_type": "stream",
     "text": [
      "Loaded simplemod\n"
     ]
    }
   ],
   "source": [
    "import simplemod"
   ]
  },
  {
   "cell_type": "code",
   "execution_count": 1,
   "metadata": {},
   "outputs": [],
   "source": [
    "from simplemod import foo"
   ]
  },
  {
   "cell_type": "code",
   "execution_count": 2,
   "metadata": {},
   "outputs": [
    {
     "name": "stdout",
     "output_type": "stream",
     "text": [
      "x is 42\n"
     ]
    }
   ],
   "source": [
    "foo()"
   ]
  },
  {
   "cell_type": "code",
   "execution_count": 3,
   "metadata": {},
   "outputs": [
    {
     "ename": "NameError",
     "evalue": "name 'simplemod' is not defined",
     "output_type": "error",
     "traceback": [
      "\u001b[0;31m---------------------------------------------------------------------------\u001b[0m",
      "\u001b[0;31mNameError\u001b[0m                                 Traceback (most recent call last)",
      "Cell \u001b[0;32mIn[3], line 1\u001b[0m\n\u001b[0;32m----> 1\u001b[0m simplemod\u001b[38;5;241m.\u001b[39mfoo()\n",
      "\u001b[0;31mNameError\u001b[0m: name 'simplemod' is not defined"
     ]
    }
   ],
   "source": [
    "simplemod.foo()"
   ]
  },
  {
   "cell_type": "code",
   "execution_count": 1,
   "metadata": {},
   "outputs": [
    {
     "name": "stdout",
     "output_type": "stream",
     "text": [
      "Loaded simplemod\n"
     ]
    }
   ],
   "source": [
    "from simplemod import x, foo"
   ]
  },
  {
   "cell_type": "code",
   "execution_count": 2,
   "metadata": {},
   "outputs": [
    {
     "data": {
      "text/plain": [
       "42"
      ]
     },
     "execution_count": 2,
     "metadata": {},
     "output_type": "execute_result"
    }
   ],
   "source": [
    "x"
   ]
  },
  {
   "cell_type": "code",
   "execution_count": 3,
   "metadata": {},
   "outputs": [
    {
     "name": "stdout",
     "output_type": "stream",
     "text": [
      "x is 42\n"
     ]
    }
   ],
   "source": [
    "foo()"
   ]
  },
  {
   "cell_type": "code",
   "execution_count": 4,
   "metadata": {},
   "outputs": [
    {
     "name": "stdout",
     "output_type": "stream",
     "text": [
      "x is 42\n"
     ]
    }
   ],
   "source": [
    "x=13\n",
    "foo()"
   ]
  },
  {
   "cell_type": "code",
   "execution_count": 5,
   "metadata": {},
   "outputs": [
    {
     "data": {
      "text/plain": [
       "13"
      ]
     },
     "execution_count": 5,
     "metadata": {},
     "output_type": "execute_result"
    }
   ],
   "source": [
    "x"
   ]
  },
  {
   "cell_type": "code",
   "execution_count": 1,
   "metadata": {},
   "outputs": [
    {
     "name": "stdout",
     "output_type": "stream",
     "text": [
      "Loaded simplemod\n",
      "Yow!\n"
     ]
    }
   ],
   "source": [
    "import simplemod\n",
    "s= simplemod.Spam()\n",
    "s.yow()"
   ]
  },
  {
   "cell_type": "code",
   "execution_count": 3,
   "metadata": {},
   "outputs": [
    {
     "name": "stdout",
     "output_type": "stream",
     "text": [
      "Loaded simplemod\n"
     ]
    },
    {
     "data": {
      "text/plain": [
       "<module 'simplemod' from '/home/meet/Documents/python-mastery/my_solutions/simplemod.py'>"
      ]
     },
     "execution_count": 3,
     "metadata": {},
     "output_type": "execute_result"
    }
   ],
   "source": [
    "import importlib\n",
    "importlib.reload(simplemod)"
   ]
  },
  {
   "cell_type": "code",
   "execution_count": 4,
   "metadata": {},
   "outputs": [
    {
     "name": "stdout",
     "output_type": "stream",
     "text": [
      "Yow!\n"
     ]
    }
   ],
   "source": [
    "s.yow()"
   ]
  },
  {
   "cell_type": "code",
   "execution_count": 5,
   "metadata": {},
   "outputs": [
    {
     "name": "stdout",
     "output_type": "stream",
     "text": [
      "More Yow!\n"
     ]
    }
   ],
   "source": [
    "t= simplemod.Spam()\n",
    "t.yow()"
   ]
  },
  {
   "cell_type": "code",
   "execution_count": 6,
   "metadata": {},
   "outputs": [
    {
     "data": {
      "text/plain": [
       "<simplemod.Spam at 0x7f0069a029d0>"
      ]
     },
     "execution_count": 6,
     "metadata": {},
     "output_type": "execute_result"
    }
   ],
   "source": [
    "s"
   ]
  },
  {
   "cell_type": "code",
   "execution_count": 7,
   "metadata": {},
   "outputs": [
    {
     "data": {
      "text/plain": [
       "False"
      ]
     },
     "execution_count": 7,
     "metadata": {},
     "output_type": "execute_result"
    }
   ],
   "source": [
    "isinstance(s, simplemod.Spam)"
   ]
  },
  {
   "cell_type": "code",
   "execution_count": 8,
   "metadata": {},
   "outputs": [
    {
     "data": {
      "text/plain": [
       "True"
      ]
     },
     "execution_count": 8,
     "metadata": {},
     "output_type": "execute_result"
    }
   ],
   "source": [
    "isinstance(t,simplemod.Spam)"
   ]
  }
 ],
 "metadata": {
  "kernelspec": {
   "display_name": "base",
   "language": "python",
   "name": "python3"
  },
  "language_info": {
   "codemirror_mode": {
    "name": "ipython",
    "version": 3
   },
   "file_extension": ".py",
   "mimetype": "text/x-python",
   "name": "python",
   "nbconvert_exporter": "python",
   "pygments_lexer": "ipython3",
   "version": "3.11.5"
  }
 },
 "nbformat": 4,
 "nbformat_minor": 2
}
