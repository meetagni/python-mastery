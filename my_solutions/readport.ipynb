{
 "cells": [
  {
   "cell_type": "code",
   "execution_count": 1,
   "metadata": {},
   "outputs": [],
   "source": [
    "from readport import *"
   ]
  },
  {
   "cell_type": "code",
   "execution_count": 2,
   "metadata": {},
   "outputs": [
    {
     "name": "stdout",
     "output_type": "stream",
     "text": [
      "[{'name': 'AA', 'price': 32.2, 'shares': 100},\n",
      " {'name': 'IBM', 'price': 91.1, 'shares': 50},\n",
      " {'name': 'CAT', 'price': 83.44, 'shares': 150},\n",
      " {'name': 'MSFT', 'price': 51.23, 'shares': 200},\n",
      " {'name': 'GE', 'price': 40.37, 'shares': 95},\n",
      " {'name': 'MSFT', 'price': 65.1, 'shares': 50},\n",
      " {'name': 'IBM', 'price': 70.44, 'shares': 100}]\n"
     ]
    }
   ],
   "source": [
    "portfolio = read_portfolio('../Data/portfolio.csv')\n",
    "from pprint import pprint\n",
    "pprint(portfolio)"
   ]
  },
  {
   "cell_type": "code",
   "execution_count": 3,
   "metadata": {},
   "outputs": [
    {
     "data": {
      "text/plain": [
       "[{'name': 'CAT', 'shares': 150, 'price': 83.44},\n",
       " {'name': 'MSFT', 'shares': 200, 'price': 51.23}]"
      ]
     },
     "execution_count": 3,
     "metadata": {},
     "output_type": "execute_result"
    }
   ],
   "source": [
    "[s for s in portfolio if s['shares']>100]"
   ]
  },
  {
   "cell_type": "code",
   "execution_count": 4,
   "metadata": {},
   "outputs": [
    {
     "data": {
      "text/plain": [
       "44671.15"
      ]
     },
     "execution_count": 4,
     "metadata": {},
     "output_type": "execute_result"
    }
   ],
   "source": [
    "sum([s['shares']*s['price'] for s in portfolio])"
   ]
  },
  {
   "cell_type": "code",
   "execution_count": 5,
   "metadata": {},
   "outputs": [
    {
     "data": {
      "text/plain": [
       "{'AA', 'CAT', 'GE', 'IBM', 'MSFT'}"
      ]
     },
     "execution_count": 5,
     "metadata": {},
     "output_type": "execute_result"
    }
   ],
   "source": [
    "{s['name'] for s in portfolio}"
   ]
  },
  {
   "cell_type": "code",
   "execution_count": 6,
   "metadata": {},
   "outputs": [
    {
     "data": {
      "text/plain": [
       "{'AA': 100, 'IBM': 150, 'CAT': 150, 'MSFT': 250, 'GE': 95}"
      ]
     },
     "execution_count": 6,
     "metadata": {},
     "output_type": "execute_result"
    }
   ],
   "source": [
    "totals = {s['name']:0 for s in portfolio}\n",
    "for s in portfolio:\n",
    "    totals[s['name']]+=s['shares']\n",
    "\n",
    "totals"
   ]
  },
  {
   "cell_type": "code",
   "execution_count": 7,
   "metadata": {},
   "outputs": [
    {
     "data": {
      "text/plain": [
       "Counter({'MSFT': 250, 'IBM': 150, 'CAT': 150, 'AA': 100, 'GE': 95})"
      ]
     },
     "execution_count": 7,
     "metadata": {},
     "output_type": "execute_result"
    }
   ],
   "source": [
    "from collections import Counter\n",
    "totals=Counter()\n",
    "for s in portfolio:\n",
    "    totals[s['name']]+=s['shares']\n",
    "    \n",
    "totals"
   ]
  },
  {
   "cell_type": "code",
   "execution_count": 8,
   "metadata": {},
   "outputs": [
    {
     "data": {
      "text/plain": [
       "[('MSFT', 250), ('IBM', 150)]"
      ]
     },
     "execution_count": 8,
     "metadata": {},
     "output_type": "execute_result"
    }
   ],
   "source": [
    "totals.most_common(2)"
   ]
  },
  {
   "cell_type": "code",
   "execution_count": 9,
   "metadata": {},
   "outputs": [
    {
     "data": {
      "text/plain": [
       "Counter({'AA': 200, 'IBM': 75, 'ACME': 30})"
      ]
     },
     "execution_count": 9,
     "metadata": {},
     "output_type": "execute_result"
    }
   ],
   "source": [
    "more=Counter()\n",
    "more['IBM']=75\n",
    "more['AA']=200\n",
    "more['ACME']=30\n",
    "more"
   ]
  },
  {
   "cell_type": "code",
   "execution_count": 10,
   "metadata": {},
   "outputs": [
    {
     "data": {
      "text/plain": [
       "Counter({'MSFT': 250, 'IBM': 150, 'CAT': 150, 'AA': 100, 'GE': 95})"
      ]
     },
     "execution_count": 10,
     "metadata": {},
     "output_type": "execute_result"
    }
   ],
   "source": [
    "totals"
   ]
  },
  {
   "cell_type": "code",
   "execution_count": 11,
   "metadata": {},
   "outputs": [
    {
     "data": {
      "text/plain": [
       "Counter({'AA': 300, 'MSFT': 250, 'IBM': 225, 'CAT': 150, 'GE': 95, 'ACME': 30})"
      ]
     },
     "execution_count": 11,
     "metadata": {},
     "output_type": "execute_result"
    }
   ],
   "source": [
    "totals+more"
   ]
  },
  {
   "cell_type": "code",
   "execution_count": 12,
   "metadata": {},
   "outputs": [],
   "source": [
    "from collections import defaultdict\n",
    "byname= defaultdict(list)\n",
    "for s in portfolio:\n",
    "    byname[s['name']].append(s)"
   ]
  },
  {
   "cell_type": "code",
   "execution_count": 13,
   "metadata": {},
   "outputs": [
    {
     "data": {
      "text/plain": [
       "[{'name': 'IBM', 'shares': 50, 'price': 91.1},\n",
       " {'name': 'IBM', 'shares': 100, 'price': 70.44}]"
      ]
     },
     "execution_count": 13,
     "metadata": {},
     "output_type": "execute_result"
    }
   ],
   "source": [
    "byname['IBM']"
   ]
  },
  {
   "cell_type": "code",
   "execution_count": 14,
   "metadata": {},
   "outputs": [
    {
     "data": {
      "text/plain": [
       "[{'name': 'AA', 'shares': 100, 'price': 32.2}]"
      ]
     },
     "execution_count": 14,
     "metadata": {},
     "output_type": "execute_result"
    }
   ],
   "source": [
    "byname['AA']"
   ]
  },
  {
   "cell_type": "code",
   "execution_count": 15,
   "metadata": {},
   "outputs": [],
   "source": [
    "import readrides\n",
    "rows=readrides.read_rides_as_dictionary('../Data/ctabus.csv')"
   ]
  },
  {
   "cell_type": "code",
   "execution_count": 16,
   "metadata": {},
   "outputs": [
    {
     "data": {
      "text/plain": [
       "[{'route': '3', 'date': '01/01/2001', 'daytype': 'U', 'rides': 7354},\n",
       " {'route': '4', 'date': '01/01/2001', 'daytype': 'U', 'rides': 9288},\n",
       " {'route': '6', 'date': '01/01/2001', 'daytype': 'U', 'rides': 6048},\n",
       " {'route': '8', 'date': '01/01/2001', 'daytype': 'U', 'rides': 6309},\n",
       " {'route': '9', 'date': '01/01/2001', 'daytype': 'U', 'rides': 11207}]"
      ]
     },
     "execution_count": 16,
     "metadata": {},
     "output_type": "execute_result"
    }
   ],
   "source": [
    "rows[:5]"
   ]
  },
  {
   "cell_type": "code",
   "execution_count": 17,
   "metadata": {},
   "outputs": [
    {
     "data": {
      "text/plain": [
       "181"
      ]
     },
     "execution_count": 17,
     "metadata": {},
     "output_type": "execute_result"
    }
   ],
   "source": [
    "#How many bus routes exist in Chicago?\n",
    "len({r['route'] for r in rows})"
   ]
  },
  {
   "cell_type": "code",
   "execution_count": 26,
   "metadata": {},
   "outputs": [],
   "source": [
    "#How many people rode the number 22 bus on February 2, 2011? What about any route on any date of your choosing?\n",
    "def how_many(route, date):\n",
    "    for r in rows:\n",
    "        if r['route']==route and r['date']==date:\n",
    "            print(\"Rides:\",r['rides'])\n",
    "            return r"
   ]
  },
  {
   "cell_type": "code",
   "execution_count": 27,
   "metadata": {},
   "outputs": [
    {
     "name": "stdout",
     "output_type": "stream",
     "text": [
      "Rides: 6048\n"
     ]
    },
    {
     "data": {
      "text/plain": [
       "{'route': '6', 'date': '01/01/2001', 'daytype': 'U', 'rides': 6048}"
      ]
     },
     "execution_count": 27,
     "metadata": {},
     "output_type": "execute_result"
    }
   ],
   "source": [
    "how_many(route='6', date='01/01/2001')"
   ]
  },
  {
   "cell_type": "code",
   "execution_count": 20,
   "metadata": {},
   "outputs": [
    {
     "data": {
      "text/plain": [
       "Counter({'79': 133796763,\n",
       "         '9': 117923787,\n",
       "         '49': 95915008,\n",
       "         '4': 95309438,\n",
       "         '66': 93053461,\n",
       "         '151': 89524268,\n",
       "         '22': 89380790,\n",
       "         '3': 89211071,\n",
       "         '77': 88484043,\n",
       "         '53': 86884085,\n",
       "         '20': 86679321,\n",
       "         '63': 86609336,\n",
       "         '8': 84362672,\n",
       "         '82': 74427970,\n",
       "         '36': 68780696,\n",
       "         '72': 66184985,\n",
       "         '87': 65522213,\n",
       "         '29': 65048709,\n",
       "         '81': 59612673,\n",
       "         '67': 57880229,\n",
       "         '62': 53418231,\n",
       "         '60': 52860939,\n",
       "         '55': 52724358,\n",
       "         '6': 52654473,\n",
       "         '147': 52379267,\n",
       "         '56': 52280435,\n",
       "         '74': 52111931,\n",
       "         '80': 51543475,\n",
       "         '12': 51168351,\n",
       "         '52': 49851059,\n",
       "         '85': 49776812,\n",
       "         '54': 47976060,\n",
       "         '76': 47452382,\n",
       "         '47': 44111483,\n",
       "         '70': 42640960,\n",
       "         '146': 42089695,\n",
       "         '71': 41754367,\n",
       "         '14': 41094492,\n",
       "         '152': 40352452,\n",
       "         '94': 39817262,\n",
       "         '78': 35433146,\n",
       "         '21': 35216129,\n",
       "         '50': 34166525,\n",
       "         '126': 33268789,\n",
       "         '28': 33033639,\n",
       "         '75': 32597029,\n",
       "         '91': 32296856,\n",
       "         '53A': 31898628,\n",
       "         '92': 29983360,\n",
       "         '155': 29450367,\n",
       "         '156': 28882051,\n",
       "         '65': 28161390,\n",
       "         '15': 26149468,\n",
       "         '34': 25709239,\n",
       "         '145': 25428790,\n",
       "         'X49': 24110395,\n",
       "         '119': 24028072,\n",
       "         '111': 23663300,\n",
       "         '35': 22291648,\n",
       "         '44': 22004694,\n",
       "         '73': 21639876,\n",
       "         '95E': 21582109,\n",
       "         '52A': 21178110,\n",
       "         '49B': 20997838,\n",
       "         '7': 20243195,\n",
       "         '90': 20101625,\n",
       "         '95W': 19915671,\n",
       "         '54B': 18198815,\n",
       "         '84': 16305261,\n",
       "         '11': 16060502,\n",
       "         '8A': 15512245,\n",
       "         '97': 14790421,\n",
       "         '103': 13649517,\n",
       "         '59': 13638703,\n",
       "         '30': 13245844,\n",
       "         '112': 12701781,\n",
       "         '1': 12380996,\n",
       "         '24': 12324872,\n",
       "         '157': 12044995,\n",
       "         '57': 11526282,\n",
       "         '51': 11434393,\n",
       "         '93': 11126570,\n",
       "         '135': 10639369,\n",
       "         'X9': 9727671,\n",
       "         '18': 8788532,\n",
       "         '108': 7958095,\n",
       "         '106': 7660770,\n",
       "         '125': 7472645,\n",
       "         '63W': 7344219,\n",
       "         '86': 7186914,\n",
       "         '2': 7079897,\n",
       "         'X80': 7076090,\n",
       "         'X28': 7073855,\n",
       "         '136': 6726484,\n",
       "         '81W': 6662813,\n",
       "         '26': 6655877,\n",
       "         '134': 6577698,\n",
       "         '39': 6410389,\n",
       "         '201': 6087210,\n",
       "         '88': 6057455,\n",
       "         '43': 5996263,\n",
       "         '68': 5630989,\n",
       "         '121': 4986698,\n",
       "         'X54': 4942098,\n",
       "         '148': 4920748,\n",
       "         'X55': 4848920,\n",
       "         '124': 4770015,\n",
       "         '171': 4744053,\n",
       "         '62H': 4668296,\n",
       "         '27': 4588654,\n",
       "         '172': 4508251,\n",
       "         '120': 4389068,\n",
       "         '37': 3965341,\n",
       "         '54A': 3673818,\n",
       "         '48': 3669229,\n",
       "         '1001': 3447912,\n",
       "         '96': 3343405,\n",
       "         '85A': 3275028,\n",
       "         '100': 3146418,\n",
       "         'J14': 3073437,\n",
       "         '143': 3047504,\n",
       "         '129': 2937283,\n",
       "         '205': 2721818,\n",
       "         '55N': 2622561,\n",
       "         '144': 2581625,\n",
       "         '10': 2486917,\n",
       "         'X4': 2439238,\n",
       "         '56A': 2410058,\n",
       "         '123': 2241706,\n",
       "         'X3': 2225982,\n",
       "         '206': 2190873,\n",
       "         '122': 2075144,\n",
       "         '33': 2011513,\n",
       "         'X20': 1980920,\n",
       "         '49A': 1882331,\n",
       "         '127': 1684356,\n",
       "         '17': 1535165,\n",
       "         '38': 1500952,\n",
       "         '192': 1387081,\n",
       "         '90N': 1360211,\n",
       "         '69': 1308483,\n",
       "         '169': 1282996,\n",
       "         '5': 1224396,\n",
       "         '170': 1001109,\n",
       "         'R95': 972858,\n",
       "         '203': 968082,\n",
       "         '204': 916940,\n",
       "         '130': 814952,\n",
       "         'X98': 794267,\n",
       "         '115': 773755,\n",
       "         '53AL': 664698,\n",
       "         '25': 632161,\n",
       "         'R63': 629465,\n",
       "         '154': 617888,\n",
       "         '64': 599089,\n",
       "         '19': 566505,\n",
       "         '132': 522313,\n",
       "         'X21': 496415,\n",
       "         '173': 443496,\n",
       "         '55A': 417388,\n",
       "         'R79': 345494,\n",
       "         '174': 302560,\n",
       "         'R22': 279556,\n",
       "         '202': 276827,\n",
       "         'R87': 269043,\n",
       "         '200': 234800,\n",
       "         '128': 176670,\n",
       "         '168': 164912,\n",
       "         'R69': 158023,\n",
       "         '165': 140129,\n",
       "         '1002': 108109,\n",
       "         '69BR': 85938,\n",
       "         'R55': 69200,\n",
       "         'X99': 54099,\n",
       "         'N201': 44750,\n",
       "         '40': 38447,\n",
       "         '137': 25617,\n",
       "         '290S': 7308,\n",
       "         '290': 4440,\n",
       "         '95': 2313,\n",
       "         'R39': 398})"
      ]
     },
     "execution_count": 20,
     "metadata": {},
     "output_type": "execute_result"
    }
   ],
   "source": [
    "#What is the total number of rides taken on each bus route?\n",
    "byroute=Counter()\n",
    "for r in rows:\n",
    "    byroute[r['route']]+=r['rides']\n",
    "byroute"
   ]
  },
  {
   "cell_type": "code",
   "execution_count": 21,
   "metadata": {},
   "outputs": [
    {
     "data": {
      "text/plain": [
       "Counter({'79': 10376955,\n",
       "         '9': 9886058,\n",
       "         '49': 7986394,\n",
       "         '151': 7875028,\n",
       "         '4': 7620323,\n",
       "         '63': 7067025,\n",
       "         '3': 6993576,\n",
       "         '20': 6885826,\n",
       "         '22': 6862942,\n",
       "         '53': 6815133,\n",
       "         '66': 6626565,\n",
       "         '77': 6473647,\n",
       "         '8': 6264919,\n",
       "         '82': 6160880,\n",
       "         '6': 5698781,\n",
       "         '29': 5629680,\n",
       "         '72': 5169224,\n",
       "         '36': 5097382,\n",
       "         '81': 4976563,\n",
       "         '87': 4972997,\n",
       "         '60': 4789845,\n",
       "         '56': 4776361,\n",
       "         '62': 4680824,\n",
       "         '67': 4506163,\n",
       "         '55': 4292011,\n",
       "         '74': 4235960,\n",
       "         '54': 4137678,\n",
       "         '76': 4123899,\n",
       "         '28': 4053620,\n",
       "         '85': 4050238,\n",
       "         '80': 3915661,\n",
       "         '52': 3851865,\n",
       "         '70': 3434069,\n",
       "         '12': 3342244,\n",
       "         '152': 3200144,\n",
       "         '94': 3127972,\n",
       "         '146': 2980291,\n",
       "         '126': 2971856,\n",
       "         '78': 2852575,\n",
       "         '147': 2748180,\n",
       "         '21': 2739904,\n",
       "         '47': 2720300,\n",
       "         '53A': 2718172,\n",
       "         '50': 2598564,\n",
       "         '34': 2516182,\n",
       "         '91': 2407617,\n",
       "         '71': 2382386,\n",
       "         '145': 2378017,\n",
       "         '155': 2377654,\n",
       "         '14': 2339945,\n",
       "         '92': 2309255,\n",
       "         '75': 2279296,\n",
       "         '156': 2196304,\n",
       "         '65': 2114959,\n",
       "         '52A': 1995117,\n",
       "         '95E': 1936791,\n",
       "         '35': 1909701,\n",
       "         '44': 1846493,\n",
       "         '27': 1803973,\n",
       "         '111': 1799231,\n",
       "         '1': 1781200,\n",
       "         '119': 1754259,\n",
       "         '95W': 1680727,\n",
       "         '54B': 1676553,\n",
       "         '49B': 1631734,\n",
       "         '51': 1590453,\n",
       "         '73': 1509176,\n",
       "         'X49': 1484410,\n",
       "         '7': 1388596,\n",
       "         '84': 1258974,\n",
       "         '90': 1235660,\n",
       "         '59': 1186755,\n",
       "         '97': 1161310,\n",
       "         '30': 1142209,\n",
       "         '103': 1114025,\n",
       "         '24': 1098875,\n",
       "         '112': 1084595,\n",
       "         '8A': 1067236,\n",
       "         '11': 1057997,\n",
       "         '57': 886769,\n",
       "         '157': 832650,\n",
       "         '108': 756537,\n",
       "         '135': 747629,\n",
       "         '63W': 658482,\n",
       "         '106': 652499,\n",
       "         '37': 613354,\n",
       "         '93': 608507,\n",
       "         '125': 585988,\n",
       "         '39': 574388,\n",
       "         '88': 522243,\n",
       "         '18': 512354,\n",
       "         '136': 480496,\n",
       "         '86': 472661,\n",
       "         '68': 456010,\n",
       "         '81W': 442074,\n",
       "         '204': 412783,\n",
       "         '201': 410732,\n",
       "         '62H': 395340,\n",
       "         '43': 384227,\n",
       "         '203': 384154,\n",
       "         '121': 369391,\n",
       "         '54A': 338223,\n",
       "         '96': 332912,\n",
       "         '100': 294377,\n",
       "         '48': 275339,\n",
       "         '55N': 273142,\n",
       "         '122': 264030,\n",
       "         '172': 244083,\n",
       "         '2': 243029,\n",
       "         '171': 240334,\n",
       "         '85A': 232544,\n",
       "         '120': 217084,\n",
       "         '169': 216484,\n",
       "         '123': 206345,\n",
       "         '129': 188104,\n",
       "         '33': 178096,\n",
       "         '56A': 161766,\n",
       "         '17': 150504,\n",
       "         '49A': 131729,\n",
       "         '10': 130281,\n",
       "         '202': 110987,\n",
       "         '69': 104144,\n",
       "         '25': 103757,\n",
       "         '90N': 103532,\n",
       "         'X21': 76883,\n",
       "         '64': 62971,\n",
       "         '19': 62405,\n",
       "         '173': 60567,\n",
       "         '170': 58671,\n",
       "         '127': 46102,\n",
       "         '124': 25734,\n",
       "         '137': 25617,\n",
       "         '128': 18277,\n",
       "         '130': 16076,\n",
       "         '154': 1552,\n",
       "         '290S': 1085,\n",
       "         '168': 41})"
      ]
     },
     "execution_count": 21,
     "metadata": {},
     "output_type": "execute_result"
    }
   ],
   "source": [
    "#What five bus routes had the greatest ten-year increase in ridership from 2001 to 2011?\n",
    "in_2001=Counter()\n",
    "in_2011=Counter()\n",
    "import datetime\n",
    "#row_mod= datetime.datetime.strptime(rows['date'])\n",
    "for r in rows:\n",
    "    if r['date'].endswith(\"2001\"):\n",
    "        in_2001[r['route']]+=r['rides']\n",
    "    elif r['date'].endswith(\"2011\"):\n",
    "        in_2011[r['route']]+=r['rides']\n",
    "        \n",
    "in_2001"
   ]
  },
  {
   "cell_type": "code",
   "execution_count": 22,
   "metadata": {},
   "outputs": [
    {
     "data": {
      "text/plain": [
       "Counter({'79': 10416651,\n",
       "         '9': 10032506,\n",
       "         '49': 9169585,\n",
       "         '66': 8239523,\n",
       "         '4': 7603945,\n",
       "         '77': 7474921,\n",
       "         '22': 7392947,\n",
       "         '8': 7319868,\n",
       "         '151': 7194052,\n",
       "         '3': 7052581,\n",
       "         '53': 7001213,\n",
       "         '63': 6692553,\n",
       "         '20': 6388553,\n",
       "         '82': 6115943,\n",
       "         '36': 5838170,\n",
       "         '72': 5460583,\n",
       "         '87': 5149272,\n",
       "         '12': 4954311,\n",
       "         '147': 4856090,\n",
       "         '29': 4796752,\n",
       "         '80': 4782377,\n",
       "         '67': 4732739,\n",
       "         '81': 4679131,\n",
       "         '55': 4415810,\n",
       "         '52': 4332366,\n",
       "         '74': 4314557,\n",
       "         '54': 4178292,\n",
       "         '6': 3819163,\n",
       "         '62': 3779859,\n",
       "         '60': 3749638,\n",
       "         '76': 3742280,\n",
       "         '85': 3724072,\n",
       "         '47': 3715630,\n",
       "         '14': 3691253,\n",
       "         '56': 3418273,\n",
       "         '71': 3384021,\n",
       "         '146': 3320202,\n",
       "         '70': 3188048,\n",
       "         '152': 3132255,\n",
       "         '21': 3126243,\n",
       "         '94': 3113772,\n",
       "         '50': 3111303,\n",
       "         '78': 2897109,\n",
       "         '15': 2732209,\n",
       "         '75': 2672342,\n",
       "         '65': 2596218,\n",
       "         '155': 2580425,\n",
       "         '53A': 2548273,\n",
       "         '91': 2437246,\n",
       "         '92': 2383650,\n",
       "         '126': 2187299,\n",
       "         '156': 2146276,\n",
       "         '145': 2118052,\n",
       "         '34': 2020449,\n",
       "         '119': 1987214,\n",
       "         '111': 1970043,\n",
       "         '73': 1853125,\n",
       "         '7': 1817591,\n",
       "         '49B': 1791512,\n",
       "         '28': 1724233,\n",
       "         '90': 1680411,\n",
       "         '11': 1658939,\n",
       "         '35': 1640031,\n",
       "         '95E': 1588244,\n",
       "         '95W': 1573191,\n",
       "         '44': 1482662,\n",
       "         '52A': 1433222,\n",
       "         '157': 1414407,\n",
       "         '54B': 1346079,\n",
       "         '84': 1337528,\n",
       "         '97': 1330315,\n",
       "         '8A': 1328043,\n",
       "         '18': 1167860,\n",
       "         '59': 1110359,\n",
       "         'X28': 1087225,\n",
       "         '30': 1077222,\n",
       "         '103': 1065688,\n",
       "         '135': 976206,\n",
       "         '93': 948460,\n",
       "         '57': 917853,\n",
       "         '24': 886444,\n",
       "         '112': 882345,\n",
       "         '134': 771847,\n",
       "         '26': 769083,\n",
       "         '1': 734910,\n",
       "         '2': 706346,\n",
       "         '86': 698847,\n",
       "         '51': 690503,\n",
       "         '43': 659344,\n",
       "         '106': 631631,\n",
       "         '201': 613735,\n",
       "         '148': 598968,\n",
       "         '39': 573545,\n",
       "         '136': 569030,\n",
       "         '108': 536041,\n",
       "         '172': 527904,\n",
       "         '81W': 507605,\n",
       "         '63W': 506465,\n",
       "         '125': 481523,\n",
       "         '124': 408028,\n",
       "         '68': 395103,\n",
       "         '88': 394558,\n",
       "         '62H': 388722,\n",
       "         '143': 367421,\n",
       "         '171': 348523,\n",
       "         '48': 314382,\n",
       "         '205': 283134,\n",
       "         '144': 277345,\n",
       "         '121': 275088,\n",
       "         '129': 273780,\n",
       "         '54A': 270527,\n",
       "         '85A': 265528,\n",
       "         '10': 261400,\n",
       "         '96': 238211,\n",
       "         '100': 237112,\n",
       "         '192': 220198,\n",
       "         '5': 203899,\n",
       "         '56A': 199284,\n",
       "         '120': 195483,\n",
       "         '206': 190939,\n",
       "         '55N': 165103,\n",
       "         '33': 160702,\n",
       "         '49A': 153934,\n",
       "         '130': 143414,\n",
       "         '122': 126029,\n",
       "         '17': 125534,\n",
       "         '123': 124971,\n",
       "         '69': 123278,\n",
       "         '90N': 121222,\n",
       "         '169': 92416,\n",
       "         '132': 83301,\n",
       "         '170': 75780,\n",
       "         '55A': 63133,\n",
       "         '64': 46198,\n",
       "         '154': 44734,\n",
       "         'X98': 37518,\n",
       "         '19': 26435,\n",
       "         '165': 17774,\n",
       "         '1001': 14364,\n",
       "         'N201': 13263,\n",
       "         '128': 12536})"
      ]
     },
     "execution_count": 22,
     "metadata": {},
     "output_type": "execute_result"
    }
   ],
   "source": [
    "in_2011"
   ]
  },
  {
   "cell_type": "code",
   "execution_count": 23,
   "metadata": {},
   "outputs": [
    {
     "data": {
      "text/plain": [
       "[('15', 2732209),\n",
       " ('147', 2107910),\n",
       " ('66', 1612958),\n",
       " ('12', 1612067),\n",
       " ('14', 1351308)]"
      ]
     },
     "execution_count": 23,
     "metadata": {},
     "output_type": "execute_result"
    }
   ],
   "source": [
    "diff=in_2011-in_2001\n",
    "#from collections import OrderedDict\n",
    "#diff_sorted=OrderedDict(sorted(diff.items(),reverse=True, key=lambda x:x[1]))\n",
    "diff.most_common(5)"
   ]
  }
 ],
 "metadata": {
  "kernelspec": {
   "display_name": "Python 3",
   "language": "python",
   "name": "python3"
  },
  "language_info": {
   "codemirror_mode": {
    "name": "ipython",
    "version": 3
   },
   "file_extension": ".py",
   "mimetype": "text/x-python",
   "name": "python",
   "nbconvert_exporter": "python",
   "pygments_lexer": "ipython3",
   "version": "3.11.5"
  },
  "orig_nbformat": 4
 },
 "nbformat": 4,
 "nbformat_minor": 2
}
