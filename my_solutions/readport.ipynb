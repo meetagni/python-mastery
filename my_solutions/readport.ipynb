{
 "cells": [
  {
   "cell_type": "code",
   "execution_count": 1,
   "metadata": {},
   "outputs": [],
   "source": [
    "from readport import *"
   ]
  },
  {
   "cell_type": "code",
   "execution_count": 2,
   "metadata": {},
   "outputs": [
    {
     "name": "stdout",
     "output_type": "stream",
     "text": [
      "[{'name': 'AA', 'price': 32.2, 'shares': 100},\n",
      " {'name': 'IBM', 'price': 91.1, 'shares': 50},\n",
      " {'name': 'CAT', 'price': 83.44, 'shares': 150},\n",
      " {'name': 'MSFT', 'price': 51.23, 'shares': 200},\n",
      " {'name': 'GE', 'price': 40.37, 'shares': 95},\n",
      " {'name': 'MSFT', 'price': 65.1, 'shares': 50},\n",
      " {'name': 'IBM', 'price': 70.44, 'shares': 100}]\n"
     ]
    }
   ],
   "source": [
    "portfolio = read_portfolio('../Data/portfolio.csv')\n",
    "from pprint import pprint\n",
    "pprint(portfolio)"
   ]
  },
  {
   "cell_type": "code",
   "execution_count": 3,
   "metadata": {},
   "outputs": [
    {
     "data": {
      "text/plain": [
       "[{'name': 'CAT', 'shares': 150, 'price': 83.44},\n",
       " {'name': 'MSFT', 'shares': 200, 'price': 51.23}]"
      ]
     },
     "execution_count": 3,
     "metadata": {},
     "output_type": "execute_result"
    }
   ],
   "source": [
    "[s for s in portfolio if s['shares']>100]"
   ]
  },
  {
   "cell_type": "code",
   "execution_count": 4,
   "metadata": {},
   "outputs": [
    {
     "data": {
      "text/plain": [
       "44671.15"
      ]
     },
     "execution_count": 4,
     "metadata": {},
     "output_type": "execute_result"
    }
   ],
   "source": [
    "sum([s['shares']*s['price'] for s in portfolio])"
   ]
  },
  {
   "cell_type": "code",
   "execution_count": 5,
   "metadata": {},
   "outputs": [
    {
     "data": {
      "text/plain": [
       "{'AA', 'CAT', 'GE', 'IBM', 'MSFT'}"
      ]
     },
     "execution_count": 5,
     "metadata": {},
     "output_type": "execute_result"
    }
   ],
   "source": [
    "{s['name'] for s in portfolio}"
   ]
  },
  {
   "cell_type": "code",
   "execution_count": 6,
   "metadata": {},
   "outputs": [
    {
     "data": {
      "text/plain": [
       "{'AA': 100, 'IBM': 150, 'CAT': 150, 'MSFT': 250, 'GE': 95}"
      ]
     },
     "execution_count": 6,
     "metadata": {},
     "output_type": "execute_result"
    }
   ],
   "source": [
    "totals = {s['name']:0 for s in portfolio}\n",
    "for s in portfolio:\n",
    "    totals[s['name']]+=s['shares']\n",
    "\n",
    "totals"
   ]
  },
  {
   "cell_type": "code",
   "execution_count": 7,
   "metadata": {},
   "outputs": [
    {
     "data": {
      "text/plain": [
       "Counter({'MSFT': 250, 'IBM': 150, 'CAT': 150, 'AA': 100, 'GE': 95})"
      ]
     },
     "execution_count": 7,
     "metadata": {},
     "output_type": "execute_result"
    }
   ],
   "source": [
    "from collections import Counter\n",
    "totals=Counter()\n",
    "for s in portfolio:\n",
    "    totals[s['name']]+=s['shares']\n",
    "    \n",
    "totals"
   ]
  },
  {
   "cell_type": "code",
   "execution_count": 8,
   "metadata": {},
   "outputs": [
    {
     "data": {
      "text/plain": [
       "[('MSFT', 250), ('IBM', 150)]"
      ]
     },
     "execution_count": 8,
     "metadata": {},
     "output_type": "execute_result"
    }
   ],
   "source": [
    "totals.most_common(2)"
   ]
  },
  {
   "cell_type": "code",
   "execution_count": 9,
   "metadata": {},
   "outputs": [
    {
     "data": {
      "text/plain": [
       "Counter({'AA': 200, 'IBM': 75, 'ACME': 30})"
      ]
     },
     "execution_count": 9,
     "metadata": {},
     "output_type": "execute_result"
    }
   ],
   "source": [
    "more=Counter()\n",
    "more['IBM']=75\n",
    "more['AA']=200\n",
    "more['ACME']=30\n",
    "more"
   ]
  },
  {
   "cell_type": "code",
   "execution_count": 10,
   "metadata": {},
   "outputs": [
    {
     "data": {
      "text/plain": [
       "Counter({'MSFT': 250, 'IBM': 150, 'CAT': 150, 'AA': 100, 'GE': 95})"
      ]
     },
     "execution_count": 10,
     "metadata": {},
     "output_type": "execute_result"
    }
   ],
   "source": [
    "totals"
   ]
  },
  {
   "cell_type": "code",
   "execution_count": 11,
   "metadata": {},
   "outputs": [
    {
     "data": {
      "text/plain": [
       "Counter({'AA': 300, 'MSFT': 250, 'IBM': 225, 'CAT': 150, 'GE': 95, 'ACME': 30})"
      ]
     },
     "execution_count": 11,
     "metadata": {},
     "output_type": "execute_result"
    }
   ],
   "source": [
    "totals+more"
   ]
  },
  {
   "cell_type": "code",
   "execution_count": 12,
   "metadata": {},
   "outputs": [],
   "source": [
    "from collections import defaultdict\n",
    "byname= defaultdict(list)\n",
    "for s in portfolio:\n",
    "    byname[s['name']].append(s)"
   ]
  },
  {
   "cell_type": "code",
   "execution_count": 13,
   "metadata": {},
   "outputs": [
    {
     "data": {
      "text/plain": [
       "[{'name': 'IBM', 'shares': 50, 'price': 91.1},\n",
       " {'name': 'IBM', 'shares': 100, 'price': 70.44}]"
      ]
     },
     "execution_count": 13,
     "metadata": {},
     "output_type": "execute_result"
    }
   ],
   "source": [
    "byname['IBM']"
   ]
  },
  {
   "cell_type": "code",
   "execution_count": 14,
   "metadata": {},
   "outputs": [
    {
     "data": {
      "text/plain": [
       "[{'name': 'AA', 'shares': 100, 'price': 32.2}]"
      ]
     },
     "execution_count": 14,
     "metadata": {},
     "output_type": "execute_result"
    }
   ],
   "source": [
    "byname['AA']"
   ]
  },
  {
   "cell_type": "code",
   "execution_count": 15,
   "metadata": {},
   "outputs": [],
   "source": [
    "import readrides\n",
    "rows=readrides.read_rides_as_dictionary('../Data/ctabus.csv')"
   ]
  },
  {
   "cell_type": "code",
   "execution_count": 16,
   "metadata": {},
   "outputs": [
    {
     "data": {
      "text/plain": [
       "[{'route': '3', 'date': '01/01/2001', 'daytype': 'U', 'rides': 7354},\n",
       " {'route': '4', 'date': '01/01/2001', 'daytype': 'U', 'rides': 9288},\n",
       " {'route': '6', 'date': '01/01/2001', 'daytype': 'U', 'rides': 6048},\n",
       " {'route': '8', 'date': '01/01/2001', 'daytype': 'U', 'rides': 6309},\n",
       " {'route': '9', 'date': '01/01/2001', 'daytype': 'U', 'rides': 11207}]"
      ]
     },
     "execution_count": 16,
     "metadata": {},
     "output_type": "execute_result"
    }
   ],
   "source": [
    "rows[:5]"
   ]
  },
  {
   "cell_type": "code",
   "execution_count": 17,
   "metadata": {},
   "outputs": [
    {
     "data": {
      "text/plain": [
       "181"
      ]
     },
     "execution_count": 17,
     "metadata": {},
     "output_type": "execute_result"
    }
   ],
   "source": [
    "#How many bus routes exist in Chicago?\n",
    "len({r['route'] for r in rows})"
   ]
  },
  {
   "cell_type": "code",
   "execution_count": 18,
   "metadata": {},
   "outputs": [],
   "source": [
    "#How many people rode the number 22 bus on February 2, 2011? What about any route on any date of your choosing?\n",
    "def how_many(route, date):\n",
    "    for r in rows:\n",
    "        if r['route']==route and r['date']==date:\n",
    "            return r"
   ]
  },
  {
   "cell_type": "code",
   "execution_count": 19,
   "metadata": {},
   "outputs": [
    {
     "data": {
      "text/plain": [
       "{'route': '6', 'date': '01/01/2001', 'daytype': 'U', 'rides': 6048}"
      ]
     },
     "execution_count": 19,
     "metadata": {},
     "output_type": "execute_result"
    }
   ],
   "source": [
    "how_many(route='6', date='01/01/2001')"
   ]
  },
  {
   "cell_type": "code",
   "execution_count": 20,
   "metadata": {},
   "outputs": [],
   "source": [
    "#What is the total number of rides taken on each bus route?\n",
    "byroute=defaultdict()\n"
   ]
  }
 ],
 "metadata": {
  "kernelspec": {
   "display_name": "Python 3",
   "language": "python",
   "name": "python3"
  },
  "language_info": {
   "codemirror_mode": {
    "name": "ipython",
    "version": 3
   },
   "file_extension": ".py",
   "mimetype": "text/x-python",
   "name": "python",
   "nbconvert_exporter": "python",
   "pygments_lexer": "ipython3",
   "version": "3.11.4"
  },
  "orig_nbformat": 4
 },
 "nbformat": 4,
 "nbformat_minor": 2
}
